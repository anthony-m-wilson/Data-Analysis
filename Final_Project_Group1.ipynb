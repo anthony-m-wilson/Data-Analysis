{
  "nbformat": 4,
  "nbformat_minor": 0,
  "metadata": {
    "colab": {
      "provenance": [],
      "collapsed_sections": [
        "BjrRP7zYgqh6",
        "U0OpTztXlAtw",
        "8uL9EIjsl7IC",
        "TSRJvUqpoHXf"
      ],
      "include_colab_link": true
    },
    "kernelspec": {
      "name": "python3",
      "display_name": "Python 3"
    },
    "language_info": {
      "name": "python"
    }
  },
  "cells": [
    {
      "cell_type": "markdown",
      "metadata": {
        "id": "view-in-github",
        "colab_type": "text"
      },
      "source": [
        "<a href=\"https://colab.research.google.com/github/anthony-m-wilson/Data-Analysis/blob/main/Final_Project_Group1.ipynb\" target=\"_parent\"><img src=\"https://colab.research.google.com/assets/colab-badge.svg\" alt=\"Open In Colab\"/></a>"
      ]
    },
    {
      "cell_type": "markdown",
      "source": [
        "# **Final Project**\n",
        "# DATA 3300"
      ],
      "metadata": {
        "id": "vI3HQgIIpbop"
      }
    },
    {
      "cell_type": "markdown",
      "source": [
        "## Names: Emily Merkey, Abigail Garrard, Jaiden Roper, Anthony Wilson"
      ],
      "metadata": {
        "id": "QsznjXNDphHS"
      }
    },
    {
      "cell_type": "markdown",
      "source": [
        "## **Summary**\n",
        "\n",
        "**This assignment is broken down into five parts: 170 pts**\n",
        "\n",
        "1.   **Data Preparation & Data Understanding (40 pts)**\n",
        "2.   **Unsupervised DM (26 pts)**\n",
        "3.   **Supervised DM Technique 1 (27 pts)**\n",
        "4.   **Supervised DM Technique 2 (27 pts**)\n",
        "5.   **Evaluation of Models & Business Recommendations (50 pts)**\n",
        "\n",
        "***Each part can be started now, except Part 5. Complete Parts 3 and 4 in order to proceed with Part 5.***\n",
        "\n",
        "\n",
        "\n"
      ],
      "metadata": {
        "id": "FOfEKUMppuD_"
      }
    },
    {
      "cell_type": "markdown",
      "source": [
        "## **Part 1: Data Preparation & Understanding**\n",
        "\n",
        "### **1A**\n",
        "### **Data Preparation (16 pts)**\n",
        "\n",
        "**Import the manager_performance.csv dataset into Python, and clean/transform this data set. If you need some reminders about how to do this, revisit the data preparation module!**\n",
        "\n",
        "\n",
        "\n",
        "*   **Think about any ethical concerns regarding this dataset. Remove any columns that personally identify employees or could be used to discriminate against employees (sex, marital status, age, sexual orientation, etc.).**\n",
        "*   **Go through each attribute column and perform various data transformations necessary to cleanse the dataset. For each attribute/column, report each data cleansing step performed and the underlying assumption as to why the data cleansing action was performed.**\n",
        "  *   **Do not simply state that “all columns were trimmed” or restate the cleansing action itself.**\n",
        "  *   **State the assumption (e.g., “M” was changed to “Male” because it was assumed that “M” indicated “Male” in this dataset.).**\n",
        "  *   **Also, if no data transformations were made, state your assumption here as well (all data were assumed to be correct/clean).**\n",
        "\n",
        "\n",
        "*When you're finished performing all cleaning steps, please display a heading of your finalized df.*\n",
        "\n",
        "**For this portion of the assignment, fill in the information below to indicate the cleaning actions taken and the assumptions you made. `Manager_ID` has already been filled in, to provide an example.**"
      ],
      "metadata": {
        "id": "G9Nyy7B2qXl7"
      }
    },
    {
      "cell_type": "markdown",
      "source": [
        "## **Data Transformations & Assumptions Outline**\n",
        "\n",
        "* **Manager_ID**\n",
        "  * **Action**: None\n",
        "  * **Assumption**: All values appear correct with no duplicates\n",
        "* **First_Name**\n",
        "  * **Action**: Delete\n",
        "  * **Assumption**: Personal identifier\n",
        "* **Last_Name**\n",
        "  * **Action**: Delete\n",
        "  * **Asumption**: Personal identifier\n",
        "* **Age**\n",
        "  * **Action**: Delete\n",
        "  * **Assumption**: Ethical/descrimintory concern\n",
        "* **Time_Employed**\n",
        "  * **Action**: Replace O with 0\n",
        "  * **Assumption**: O was changed to 0 because we assumed it was inputted incorreclty.\n",
        "* **Num_Prev_Positions**\n",
        "  * **Action**: Replace zero with 0\n",
        "  * **Assumption**: Zero was changed to 0 because we assumed it was inputted incorrectly.\n",
        "* **Teamwork**\n",
        "  * **Action**: Replace 100 with 10\n",
        "  * **Assumption**: 100 was changed to 10 because we assumed a typo accured since 100 is not on the scale from 1-10.\n",
        "* **Motivation**\n",
        "  * **Action**: None\n",
        "  * **Assumption**: All values appear correct with no duplicates\n",
        "* **Leadership**\n",
        "  * **Action**: None\n",
        "  * **Assumption**: All values appear correct with no duplicates\n",
        "* **Performance_Evaluation**\n",
        "  * **Action_1**: Replace Loww with Low\n",
        "  * **Assumption_1**: Loww changed to Low because we assumed an extra letter was added into the data.\n",
        "  * **Action_2**: Replace Highgh with High\n",
        "  * **Assumption_2**: Highgh changed to High because we assumed extra letter were inputted into the date.\n",
        "  * **Action_3**: Replace High  with High\n",
        "  * **Assumption_3**: High  changed to high because we assumed an extra space was inputted into data.\n"
      ],
      "metadata": {
        "id": "-6UdHR0DuFmb"
      }
    },
    {
      "cell_type": "code",
      "execution_count": null,
      "metadata": {
        "id": "24lUOG55pYL7"
      },
      "outputs": [],
      "source": [
        "# import pandas, numpy, seaborn, and matplotlib\n",
        "import pandas as pd\n",
        "import numpy as np\n",
        "import seaborn as sns\n",
        "import matplotlib.pyplot as plt\n",
        "import warnings\n",
        "warnings.filterwarnings(\"ignore\")"
      ]
    },
    {
      "cell_type": "code",
      "source": [
        "# import dataset\n",
        "df = pd.read_csv(\"/content/manager_performance.csv\")\n",
        "pd.set_option(\"display.max_rows\", None, \"display.max_columns\", None)\n",
        "# preview dataset\n",
        "df.head()"
      ],
      "metadata": {
        "id": "XjHTvFESy488",
        "colab": {
          "base_uri": "https://localhost:8080/",
          "height": 270
        },
        "outputId": "3ca1b4b8-6159-44c0-b25e-7abbdd7b075d"
      },
      "execution_count": null,
      "outputs": [
        {
          "output_type": "execute_result",
          "data": {
            "text/plain": [
              "   Manager_ID First_Mame Last_Name  Age Time_Employed Num_Prev_Positions  \\\n",
              "0           1      James      Butt   44             8                  2   \n",
              "1           2  Josephine   Darakjy   49             4                  3   \n",
              "2           3        Art    Venere   70             3                  3   \n",
              "3           4      Lenna  Paprocki   34             9                  1   \n",
              "4           5    Donette    Foller   39             7                  3   \n",
              "\n",
              "   Teamwork  Motivation  Leadership Performance_Evaluation  \n",
              "0         4          10           8                   high  \n",
              "1         8           7           8                   high  \n",
              "2         1           7           5                    low  \n",
              "3         4           4           5                    low  \n",
              "4         3           2          10                    low  "
            ],
            "text/html": [
              "\n",
              "  <div id=\"df-b07851d6-4a03-416e-84ef-1fe29a9399dc\">\n",
              "    <div class=\"colab-df-container\">\n",
              "      <div>\n",
              "<style scoped>\n",
              "    .dataframe tbody tr th:only-of-type {\n",
              "        vertical-align: middle;\n",
              "    }\n",
              "\n",
              "    .dataframe tbody tr th {\n",
              "        vertical-align: top;\n",
              "    }\n",
              "\n",
              "    .dataframe thead th {\n",
              "        text-align: right;\n",
              "    }\n",
              "</style>\n",
              "<table border=\"1\" class=\"dataframe\">\n",
              "  <thead>\n",
              "    <tr style=\"text-align: right;\">\n",
              "      <th></th>\n",
              "      <th>Manager_ID</th>\n",
              "      <th>First_Mame</th>\n",
              "      <th>Last_Name</th>\n",
              "      <th>Age</th>\n",
              "      <th>Time_Employed</th>\n",
              "      <th>Num_Prev_Positions</th>\n",
              "      <th>Teamwork</th>\n",
              "      <th>Motivation</th>\n",
              "      <th>Leadership</th>\n",
              "      <th>Performance_Evaluation</th>\n",
              "    </tr>\n",
              "  </thead>\n",
              "  <tbody>\n",
              "    <tr>\n",
              "      <th>0</th>\n",
              "      <td>1</td>\n",
              "      <td>James</td>\n",
              "      <td>Butt</td>\n",
              "      <td>44</td>\n",
              "      <td>8</td>\n",
              "      <td>2</td>\n",
              "      <td>4</td>\n",
              "      <td>10</td>\n",
              "      <td>8</td>\n",
              "      <td>high</td>\n",
              "    </tr>\n",
              "    <tr>\n",
              "      <th>1</th>\n",
              "      <td>2</td>\n",
              "      <td>Josephine</td>\n",
              "      <td>Darakjy</td>\n",
              "      <td>49</td>\n",
              "      <td>4</td>\n",
              "      <td>3</td>\n",
              "      <td>8</td>\n",
              "      <td>7</td>\n",
              "      <td>8</td>\n",
              "      <td>high</td>\n",
              "    </tr>\n",
              "    <tr>\n",
              "      <th>2</th>\n",
              "      <td>3</td>\n",
              "      <td>Art</td>\n",
              "      <td>Venere</td>\n",
              "      <td>70</td>\n",
              "      <td>3</td>\n",
              "      <td>3</td>\n",
              "      <td>1</td>\n",
              "      <td>7</td>\n",
              "      <td>5</td>\n",
              "      <td>low</td>\n",
              "    </tr>\n",
              "    <tr>\n",
              "      <th>3</th>\n",
              "      <td>4</td>\n",
              "      <td>Lenna</td>\n",
              "      <td>Paprocki</td>\n",
              "      <td>34</td>\n",
              "      <td>9</td>\n",
              "      <td>1</td>\n",
              "      <td>4</td>\n",
              "      <td>4</td>\n",
              "      <td>5</td>\n",
              "      <td>low</td>\n",
              "    </tr>\n",
              "    <tr>\n",
              "      <th>4</th>\n",
              "      <td>5</td>\n",
              "      <td>Donette</td>\n",
              "      <td>Foller</td>\n",
              "      <td>39</td>\n",
              "      <td>7</td>\n",
              "      <td>3</td>\n",
              "      <td>3</td>\n",
              "      <td>2</td>\n",
              "      <td>10</td>\n",
              "      <td>low</td>\n",
              "    </tr>\n",
              "  </tbody>\n",
              "</table>\n",
              "</div>\n",
              "      <button class=\"colab-df-convert\" onclick=\"convertToInteractive('df-b07851d6-4a03-416e-84ef-1fe29a9399dc')\"\n",
              "              title=\"Convert this dataframe to an interactive table.\"\n",
              "              style=\"display:none;\">\n",
              "        \n",
              "  <svg xmlns=\"http://www.w3.org/2000/svg\" height=\"24px\"viewBox=\"0 0 24 24\"\n",
              "       width=\"24px\">\n",
              "    <path d=\"M0 0h24v24H0V0z\" fill=\"none\"/>\n",
              "    <path d=\"M18.56 5.44l.94 2.06.94-2.06 2.06-.94-2.06-.94-.94-2.06-.94 2.06-2.06.94zm-11 1L8.5 8.5l.94-2.06 2.06-.94-2.06-.94L8.5 2.5l-.94 2.06-2.06.94zm10 10l.94 2.06.94-2.06 2.06-.94-2.06-.94-.94-2.06-.94 2.06-2.06.94z\"/><path d=\"M17.41 7.96l-1.37-1.37c-.4-.4-.92-.59-1.43-.59-.52 0-1.04.2-1.43.59L10.3 9.45l-7.72 7.72c-.78.78-.78 2.05 0 2.83L4 21.41c.39.39.9.59 1.41.59.51 0 1.02-.2 1.41-.59l7.78-7.78 2.81-2.81c.8-.78.8-2.07 0-2.86zM5.41 20L4 18.59l7.72-7.72 1.47 1.35L5.41 20z\"/>\n",
              "  </svg>\n",
              "      </button>\n",
              "      \n",
              "  <style>\n",
              "    .colab-df-container {\n",
              "      display:flex;\n",
              "      flex-wrap:wrap;\n",
              "      gap: 12px;\n",
              "    }\n",
              "\n",
              "    .colab-df-convert {\n",
              "      background-color: #E8F0FE;\n",
              "      border: none;\n",
              "      border-radius: 50%;\n",
              "      cursor: pointer;\n",
              "      display: none;\n",
              "      fill: #1967D2;\n",
              "      height: 32px;\n",
              "      padding: 0 0 0 0;\n",
              "      width: 32px;\n",
              "    }\n",
              "\n",
              "    .colab-df-convert:hover {\n",
              "      background-color: #E2EBFA;\n",
              "      box-shadow: 0px 1px 2px rgba(60, 64, 67, 0.3), 0px 1px 3px 1px rgba(60, 64, 67, 0.15);\n",
              "      fill: #174EA6;\n",
              "    }\n",
              "\n",
              "    [theme=dark] .colab-df-convert {\n",
              "      background-color: #3B4455;\n",
              "      fill: #D2E3FC;\n",
              "    }\n",
              "\n",
              "    [theme=dark] .colab-df-convert:hover {\n",
              "      background-color: #434B5C;\n",
              "      box-shadow: 0px 1px 3px 1px rgba(0, 0, 0, 0.15);\n",
              "      filter: drop-shadow(0px 1px 2px rgba(0, 0, 0, 0.3));\n",
              "      fill: #FFFFFF;\n",
              "    }\n",
              "  </style>\n",
              "\n",
              "      <script>\n",
              "        const buttonEl =\n",
              "          document.querySelector('#df-b07851d6-4a03-416e-84ef-1fe29a9399dc button.colab-df-convert');\n",
              "        buttonEl.style.display =\n",
              "          google.colab.kernel.accessAllowed ? 'block' : 'none';\n",
              "\n",
              "        async function convertToInteractive(key) {\n",
              "          const element = document.querySelector('#df-b07851d6-4a03-416e-84ef-1fe29a9399dc');\n",
              "          const dataTable =\n",
              "            await google.colab.kernel.invokeFunction('convertToInteractive',\n",
              "                                                     [key], {});\n",
              "          if (!dataTable) return;\n",
              "\n",
              "          const docLinkHtml = 'Like what you see? Visit the ' +\n",
              "            '<a target=\"_blank\" href=https://colab.research.google.com/notebooks/data_table.ipynb>data table notebook</a>'\n",
              "            + ' to learn more about interactive tables.';\n",
              "          element.innerHTML = '';\n",
              "          dataTable['output_type'] = 'display_data';\n",
              "          await google.colab.output.renderOutput(dataTable, element);\n",
              "          const docLink = document.createElement('div');\n",
              "          docLink.innerHTML = docLinkHtml;\n",
              "          element.appendChild(docLink);\n",
              "        }\n",
              "      </script>\n",
              "    </div>\n",
              "  </div>\n",
              "  "
            ]
          },
          "metadata": {},
          "execution_count": 2
        }
      ]
    },
    {
      "cell_type": "code",
      "source": [
        "# drop personally identifiable information and any variables that might allow discriminatory practices\n",
        "df = df.drop(columns = ['First_Mame', 'Last_Name', 'Age'])"
      ],
      "metadata": {
        "id": "JbqK66BizO3A"
      },
      "execution_count": null,
      "outputs": []
    },
    {
      "cell_type": "code",
      "source": [
        "# fix error: replace \"O\" with '0' for the appropriate variable\n",
        "# produce value counts for this variable\n",
        "df['Time_Employed'].value_counts()"
      ],
      "metadata": {
        "id": "sfDMf5QhuaWs",
        "colab": {
          "base_uri": "https://localhost:8080/"
        },
        "outputId": "1f2a4580-07bd-4f3d-d39d-e690e05b8464"
      },
      "execution_count": null,
      "outputs": [
        {
          "output_type": "execute_result",
          "data": {
            "text/plain": [
              "8     71\n",
              "10    71\n",
              "5     70\n",
              "1     66\n",
              "12    66\n",
              "0     64\n",
              "15    64\n",
              "13    63\n",
              "11    62\n",
              "2     62\n",
              "6     60\n",
              "3     60\n",
              "7     59\n",
              "9     58\n",
              "4     52\n",
              "14    51\n",
              "O      1\n",
              "Name: Time_Employed, dtype: int64"
            ]
          },
          "metadata": {},
          "execution_count": 4
        }
      ]
    },
    {
      "cell_type": "code",
      "source": [
        " df = df.replace(['O'], ['0'])\n",
        " df['Time_Employed'].value_counts()"
      ],
      "metadata": {
        "colab": {
          "base_uri": "https://localhost:8080/"
        },
        "id": "pdWy1SK-lwMX",
        "outputId": "01d0cc40-2076-4b17-fbad-daa047dbaf9c"
      },
      "execution_count": null,
      "outputs": [
        {
          "output_type": "execute_result",
          "data": {
            "text/plain": [
              "8     71\n",
              "10    71\n",
              "5     70\n",
              "1     66\n",
              "12    66\n",
              "0     65\n",
              "15    64\n",
              "13    63\n",
              "11    62\n",
              "2     62\n",
              "3     60\n",
              "6     60\n",
              "7     59\n",
              "9     58\n",
              "4     52\n",
              "14    51\n",
              "Name: Time_Employed, dtype: int64"
            ]
          },
          "metadata": {},
          "execution_count": 5
        }
      ]
    },
    {
      "cell_type": "code",
      "source": [
        "# fix error: replace \"zero\" with '0' for the appropriate variable\n",
        "# produce value counts for this variable\n",
        "df['Num_Prev_Positions'].value_counts()"
      ],
      "metadata": {
        "id": "1ma-FgLEugrP",
        "colab": {
          "base_uri": "https://localhost:8080/"
        },
        "outputId": "226dab40-9e38-49aa-80b8-aa4de8213866"
      },
      "execution_count": null,
      "outputs": [
        {
          "output_type": "execute_result",
          "data": {
            "text/plain": [
              "1       257\n",
              "0       256\n",
              "3       252\n",
              "2       234\n",
              "zero      1\n",
              "Name: Num_Prev_Positions, dtype: int64"
            ]
          },
          "metadata": {},
          "execution_count": 6
        }
      ]
    },
    {
      "cell_type": "code",
      "source": [
        "df = df.replace(['zero'], ['0'])\n",
        "df['Num_Prev_Positions'].value_counts()"
      ],
      "metadata": {
        "colab": {
          "base_uri": "https://localhost:8080/"
        },
        "id": "5kc14fRrmVOQ",
        "outputId": "d2936309-5e41-4186-ae20-4b783a35811d"
      },
      "execution_count": null,
      "outputs": [
        {
          "output_type": "execute_result",
          "data": {
            "text/plain": [
              "1    257\n",
              "0    257\n",
              "3    252\n",
              "2    234\n",
              "Name: Num_Prev_Positions, dtype: int64"
            ]
          },
          "metadata": {},
          "execution_count": 7
        }
      ]
    },
    {
      "cell_type": "code",
      "source": [
        "# replace 100 with 10 for the appropriate variable\n",
        "# produce value counts for this variable\n",
        "df['Teamwork'].value_counts()"
      ],
      "metadata": {
        "id": "5S0WTjcfu2Hx",
        "colab": {
          "base_uri": "https://localhost:8080/"
        },
        "outputId": "b88c1e6a-d251-47a3-b013-e2fd3b405615"
      },
      "execution_count": null,
      "outputs": [
        {
          "output_type": "execute_result",
          "data": {
            "text/plain": [
              "1      113\n",
              "2      109\n",
              "6      107\n",
              "5      104\n",
              "4      102\n",
              "8       97\n",
              "3       96\n",
              "9       93\n",
              "10      93\n",
              "7       84\n",
              "100      2\n",
              "Name: Teamwork, dtype: int64"
            ]
          },
          "metadata": {},
          "execution_count": 8
        }
      ]
    },
    {
      "cell_type": "code",
      "source": [
        "df = df.replace(100, 10)\n",
        "df['Teamwork'].value_counts()"
      ],
      "metadata": {
        "colab": {
          "base_uri": "https://localhost:8080/"
        },
        "id": "lhkUkZ2DmpOm",
        "outputId": "85b34dc4-d233-42ad-ccce-631d7daee376"
      },
      "execution_count": null,
      "outputs": [
        {
          "output_type": "execute_result",
          "data": {
            "text/plain": [
              "1     113\n",
              "2     109\n",
              "6     107\n",
              "5     104\n",
              "4     102\n",
              "8      97\n",
              "3      96\n",
              "10     95\n",
              "9      93\n",
              "7      84\n",
              "Name: Teamwork, dtype: int64"
            ]
          },
          "metadata": {},
          "execution_count": 9
        }
      ]
    },
    {
      "cell_type": "code",
      "source": [
        "# replace incorrect spellings of high and low with correct spellings for the appropriate variable\n",
        "# produce value counts for this variable\n",
        "df['Performance_Evaluation'].value_counts()"
      ],
      "metadata": {
        "id": "Nb-T1F9kvBIF",
        "colab": {
          "base_uri": "https://localhost:8080/"
        },
        "outputId": "f3178462-ad81-4cd7-9471-136515ac89c0"
      },
      "execution_count": null,
      "outputs": [
        {
          "output_type": "execute_result",
          "data": {
            "text/plain": [
              "low       657\n",
              "high      340\n",
              "high        1\n",
              "highgh      1\n",
              "loww        1\n",
              "Name: Performance_Evaluation, dtype: int64"
            ]
          },
          "metadata": {},
          "execution_count": 10
        }
      ]
    },
    {
      "cell_type": "code",
      "source": [
        "df = df.replace(['loww', 'highgh', 'high '], ['low', 'high', 'high'])\n",
        "df['Performance_Evaluation'].value_counts()"
      ],
      "metadata": {
        "colab": {
          "base_uri": "https://localhost:8080/"
        },
        "id": "0_Gx3zRaoQfr",
        "outputId": "3b872a87-1b0d-44bf-f5be-6cad0802aa10"
      },
      "execution_count": null,
      "outputs": [
        {
          "output_type": "execute_result",
          "data": {
            "text/plain": [
              "low     658\n",
              "high    342\n",
              "Name: Performance_Evaluation, dtype: int64"
            ]
          },
          "metadata": {},
          "execution_count": 11
        }
      ]
    },
    {
      "cell_type": "code",
      "source": [
        "# object called cols that drops the primary key and DV\n",
        "# preview this object\n",
        "cols = df.drop(columns=['Manager_ID', 'Performance_Evaluation'])\n",
        "cols.head()"
      ],
      "metadata": {
        "id": "5fvM8ttuvlLk",
        "colab": {
          "base_uri": "https://localhost:8080/",
          "height": 270
        },
        "outputId": "6f759918-d2d4-4a44-b115-6f4a608ac05c"
      },
      "execution_count": null,
      "outputs": [
        {
          "output_type": "execute_result",
          "data": {
            "text/plain": [
              "  Time_Employed Num_Prev_Positions  Teamwork  Motivation  Leadership\n",
              "0             8                  2         4          10           8\n",
              "1             4                  3         8           7           8\n",
              "2             3                  3         1           7           5\n",
              "3             9                  1         4           4           5\n",
              "4             7                  3         3           2          10"
            ],
            "text/html": [
              "\n",
              "  <div id=\"df-4c625501-937a-4f23-b53c-5cd4d2493ec4\">\n",
              "    <div class=\"colab-df-container\">\n",
              "      <div>\n",
              "<style scoped>\n",
              "    .dataframe tbody tr th:only-of-type {\n",
              "        vertical-align: middle;\n",
              "    }\n",
              "\n",
              "    .dataframe tbody tr th {\n",
              "        vertical-align: top;\n",
              "    }\n",
              "\n",
              "    .dataframe thead th {\n",
              "        text-align: right;\n",
              "    }\n",
              "</style>\n",
              "<table border=\"1\" class=\"dataframe\">\n",
              "  <thead>\n",
              "    <tr style=\"text-align: right;\">\n",
              "      <th></th>\n",
              "      <th>Time_Employed</th>\n",
              "      <th>Num_Prev_Positions</th>\n",
              "      <th>Teamwork</th>\n",
              "      <th>Motivation</th>\n",
              "      <th>Leadership</th>\n",
              "    </tr>\n",
              "  </thead>\n",
              "  <tbody>\n",
              "    <tr>\n",
              "      <th>0</th>\n",
              "      <td>8</td>\n",
              "      <td>2</td>\n",
              "      <td>4</td>\n",
              "      <td>10</td>\n",
              "      <td>8</td>\n",
              "    </tr>\n",
              "    <tr>\n",
              "      <th>1</th>\n",
              "      <td>4</td>\n",
              "      <td>3</td>\n",
              "      <td>8</td>\n",
              "      <td>7</td>\n",
              "      <td>8</td>\n",
              "    </tr>\n",
              "    <tr>\n",
              "      <th>2</th>\n",
              "      <td>3</td>\n",
              "      <td>3</td>\n",
              "      <td>1</td>\n",
              "      <td>7</td>\n",
              "      <td>5</td>\n",
              "    </tr>\n",
              "    <tr>\n",
              "      <th>3</th>\n",
              "      <td>9</td>\n",
              "      <td>1</td>\n",
              "      <td>4</td>\n",
              "      <td>4</td>\n",
              "      <td>5</td>\n",
              "    </tr>\n",
              "    <tr>\n",
              "      <th>4</th>\n",
              "      <td>7</td>\n",
              "      <td>3</td>\n",
              "      <td>3</td>\n",
              "      <td>2</td>\n",
              "      <td>10</td>\n",
              "    </tr>\n",
              "  </tbody>\n",
              "</table>\n",
              "</div>\n",
              "      <button class=\"colab-df-convert\" onclick=\"convertToInteractive('df-4c625501-937a-4f23-b53c-5cd4d2493ec4')\"\n",
              "              title=\"Convert this dataframe to an interactive table.\"\n",
              "              style=\"display:none;\">\n",
              "        \n",
              "  <svg xmlns=\"http://www.w3.org/2000/svg\" height=\"24px\"viewBox=\"0 0 24 24\"\n",
              "       width=\"24px\">\n",
              "    <path d=\"M0 0h24v24H0V0z\" fill=\"none\"/>\n",
              "    <path d=\"M18.56 5.44l.94 2.06.94-2.06 2.06-.94-2.06-.94-.94-2.06-.94 2.06-2.06.94zm-11 1L8.5 8.5l.94-2.06 2.06-.94-2.06-.94L8.5 2.5l-.94 2.06-2.06.94zm10 10l.94 2.06.94-2.06 2.06-.94-2.06-.94-.94-2.06-.94 2.06-2.06.94z\"/><path d=\"M17.41 7.96l-1.37-1.37c-.4-.4-.92-.59-1.43-.59-.52 0-1.04.2-1.43.59L10.3 9.45l-7.72 7.72c-.78.78-.78 2.05 0 2.83L4 21.41c.39.39.9.59 1.41.59.51 0 1.02-.2 1.41-.59l7.78-7.78 2.81-2.81c.8-.78.8-2.07 0-2.86zM5.41 20L4 18.59l7.72-7.72 1.47 1.35L5.41 20z\"/>\n",
              "  </svg>\n",
              "      </button>\n",
              "      \n",
              "  <style>\n",
              "    .colab-df-container {\n",
              "      display:flex;\n",
              "      flex-wrap:wrap;\n",
              "      gap: 12px;\n",
              "    }\n",
              "\n",
              "    .colab-df-convert {\n",
              "      background-color: #E8F0FE;\n",
              "      border: none;\n",
              "      border-radius: 50%;\n",
              "      cursor: pointer;\n",
              "      display: none;\n",
              "      fill: #1967D2;\n",
              "      height: 32px;\n",
              "      padding: 0 0 0 0;\n",
              "      width: 32px;\n",
              "    }\n",
              "\n",
              "    .colab-df-convert:hover {\n",
              "      background-color: #E2EBFA;\n",
              "      box-shadow: 0px 1px 2px rgba(60, 64, 67, 0.3), 0px 1px 3px 1px rgba(60, 64, 67, 0.15);\n",
              "      fill: #174EA6;\n",
              "    }\n",
              "\n",
              "    [theme=dark] .colab-df-convert {\n",
              "      background-color: #3B4455;\n",
              "      fill: #D2E3FC;\n",
              "    }\n",
              "\n",
              "    [theme=dark] .colab-df-convert:hover {\n",
              "      background-color: #434B5C;\n",
              "      box-shadow: 0px 1px 3px 1px rgba(0, 0, 0, 0.15);\n",
              "      filter: drop-shadow(0px 1px 2px rgba(0, 0, 0, 0.3));\n",
              "      fill: #FFFFFF;\n",
              "    }\n",
              "  </style>\n",
              "\n",
              "      <script>\n",
              "        const buttonEl =\n",
              "          document.querySelector('#df-4c625501-937a-4f23-b53c-5cd4d2493ec4 button.colab-df-convert');\n",
              "        buttonEl.style.display =\n",
              "          google.colab.kernel.accessAllowed ? 'block' : 'none';\n",
              "\n",
              "        async function convertToInteractive(key) {\n",
              "          const element = document.querySelector('#df-4c625501-937a-4f23-b53c-5cd4d2493ec4');\n",
              "          const dataTable =\n",
              "            await google.colab.kernel.invokeFunction('convertToInteractive',\n",
              "                                                     [key], {});\n",
              "          if (!dataTable) return;\n",
              "\n",
              "          const docLinkHtml = 'Like what you see? Visit the ' +\n",
              "            '<a target=\"_blank\" href=https://colab.research.google.com/notebooks/data_table.ipynb>data table notebook</a>'\n",
              "            + ' to learn more about interactive tables.';\n",
              "          element.innerHTML = '';\n",
              "          dataTable['output_type'] = 'display_data';\n",
              "          await google.colab.output.renderOutput(dataTable, element);\n",
              "          const docLink = document.createElement('div');\n",
              "          docLink.innerHTML = docLinkHtml;\n",
              "          element.appendChild(docLink);\n",
              "        }\n",
              "      </script>\n",
              "    </div>\n",
              "  </div>\n",
              "  "
            ]
          },
          "metadata": {},
          "execution_count": 12
        }
      ]
    },
    {
      "cell_type": "code",
      "source": [
        "#convert all numerical columns to integers (just run this code block)\n",
        "df[['Time_Employed', 'Num_Prev_Positions',\n",
        "    'Teamwork', 'Motivation', 'Leadership']] = df[['Time_Employed', 'Num_Prev_Positions',\n",
        "                                                   'Teamwork', 'Motivation', 'Leadership']].astype(int)\n"
      ],
      "metadata": {
        "id": "VHxZq2mUvzey"
      },
      "execution_count": null,
      "outputs": []
    },
    {
      "cell_type": "code",
      "source": [
        "# replace with code to display finalized clean dataset\n",
        "cols.head()"
      ],
      "metadata": {
        "id": "L0CCUWdkDTCn",
        "colab": {
          "base_uri": "https://localhost:8080/",
          "height": 270
        },
        "outputId": "e8401d2a-6326-4dd4-fe13-a33865f24311"
      },
      "execution_count": null,
      "outputs": [
        {
          "output_type": "execute_result",
          "data": {
            "text/plain": [
              "  Time_Employed Num_Prev_Positions  Teamwork  Motivation  Leadership\n",
              "0             8                  2         4          10           8\n",
              "1             4                  3         8           7           8\n",
              "2             3                  3         1           7           5\n",
              "3             9                  1         4           4           5\n",
              "4             7                  3         3           2          10"
            ],
            "text/html": [
              "\n",
              "  <div id=\"df-edee6c4d-3e57-4626-be10-a33f60f43ee2\">\n",
              "    <div class=\"colab-df-container\">\n",
              "      <div>\n",
              "<style scoped>\n",
              "    .dataframe tbody tr th:only-of-type {\n",
              "        vertical-align: middle;\n",
              "    }\n",
              "\n",
              "    .dataframe tbody tr th {\n",
              "        vertical-align: top;\n",
              "    }\n",
              "\n",
              "    .dataframe thead th {\n",
              "        text-align: right;\n",
              "    }\n",
              "</style>\n",
              "<table border=\"1\" class=\"dataframe\">\n",
              "  <thead>\n",
              "    <tr style=\"text-align: right;\">\n",
              "      <th></th>\n",
              "      <th>Time_Employed</th>\n",
              "      <th>Num_Prev_Positions</th>\n",
              "      <th>Teamwork</th>\n",
              "      <th>Motivation</th>\n",
              "      <th>Leadership</th>\n",
              "    </tr>\n",
              "  </thead>\n",
              "  <tbody>\n",
              "    <tr>\n",
              "      <th>0</th>\n",
              "      <td>8</td>\n",
              "      <td>2</td>\n",
              "      <td>4</td>\n",
              "      <td>10</td>\n",
              "      <td>8</td>\n",
              "    </tr>\n",
              "    <tr>\n",
              "      <th>1</th>\n",
              "      <td>4</td>\n",
              "      <td>3</td>\n",
              "      <td>8</td>\n",
              "      <td>7</td>\n",
              "      <td>8</td>\n",
              "    </tr>\n",
              "    <tr>\n",
              "      <th>2</th>\n",
              "      <td>3</td>\n",
              "      <td>3</td>\n",
              "      <td>1</td>\n",
              "      <td>7</td>\n",
              "      <td>5</td>\n",
              "    </tr>\n",
              "    <tr>\n",
              "      <th>3</th>\n",
              "      <td>9</td>\n",
              "      <td>1</td>\n",
              "      <td>4</td>\n",
              "      <td>4</td>\n",
              "      <td>5</td>\n",
              "    </tr>\n",
              "    <tr>\n",
              "      <th>4</th>\n",
              "      <td>7</td>\n",
              "      <td>3</td>\n",
              "      <td>3</td>\n",
              "      <td>2</td>\n",
              "      <td>10</td>\n",
              "    </tr>\n",
              "  </tbody>\n",
              "</table>\n",
              "</div>\n",
              "      <button class=\"colab-df-convert\" onclick=\"convertToInteractive('df-edee6c4d-3e57-4626-be10-a33f60f43ee2')\"\n",
              "              title=\"Convert this dataframe to an interactive table.\"\n",
              "              style=\"display:none;\">\n",
              "        \n",
              "  <svg xmlns=\"http://www.w3.org/2000/svg\" height=\"24px\"viewBox=\"0 0 24 24\"\n",
              "       width=\"24px\">\n",
              "    <path d=\"M0 0h24v24H0V0z\" fill=\"none\"/>\n",
              "    <path d=\"M18.56 5.44l.94 2.06.94-2.06 2.06-.94-2.06-.94-.94-2.06-.94 2.06-2.06.94zm-11 1L8.5 8.5l.94-2.06 2.06-.94-2.06-.94L8.5 2.5l-.94 2.06-2.06.94zm10 10l.94 2.06.94-2.06 2.06-.94-2.06-.94-.94-2.06-.94 2.06-2.06.94z\"/><path d=\"M17.41 7.96l-1.37-1.37c-.4-.4-.92-.59-1.43-.59-.52 0-1.04.2-1.43.59L10.3 9.45l-7.72 7.72c-.78.78-.78 2.05 0 2.83L4 21.41c.39.39.9.59 1.41.59.51 0 1.02-.2 1.41-.59l7.78-7.78 2.81-2.81c.8-.78.8-2.07 0-2.86zM5.41 20L4 18.59l7.72-7.72 1.47 1.35L5.41 20z\"/>\n",
              "  </svg>\n",
              "      </button>\n",
              "      \n",
              "  <style>\n",
              "    .colab-df-container {\n",
              "      display:flex;\n",
              "      flex-wrap:wrap;\n",
              "      gap: 12px;\n",
              "    }\n",
              "\n",
              "    .colab-df-convert {\n",
              "      background-color: #E8F0FE;\n",
              "      border: none;\n",
              "      border-radius: 50%;\n",
              "      cursor: pointer;\n",
              "      display: none;\n",
              "      fill: #1967D2;\n",
              "      height: 32px;\n",
              "      padding: 0 0 0 0;\n",
              "      width: 32px;\n",
              "    }\n",
              "\n",
              "    .colab-df-convert:hover {\n",
              "      background-color: #E2EBFA;\n",
              "      box-shadow: 0px 1px 2px rgba(60, 64, 67, 0.3), 0px 1px 3px 1px rgba(60, 64, 67, 0.15);\n",
              "      fill: #174EA6;\n",
              "    }\n",
              "\n",
              "    [theme=dark] .colab-df-convert {\n",
              "      background-color: #3B4455;\n",
              "      fill: #D2E3FC;\n",
              "    }\n",
              "\n",
              "    [theme=dark] .colab-df-convert:hover {\n",
              "      background-color: #434B5C;\n",
              "      box-shadow: 0px 1px 3px 1px rgba(0, 0, 0, 0.15);\n",
              "      filter: drop-shadow(0px 1px 2px rgba(0, 0, 0, 0.3));\n",
              "      fill: #FFFFFF;\n",
              "    }\n",
              "  </style>\n",
              "\n",
              "      <script>\n",
              "        const buttonEl =\n",
              "          document.querySelector('#df-edee6c4d-3e57-4626-be10-a33f60f43ee2 button.colab-df-convert');\n",
              "        buttonEl.style.display =\n",
              "          google.colab.kernel.accessAllowed ? 'block' : 'none';\n",
              "\n",
              "        async function convertToInteractive(key) {\n",
              "          const element = document.querySelector('#df-edee6c4d-3e57-4626-be10-a33f60f43ee2');\n",
              "          const dataTable =\n",
              "            await google.colab.kernel.invokeFunction('convertToInteractive',\n",
              "                                                     [key], {});\n",
              "          if (!dataTable) return;\n",
              "\n",
              "          const docLinkHtml = 'Like what you see? Visit the ' +\n",
              "            '<a target=\"_blank\" href=https://colab.research.google.com/notebooks/data_table.ipynb>data table notebook</a>'\n",
              "            + ' to learn more about interactive tables.';\n",
              "          element.innerHTML = '';\n",
              "          dataTable['output_type'] = 'display_data';\n",
              "          await google.colab.output.renderOutput(dataTable, element);\n",
              "          const docLink = document.createElement('div');\n",
              "          docLink.innerHTML = docLinkHtml;\n",
              "          element.appendChild(docLink);\n",
              "        }\n",
              "      </script>\n",
              "    </div>\n",
              "  </div>\n",
              "  "
            ]
          },
          "metadata": {},
          "execution_count": 14
        }
      ]
    },
    {
      "cell_type": "markdown",
      "source": [
        "### **B**\n",
        "### **Data Understanding (24 pts):**\n",
        "\n",
        "**Return to Canvas and download the `manager_performance_clean.csv`. This file is provided so that any errors potentially made during data cleansing do not result in subsequent errors/deductions for the remaining portions of the assignment. Thoroughly explore the data. Specifically:**\n",
        "\n",
        "**Look through this data set and, ignoring the ID, identify the types of data variables therein (nominal, ordinal, ratio, or interval).**"
      ],
      "metadata": {
        "id": "bBYpVmoM3qxn"
      }
    },
    {
      "cell_type": "markdown",
      "source": [
        "* **Time Employed: Ratio**\n",
        "* **Num Prev Positions: Ratio**\n",
        "* **Teamwork: Ordinal**\n",
        "* **Motivation: Ordinal**\n",
        "* **Leadership: Ordinal**\n",
        "* **Performance Evaluation: Ordinal**"
      ],
      "metadata": {
        "id": "OiS_aaOk4eA5"
      }
    },
    {
      "cell_type": "markdown",
      "source": [
        "**Produce a descriptive statistics table that excludes `Manager_ID` and groups by performance evaluation (i.e., high vs low). (*Hint: will need to use the groupby() and describe() functions*). Display below:**"
      ],
      "metadata": {
        "id": "lmBM-2wf41Be"
      }
    },
    {
      "cell_type": "code",
      "source": [
        "# read in the manager_performance_clean.csv file\n",
        "df = pd.read_csv(\"/content/manager_performance_clean.csv\")\n",
        "#preview the data set\n",
        "df.head()"
      ],
      "metadata": {
        "id": "2kwbBdHoC1jr",
        "colab": {
          "base_uri": "https://localhost:8080/",
          "height": 270
        },
        "outputId": "4aefbeb0-3a46-4229-dd4e-297ffdda9543"
      },
      "execution_count": null,
      "outputs": [
        {
          "output_type": "execute_result",
          "data": {
            "text/plain": [
              "   Manager_ID  Time_Employed  Num_Prev_Positions  Teamwork  Motivation  \\\n",
              "0           1              8                   2         4          10   \n",
              "1           2              4                   3         8           7   \n",
              "2           3              3                   3         1           7   \n",
              "3           4              9                   1         4           4   \n",
              "4           5              7                   3         3           2   \n",
              "\n",
              "   Leadership Performance_Evaluation  \n",
              "0           8                   high  \n",
              "1           8                   high  \n",
              "2           5                    low  \n",
              "3           5                    low  \n",
              "4          10                    low  "
            ],
            "text/html": [
              "\n",
              "  <div id=\"df-f6b54621-1460-4ad5-a980-d4dd491aa09e\">\n",
              "    <div class=\"colab-df-container\">\n",
              "      <div>\n",
              "<style scoped>\n",
              "    .dataframe tbody tr th:only-of-type {\n",
              "        vertical-align: middle;\n",
              "    }\n",
              "\n",
              "    .dataframe tbody tr th {\n",
              "        vertical-align: top;\n",
              "    }\n",
              "\n",
              "    .dataframe thead th {\n",
              "        text-align: right;\n",
              "    }\n",
              "</style>\n",
              "<table border=\"1\" class=\"dataframe\">\n",
              "  <thead>\n",
              "    <tr style=\"text-align: right;\">\n",
              "      <th></th>\n",
              "      <th>Manager_ID</th>\n",
              "      <th>Time_Employed</th>\n",
              "      <th>Num_Prev_Positions</th>\n",
              "      <th>Teamwork</th>\n",
              "      <th>Motivation</th>\n",
              "      <th>Leadership</th>\n",
              "      <th>Performance_Evaluation</th>\n",
              "    </tr>\n",
              "  </thead>\n",
              "  <tbody>\n",
              "    <tr>\n",
              "      <th>0</th>\n",
              "      <td>1</td>\n",
              "      <td>8</td>\n",
              "      <td>2</td>\n",
              "      <td>4</td>\n",
              "      <td>10</td>\n",
              "      <td>8</td>\n",
              "      <td>high</td>\n",
              "    </tr>\n",
              "    <tr>\n",
              "      <th>1</th>\n",
              "      <td>2</td>\n",
              "      <td>4</td>\n",
              "      <td>3</td>\n",
              "      <td>8</td>\n",
              "      <td>7</td>\n",
              "      <td>8</td>\n",
              "      <td>high</td>\n",
              "    </tr>\n",
              "    <tr>\n",
              "      <th>2</th>\n",
              "      <td>3</td>\n",
              "      <td>3</td>\n",
              "      <td>3</td>\n",
              "      <td>1</td>\n",
              "      <td>7</td>\n",
              "      <td>5</td>\n",
              "      <td>low</td>\n",
              "    </tr>\n",
              "    <tr>\n",
              "      <th>3</th>\n",
              "      <td>4</td>\n",
              "      <td>9</td>\n",
              "      <td>1</td>\n",
              "      <td>4</td>\n",
              "      <td>4</td>\n",
              "      <td>5</td>\n",
              "      <td>low</td>\n",
              "    </tr>\n",
              "    <tr>\n",
              "      <th>4</th>\n",
              "      <td>5</td>\n",
              "      <td>7</td>\n",
              "      <td>3</td>\n",
              "      <td>3</td>\n",
              "      <td>2</td>\n",
              "      <td>10</td>\n",
              "      <td>low</td>\n",
              "    </tr>\n",
              "  </tbody>\n",
              "</table>\n",
              "</div>\n",
              "      <button class=\"colab-df-convert\" onclick=\"convertToInteractive('df-f6b54621-1460-4ad5-a980-d4dd491aa09e')\"\n",
              "              title=\"Convert this dataframe to an interactive table.\"\n",
              "              style=\"display:none;\">\n",
              "        \n",
              "  <svg xmlns=\"http://www.w3.org/2000/svg\" height=\"24px\"viewBox=\"0 0 24 24\"\n",
              "       width=\"24px\">\n",
              "    <path d=\"M0 0h24v24H0V0z\" fill=\"none\"/>\n",
              "    <path d=\"M18.56 5.44l.94 2.06.94-2.06 2.06-.94-2.06-.94-.94-2.06-.94 2.06-2.06.94zm-11 1L8.5 8.5l.94-2.06 2.06-.94-2.06-.94L8.5 2.5l-.94 2.06-2.06.94zm10 10l.94 2.06.94-2.06 2.06-.94-2.06-.94-.94-2.06-.94 2.06-2.06.94z\"/><path d=\"M17.41 7.96l-1.37-1.37c-.4-.4-.92-.59-1.43-.59-.52 0-1.04.2-1.43.59L10.3 9.45l-7.72 7.72c-.78.78-.78 2.05 0 2.83L4 21.41c.39.39.9.59 1.41.59.51 0 1.02-.2 1.41-.59l7.78-7.78 2.81-2.81c.8-.78.8-2.07 0-2.86zM5.41 20L4 18.59l7.72-7.72 1.47 1.35L5.41 20z\"/>\n",
              "  </svg>\n",
              "      </button>\n",
              "      \n",
              "  <style>\n",
              "    .colab-df-container {\n",
              "      display:flex;\n",
              "      flex-wrap:wrap;\n",
              "      gap: 12px;\n",
              "    }\n",
              "\n",
              "    .colab-df-convert {\n",
              "      background-color: #E8F0FE;\n",
              "      border: none;\n",
              "      border-radius: 50%;\n",
              "      cursor: pointer;\n",
              "      display: none;\n",
              "      fill: #1967D2;\n",
              "      height: 32px;\n",
              "      padding: 0 0 0 0;\n",
              "      width: 32px;\n",
              "    }\n",
              "\n",
              "    .colab-df-convert:hover {\n",
              "      background-color: #E2EBFA;\n",
              "      box-shadow: 0px 1px 2px rgba(60, 64, 67, 0.3), 0px 1px 3px 1px rgba(60, 64, 67, 0.15);\n",
              "      fill: #174EA6;\n",
              "    }\n",
              "\n",
              "    [theme=dark] .colab-df-convert {\n",
              "      background-color: #3B4455;\n",
              "      fill: #D2E3FC;\n",
              "    }\n",
              "\n",
              "    [theme=dark] .colab-df-convert:hover {\n",
              "      background-color: #434B5C;\n",
              "      box-shadow: 0px 1px 3px 1px rgba(0, 0, 0, 0.15);\n",
              "      filter: drop-shadow(0px 1px 2px rgba(0, 0, 0, 0.3));\n",
              "      fill: #FFFFFF;\n",
              "    }\n",
              "  </style>\n",
              "\n",
              "      <script>\n",
              "        const buttonEl =\n",
              "          document.querySelector('#df-f6b54621-1460-4ad5-a980-d4dd491aa09e button.colab-df-convert');\n",
              "        buttonEl.style.display =\n",
              "          google.colab.kernel.accessAllowed ? 'block' : 'none';\n",
              "\n",
              "        async function convertToInteractive(key) {\n",
              "          const element = document.querySelector('#df-f6b54621-1460-4ad5-a980-d4dd491aa09e');\n",
              "          const dataTable =\n",
              "            await google.colab.kernel.invokeFunction('convertToInteractive',\n",
              "                                                     [key], {});\n",
              "          if (!dataTable) return;\n",
              "\n",
              "          const docLinkHtml = 'Like what you see? Visit the ' +\n",
              "            '<a target=\"_blank\" href=https://colab.research.google.com/notebooks/data_table.ipynb>data table notebook</a>'\n",
              "            + ' to learn more about interactive tables.';\n",
              "          element.innerHTML = '';\n",
              "          dataTable['output_type'] = 'display_data';\n",
              "          await google.colab.output.renderOutput(dataTable, element);\n",
              "          const docLink = document.createElement('div');\n",
              "          docLink.innerHTML = docLinkHtml;\n",
              "          element.appendChild(docLink);\n",
              "        }\n",
              "      </script>\n",
              "    </div>\n",
              "  </div>\n",
              "  "
            ]
          },
          "metadata": {},
          "execution_count": 15
        }
      ]
    },
    {
      "cell_type": "code",
      "source": [
        "# bject called vars that drops the primary key\n",
        "vars = df.drop(columns=['Manager_ID'])\n",
        "vars.head()\n",
        "vars.groupby('Performance_Evaluation').describe().unstack(0)"
      ],
      "metadata": {
        "id": "4zYADlSh6CXF",
        "colab": {
          "base_uri": "https://localhost:8080/"
        },
        "outputId": "4c853054-11a1-4615-f26b-32f33f148476"
      },
      "execution_count": null,
      "outputs": [
        {
          "output_type": "execute_result",
          "data": {
            "text/plain": [
              "                           Performance_Evaluation\n",
              "Time_Employed       count  high                      342.000000\n",
              "                           low                       658.000000\n",
              "                    mean   high                        8.906433\n",
              "                           low                         6.720365\n",
              "                    std    high                        4.112425\n",
              "                           low                         4.659575\n",
              "                    min    high                        0.000000\n",
              "                           low                         0.000000\n",
              "                    25%    high                        6.000000\n",
              "                           low                         3.000000\n",
              "                    50%    high                        9.000000\n",
              "                           low                         6.000000\n",
              "                    75%    high                       12.000000\n",
              "                           low                        11.000000\n",
              "                    max    high                       15.000000\n",
              "                           low                        15.000000\n",
              "Num_Prev_Positions  count  high                      342.000000\n",
              "                           low                       658.000000\n",
              "                    mean   high                        1.967836\n",
              "                           low                         1.227964\n",
              "                    std    high                        0.938968\n",
              "                           low                         1.133283\n",
              "                    min    high                        0.000000\n",
              "                           low                         0.000000\n",
              "                    25%    high                        1.000000\n",
              "                           low                         0.000000\n",
              "                    50%    high                        2.000000\n",
              "                           low                         1.000000\n",
              "                    75%    high                        3.000000\n",
              "                           low                         2.000000\n",
              "                    max    high                        3.000000\n",
              "                           low                         3.000000\n",
              "Teamwork            count  high                      342.000000\n",
              "                           low                       658.000000\n",
              "                    mean   high                        6.807018\n",
              "                           low                         4.577508\n",
              "                    std    high                        2.585354\n",
              "                           low                         2.742236\n",
              "                    min    high                        1.000000\n",
              "                           low                         1.000000\n",
              "                    25%    high                        5.000000\n",
              "                           low                         2.000000\n",
              "                    50%    high                        7.000000\n",
              "                           low                         4.000000\n",
              "                    75%    high                        9.000000\n",
              "                           low                         7.000000\n",
              "                    max    high                       10.000000\n",
              "                           low                        10.000000\n",
              "Motivation          count  high                      342.000000\n",
              "                           low                       658.000000\n",
              "                    mean   high                        6.973684\n",
              "                           low                         4.617021\n",
              "                    std    high                        2.372103\n",
              "                           low                         2.814263\n",
              "                    min    high                        1.000000\n",
              "                           low                         1.000000\n",
              "                    25%    high                        6.000000\n",
              "                           low                         2.000000\n",
              "                    50%    high                        7.000000\n",
              "                           low                         4.000000\n",
              "                    75%    high                        9.000000\n",
              "                           low                         7.000000\n",
              "                    max    high                       10.000000\n",
              "                           low                        10.000000\n",
              "Leadership          count  high                      342.000000\n",
              "                           low                       658.000000\n",
              "                    mean   high                        6.728070\n",
              "                           low                         4.740122\n",
              "                    std    high                        2.650574\n",
              "                           low                         2.833417\n",
              "                    min    high                        1.000000\n",
              "                           low                         1.000000\n",
              "                    25%    high                        5.000000\n",
              "                           low                         2.000000\n",
              "                    50%    high                        7.000000\n",
              "                           low                         4.000000\n",
              "                    75%    high                        9.000000\n",
              "                           low                         7.000000\n",
              "                    max    high                       10.000000\n",
              "                           low                        10.000000\n",
              "dtype: float64"
            ]
          },
          "metadata": {},
          "execution_count": 16
        }
      ]
    },
    {
      "cell_type": "markdown",
      "source": [
        "**From this, create at least two hypotheses regarding factors driving employee performance evaluations. These hypotheses should not be simple restatements of the facts shown in the table, but instead should reflect your thoughts about the potential underlying causes of these results (i.e., what might be causing the results seen in the table?). Explain any rationale behind your hypotheses as needed to clarify your line of thinking.**"
      ],
      "metadata": {
        "id": "ViZow_AD_AvS"
      }
    },
    {
      "cell_type": "markdown",
      "source": [
        "Hypothesis 1: Based on the mean of Time_Employed we hypothesize the longer they have been with company the higher they preform. The longer you are with a company the more knowledge you obtain on the processess of the company and surrouding departments.\n",
        "\n",
        "Hypothesis 2: Num_Prev_Postition does not have a major impact on how they perform compared to other variables. Number of previous positions held in the company is not relevant since it does not show the level/rank of the positions held."
      ],
      "metadata": {
        "id": "KIvRcw1I_L86"
      }
    },
    {
      "cell_type": "markdown",
      "source": [
        "**Develop a bar chart that distinguishes between high-and low-performers' motivation in the dataset. Include a brief caption describing the figure. Return to the module covering data understanding if needed!**"
      ],
      "metadata": {
        "id": "AzkyaYh6BL9H"
      }
    },
    {
      "cell_type": "code",
      "source": [
        "# average motivation scores for high and low performers (see Data Understanding ICE, Q6)\n",
        "group_averages = df.groupby(by = \"Performance_Evaluation\").mean()\n",
        "group_averages['Motivation']"
      ],
      "metadata": {
        "id": "mpvn-KyIB3eq",
        "colab": {
          "base_uri": "https://localhost:8080/"
        },
        "outputId": "35efecb6-fa77-4509-f54d-316661af979b"
      },
      "execution_count": null,
      "outputs": [
        {
          "output_type": "execute_result",
          "data": {
            "text/plain": [
              "Performance_Evaluation\n",
              "high    6.973684\n",
              "low     4.617021\n",
              "Name: Motivation, dtype: float64"
            ]
          },
          "metadata": {},
          "execution_count": 17
        }
      ]
    },
    {
      "cell_type": "code",
      "source": [
        "# bar chart with a title (see Data Understanding ICE, Q6)\n",
        "plt.bar(x = group_averages.index.values, height = group_averages['Motivation'])\n",
        "plt.title(\"Performance Evaluation based on Motivation\")\n",
        "plt.show()"
      ],
      "metadata": {
        "id": "UmtB1grHxmuK",
        "colab": {
          "base_uri": "https://localhost:8080/",
          "height": 353
        },
        "outputId": "8efd7606-6014-4914-d191-05695ad7a0eb"
      },
      "execution_count": null,
      "outputs": [
        {
          "output_type": "display_data",
          "data": {
            "text/plain": [
              "<Figure size 640x480 with 1 Axes>"
            ],
            "image/png": "[encoded data removed]"
          },
          "metadata": {}
        }
      ]
    },
    {
      "cell_type": "markdown",
      "source": [
        "Caption:The performance value high is slightly higher than low because they have a higher motivation to perform to a higher standard."
      ],
      "metadata": {
        "id": "FUVWtYW1CqYk"
      }
    },
    {
      "cell_type": "markdown",
      "source": [
        "**Develop a correlation matrix that includes all candidate independent variables, then display the correlation matrix in a color-mapped table. Assume all variables are normally distributed and DO NOT require transformations.**"
      ],
      "metadata": {
        "id": "cQEFe0OJDa1d"
      }
    },
    {
      "cell_type": "code",
      "source": [
        "# object called x that drops the primary key and DV\n",
        "x = df.drop(columns=['Manager_ID', 'Performance_Evaluation'])\n",
        "# replace with code to produce correlation matrix, and display in a color-mapped table (see Correlation Module ICE, Q2C)\n",
        "cor_matrix = x.corr()\n",
        "cor_matrix.style.background_gradient(cmap='coolwarm', axis=None, vmin=-1, vmax=1)"
      ],
      "metadata": {
        "id": "D3a6s5CrDqBu",
        "colab": {
          "base_uri": "https://localhost:8080/",
          "height": 226
        },
        "outputId": "1cdaa461-eb29-4afc-fb24-ed7ba96ae9b5"
      },
      "execution_count": null,
      "outputs": [
        {
          "output_type": "execute_result",
          "data": {
            "text/plain": [
              "<pandas.io.formats.style.Styler at 0x7fe050ff3d00>"
            ],
            "text/html": [
              "<style type=\"text/css\">\n",
              "#T_044e1_row0_col0, #T_044e1_row1_col1, #T_044e1_row2_col2, #T_044e1_row3_col3, #T_044e1_row4_col4 {\n",
              "  background-color: #b40426;\n",
              "  color: #f1f1f1;\n",
              "}\n",
              "#T_044e1_row0_col1, #T_044e1_row1_col0 {\n",
              "  background-color: #e4d9d2;\n",
              "  color: #000000;\n",
              "}\n",
              "#T_044e1_row0_col2, #T_044e1_row2_col0 {\n",
              "  background-color: #d9dce1;\n",
              "  color: #000000;\n",
              "}\n",
              "#T_044e1_row0_col3, #T_044e1_row3_col0 {\n",
              "  background-color: #e3d9d3;\n",
              "  color: #000000;\n",
              "}\n",
              "#T_044e1_row0_col4, #T_044e1_row4_col0 {\n",
              "  background-color: #d7dce3;\n",
              "  color: #000000;\n",
              "}\n",
              "#T_044e1_row1_col2, #T_044e1_row1_col4, #T_044e1_row2_col1, #T_044e1_row2_col3, #T_044e1_row3_col2, #T_044e1_row4_col1 {\n",
              "  background-color: #dbdcde;\n",
              "  color: #000000;\n",
              "}\n",
              "#T_044e1_row1_col3, #T_044e1_row3_col1 {\n",
              "  background-color: #e0dbd8;\n",
              "  color: #000000;\n",
              "}\n",
              "#T_044e1_row2_col4, #T_044e1_row4_col2 {\n",
              "  background-color: #dcdddd;\n",
              "  color: #000000;\n",
              "}\n",
              "#T_044e1_row3_col4, #T_044e1_row4_col3 {\n",
              "  background-color: #dadce0;\n",
              "  color: #000000;\n",
              "}\n",
              "</style>\n",
              "<table id=\"T_044e1\" class=\"dataframe\">\n",
              "  <thead>\n",
              "    <tr>\n",
              "      <th class=\"blank level0\" >&nbsp;</th>\n",
              "      <th id=\"T_044e1_level0_col0\" class=\"col_heading level0 col0\" >Time_Employed</th>\n",
              "      <th id=\"T_044e1_level0_col1\" class=\"col_heading level0 col1\" >Num_Prev_Positions</th>\n",
              "      <th id=\"T_044e1_level0_col2\" class=\"col_heading level0 col2\" >Teamwork</th>\n",
              "      <th id=\"T_044e1_level0_col3\" class=\"col_heading level0 col3\" >Motivation</th>\n",
              "      <th id=\"T_044e1_level0_col4\" class=\"col_heading level0 col4\" >Leadership</th>\n",
              "    </tr>\n",
              "  </thead>\n",
              "  <tbody>\n",
              "    <tr>\n",
              "      <th id=\"T_044e1_level0_row0\" class=\"row_heading level0 row0\" >Time_Employed</th>\n",
              "      <td id=\"T_044e1_row0_col0\" class=\"data row0 col0\" >1.000000</td>\n",
              "      <td id=\"T_044e1_row0_col1\" class=\"data row0 col1\" >0.061650</td>\n",
              "      <td id=\"T_044e1_row0_col2\" class=\"data row0 col2\" >-0.029708</td>\n",
              "      <td id=\"T_044e1_row0_col3\" class=\"data row0 col3\" >0.051458</td>\n",
              "      <td id=\"T_044e1_row0_col4\" class=\"data row0 col4\" >-0.042225</td>\n",
              "    </tr>\n",
              "    <tr>\n",
              "      <th id=\"T_044e1_level0_row1\" class=\"row_heading level0 row1\" >Num_Prev_Positions</th>\n",
              "      <td id=\"T_044e1_row1_col0\" class=\"data row1 col0\" >0.061650</td>\n",
              "      <td id=\"T_044e1_row1_col1\" class=\"data row1 col1\" >1.000000</td>\n",
              "      <td id=\"T_044e1_row1_col2\" class=\"data row1 col2\" >-0.011547</td>\n",
              "      <td id=\"T_044e1_row1_col3\" class=\"data row1 col3\" >0.023801</td>\n",
              "      <td id=\"T_044e1_row1_col4\" class=\"data row1 col4\" >-0.009721</td>\n",
              "    </tr>\n",
              "    <tr>\n",
              "      <th id=\"T_044e1_level0_row2\" class=\"row_heading level0 row2\" >Teamwork</th>\n",
              "      <td id=\"T_044e1_row2_col0\" class=\"data row2 col0\" >-0.029708</td>\n",
              "      <td id=\"T_044e1_row2_col1\" class=\"data row2 col1\" >-0.011547</td>\n",
              "      <td id=\"T_044e1_row2_col2\" class=\"data row2 col2\" >1.000000</td>\n",
              "      <td id=\"T_044e1_row2_col3\" class=\"data row2 col3\" >-0.009434</td>\n",
              "      <td id=\"T_044e1_row2_col4\" class=\"data row2 col4\" >-0.005895</td>\n",
              "    </tr>\n",
              "    <tr>\n",
              "      <th id=\"T_044e1_level0_row3\" class=\"row_heading level0 row3\" >Motivation</th>\n",
              "      <td id=\"T_044e1_row3_col0\" class=\"data row3 col0\" >0.051458</td>\n",
              "      <td id=\"T_044e1_row3_col1\" class=\"data row3 col1\" >0.023801</td>\n",
              "      <td id=\"T_044e1_row3_col2\" class=\"data row3 col2\" >-0.009434</td>\n",
              "      <td id=\"T_044e1_row3_col3\" class=\"data row3 col3\" >1.000000</td>\n",
              "      <td id=\"T_044e1_row3_col4\" class=\"data row3 col4\" >-0.020632</td>\n",
              "    </tr>\n",
              "    <tr>\n",
              "      <th id=\"T_044e1_level0_row4\" class=\"row_heading level0 row4\" >Leadership</th>\n",
              "      <td id=\"T_044e1_row4_col0\" class=\"data row4 col0\" >-0.042225</td>\n",
              "      <td id=\"T_044e1_row4_col1\" class=\"data row4 col1\" >-0.009721</td>\n",
              "      <td id=\"T_044e1_row4_col2\" class=\"data row4 col2\" >-0.005895</td>\n",
              "      <td id=\"T_044e1_row4_col3\" class=\"data row4 col3\" >-0.020632</td>\n",
              "      <td id=\"T_044e1_row4_col4\" class=\"data row4 col4\" >1.000000</td>\n",
              "    </tr>\n",
              "  </tbody>\n",
              "</table>\n"
            ]
          },
          "metadata": {},
          "execution_count": 19
        }
      ]
    },
    {
      "cell_type": "markdown",
      "source": [
        "**Are there any variable pairs that are multicollinear based on a correlation coefficient value cut-off of 0.6? Explain your answer.**"
      ],
      "metadata": {
        "id": "JTaI-hEGFKfp"
      }
    },
    {
      "cell_type": "markdown",
      "source": [
        "No, all of the values are less than 0.6"
      ],
      "metadata": {
        "id": "IaJF3i9lFTZo"
      }
    },
    {
      "cell_type": "markdown",
      "source": [
        "# **Part 2: Unsupervised DM (26 pts)**\n",
        "\n",
        "**Use the `manager_performance_clean.csv` dataset from Canvas. This file is provided so that any errors potentially made during data cleansing portion of the final project do not result in subsequent errors/deductions for the remaining portions of the assignment.**\n",
        "\n",
        "**Import the clean dataset to Python (or use the original file imported in 1B above) and conduct an unsupervised data mining technique appropriate for this dataset. Think about the data variable types in this dataset and the business question, *then choose from association rules analysis or clustering analysis*.**\n",
        "\n",
        "> ***HINT: Revisit the ‘summary slide’ for each of the unsupervised data mining techniques to remember what type(s) of data variables can be input into these models.***\n",
        "\n",
        "---\n",
        "\n",
        "**Think about what we're interested in figuring out with this manager performance dataset (performance evaluation) and how many classes we have for this variable. Change one parameter in your unsupervised analysis, based on this. (Hint: the number of classes determined above will be used to change this parameter, instead of using some of the other methods we discussed in class.)**"
      ],
      "metadata": {
        "id": "MWDz1R0fFi2D"
      }
    },
    {
      "cell_type": "markdown",
      "source": [
        "### **A**\n",
        "\n",
        "**Identify which model was selected and why. The why should focus on the types of data variables in the manager performance dataset. Also discuss any parameters changed in the model and why.**"
      ],
      "metadata": {
        "id": "RhAGXXPuG5Pd"
      }
    },
    {
      "cell_type": "markdown",
      "source": [
        "Clustering analysis was selected because it is unsupervised and the data includes quantitative, qualitative, and ordinal variables. The variables will be normalized in the model. We tested multiple values for the clusters and felt that two clusters was in our best interest."
      ],
      "metadata": {
        "id": "OLgIrJbUHJ2r"
      }
    },
    {
      "cell_type": "markdown",
      "source": [
        "### **B**\n",
        "\n",
        "**Perform the unsupervised DM technqiue using your selected model and parameters. Make sure to take any necessary preprocessing steps to ensure the data are in the proper form before running the model (hint: step taken to ensure no variables are over-weighted due to having different units).**\n",
        "\n",
        "> **After running your analysis, include any relevant results and interpret what they mean. Revisit the previous exercises for the chosen model to remember what the relevant results and interpretations should focus on.**"
      ],
      "metadata": {
        "id": "Sm2hrQxgHtdt"
      }
    },
    {
      "cell_type": "code",
      "source": [
        "!pip install kneed\n",
        "from kneed import KneeLocator\n",
        "import sklearn.cluster\n",
        "from sklearn.cluster import KMeans\n",
        "from sklearn.metrics import silhouette_score\n",
        "from sklearn.preprocessing import StandardScaler # import required libraries and packages"
      ],
      "metadata": {
        "id": "mRJoE1oRIFhF",
        "colab": {
          "base_uri": "https://localhost:8080/"
        },
        "outputId": "6f29d51c-bd62-49b3-b5ac-a013bb27f836"
      },
      "execution_count": null,
      "outputs": [
        {
          "output_type": "stream",
          "name": "stdout",
          "text": [
            "Looking in indexes: https://pypi.org/simple, https://us-python.pkg.dev/colab-wheels/public/simple/\n",
            "Collecting kneed\n",
            "  Downloading kneed-0.8.2-py3-none-any.whl (10 kB)\n",
            "Requirement already satisfied: numpy>=1.14.2 in /usr/local/lib/python3.9/dist-packages (from kneed) (1.22.4)\n",
            "Requirement already satisfied: scipy>=1.0.0 in /usr/local/lib/python3.9/dist-packages (from kneed) (1.10.1)\n",
            "Installing collected packages: kneed\n",
            "Successfully installed kneed-0.8.2\n"
          ]
        }
      ]
    },
    {
      "cell_type": "code",
      "source": [
        "df = pd.read_csv(\"/content/manager_performance_clean.csv\")\n",
        "#preview the data set\n",
        "df.head()\n",
        "df = pd.get_dummies(data = df, drop_first = True) #dummy code categorical variable"
      ],
      "metadata": {
        "id": "uWWSIADsfDGQ"
      },
      "execution_count": null,
      "outputs": []
    },
    {
      "cell_type": "code",
      "source": [
        "#create an object called features that drops the primary key\n",
        "#preview this new object\n",
        "features = df.drop(columns=['Manager_ID'])\n",
        "features.head()"
      ],
      "metadata": {
        "id": "wCUvPHPzhMvE",
        "colab": {
          "base_uri": "https://localhost:8080/",
          "height": 270
        },
        "outputId": "d8191077-62d5-46bc-813c-d2759e462dca"
      },
      "execution_count": null,
      "outputs": [
        {
          "output_type": "execute_result",
          "data": {
            "text/plain": [
              "   Time_Employed  Num_Prev_Positions  Teamwork  Motivation  Leadership  \\\n",
              "0              8                   2         4          10           8   \n",
              "1              4                   3         8           7           8   \n",
              "2              3                   3         1           7           5   \n",
              "3              9                   1         4           4           5   \n",
              "4              7                   3         3           2          10   \n",
              "\n",
              "   Performance_Evaluation_low  \n",
              "0                           0  \n",
              "1                           0  \n",
              "2                           1  \n",
              "3                           1  \n",
              "4                           1  "
            ],
            "text/html": [
              "\n",
              "  <div id=\"df-66baa46b-b030-4122-a2fc-9b4351c9696f\">\n",
              "    <div class=\"colab-df-container\">\n",
              "      <div>\n",
              "<style scoped>\n",
              "    .dataframe tbody tr th:only-of-type {\n",
              "        vertical-align: middle;\n",
              "    }\n",
              "\n",
              "    .dataframe tbody tr th {\n",
              "        vertical-align: top;\n",
              "    }\n",
              "\n",
              "    .dataframe thead th {\n",
              "        text-align: right;\n",
              "    }\n",
              "</style>\n",
              "<table border=\"1\" class=\"dataframe\">\n",
              "  <thead>\n",
              "    <tr style=\"text-align: right;\">\n",
              "      <th></th>\n",
              "      <th>Time_Employed</th>\n",
              "      <th>Num_Prev_Positions</th>\n",
              "      <th>Teamwork</th>\n",
              "      <th>Motivation</th>\n",
              "      <th>Leadership</th>\n",
              "      <th>Performance_Evaluation_low</th>\n",
              "    </tr>\n",
              "  </thead>\n",
              "  <tbody>\n",
              "    <tr>\n",
              "      <th>0</th>\n",
              "      <td>8</td>\n",
              "      <td>2</td>\n",
              "      <td>4</td>\n",
              "      <td>10</td>\n",
              "      <td>8</td>\n",
              "      <td>0</td>\n",
              "    </tr>\n",
              "    <tr>\n",
              "      <th>1</th>\n",
              "      <td>4</td>\n",
              "      <td>3</td>\n",
              "      <td>8</td>\n",
              "      <td>7</td>\n",
              "      <td>8</td>\n",
              "      <td>0</td>\n",
              "    </tr>\n",
              "    <tr>\n",
              "      <th>2</th>\n",
              "      <td>3</td>\n",
              "      <td>3</td>\n",
              "      <td>1</td>\n",
              "      <td>7</td>\n",
              "      <td>5</td>\n",
              "      <td>1</td>\n",
              "    </tr>\n",
              "    <tr>\n",
              "      <th>3</th>\n",
              "      <td>9</td>\n",
              "      <td>1</td>\n",
              "      <td>4</td>\n",
              "      <td>4</td>\n",
              "      <td>5</td>\n",
              "      <td>1</td>\n",
              "    </tr>\n",
              "    <tr>\n",
              "      <th>4</th>\n",
              "      <td>7</td>\n",
              "      <td>3</td>\n",
              "      <td>3</td>\n",
              "      <td>2</td>\n",
              "      <td>10</td>\n",
              "      <td>1</td>\n",
              "    </tr>\n",
              "  </tbody>\n",
              "</table>\n",
              "</div>\n",
              "      <button class=\"colab-df-convert\" onclick=\"convertToInteractive('df-66baa46b-b030-4122-a2fc-9b4351c9696f')\"\n",
              "              title=\"Convert this dataframe to an interactive table.\"\n",
              "              style=\"display:none;\">\n",
              "        \n",
              "  <svg xmlns=\"http://www.w3.org/2000/svg\" height=\"24px\"viewBox=\"0 0 24 24\"\n",
              "       width=\"24px\">\n",
              "    <path d=\"M0 0h24v24H0V0z\" fill=\"none\"/>\n",
              "    <path d=\"M18.56 5.44l.94 2.06.94-2.06 2.06-.94-2.06-.94-.94-2.06-.94 2.06-2.06.94zm-11 1L8.5 8.5l.94-2.06 2.06-.94-2.06-.94L8.5 2.5l-.94 2.06-2.06.94zm10 10l.94 2.06.94-2.06 2.06-.94-2.06-.94-.94-2.06-.94 2.06-2.06.94z\"/><path d=\"M17.41 7.96l-1.37-1.37c-.4-.4-.92-.59-1.43-.59-.52 0-1.04.2-1.43.59L10.3 9.45l-7.72 7.72c-.78.78-.78 2.05 0 2.83L4 21.41c.39.39.9.59 1.41.59.51 0 1.02-.2 1.41-.59l7.78-7.78 2.81-2.81c.8-.78.8-2.07 0-2.86zM5.41 20L4 18.59l7.72-7.72 1.47 1.35L5.41 20z\"/>\n",
              "  </svg>\n",
              "      </button>\n",
              "      \n",
              "  <style>\n",
              "    .colab-df-container {\n",
              "      display:flex;\n",
              "      flex-wrap:wrap;\n",
              "      gap: 12px;\n",
              "    }\n",
              "\n",
              "    .colab-df-convert {\n",
              "      background-color: #E8F0FE;\n",
              "      border: none;\n",
              "      border-radius: 50%;\n",
              "      cursor: pointer;\n",
              "      display: none;\n",
              "      fill: #1967D2;\n",
              "      height: 32px;\n",
              "      padding: 0 0 0 0;\n",
              "      width: 32px;\n",
              "    }\n",
              "\n",
              "    .colab-df-convert:hover {\n",
              "      background-color: #E2EBFA;\n",
              "      box-shadow: 0px 1px 2px rgba(60, 64, 67, 0.3), 0px 1px 3px 1px rgba(60, 64, 67, 0.15);\n",
              "      fill: #174EA6;\n",
              "    }\n",
              "\n",
              "    [theme=dark] .colab-df-convert {\n",
              "      background-color: #3B4455;\n",
              "      fill: #D2E3FC;\n",
              "    }\n",
              "\n",
              "    [theme=dark] .colab-df-convert:hover {\n",
              "      background-color: #434B5C;\n",
              "      box-shadow: 0px 1px 3px 1px rgba(0, 0, 0, 0.15);\n",
              "      filter: drop-shadow(0px 1px 2px rgba(0, 0, 0, 0.3));\n",
              "      fill: #FFFFFF;\n",
              "    }\n",
              "  </style>\n",
              "\n",
              "      <script>\n",
              "        const buttonEl =\n",
              "          document.querySelector('#df-66baa46b-b030-4122-a2fc-9b4351c9696f button.colab-df-convert');\n",
              "        buttonEl.style.display =\n",
              "          google.colab.kernel.accessAllowed ? 'block' : 'none';\n",
              "\n",
              "        async function convertToInteractive(key) {\n",
              "          const element = document.querySelector('#df-66baa46b-b030-4122-a2fc-9b4351c9696f');\n",
              "          const dataTable =\n",
              "            await google.colab.kernel.invokeFunction('convertToInteractive',\n",
              "                                                     [key], {});\n",
              "          if (!dataTable) return;\n",
              "\n",
              "          const docLinkHtml = 'Like what you see? Visit the ' +\n",
              "            '<a target=\"_blank\" href=https://colab.research.google.com/notebooks/data_table.ipynb>data table notebook</a>'\n",
              "            + ' to learn more about interactive tables.';\n",
              "          element.innerHTML = '';\n",
              "          dataTable['output_type'] = 'display_data';\n",
              "          await google.colab.output.renderOutput(dataTable, element);\n",
              "          const docLink = document.createElement('div');\n",
              "          docLink.innerHTML = docLinkHtml;\n",
              "          element.appendChild(docLink);\n",
              "        }\n",
              "      </script>\n",
              "    </div>\n",
              "  </div>\n",
              "  "
            ]
          },
          "metadata": {},
          "execution_count": 22
        }
      ]
    },
    {
      "cell_type": "code",
      "source": [
        "#use the standard scaler function (see cheat sheet in clustering analysis module)\n",
        "#normalize features\n",
        "scaler = StandardScaler() #save this function to an object called scaler\n",
        "scaled_features = scaler.fit_transform(features) #perform normalization transformation on your selected variables"
      ],
      "metadata": {
        "id": "L5Gwl9zCiY0p"
      },
      "execution_count": null,
      "outputs": []
    },
    {
      "cell_type": "code",
      "source": [
        "kmeans = KMeans(\n",
        "    init=\"random\",\n",
        "    n_clusters=2,\n",
        "    n_init=10,\n",
        "    max_iter=300,\n",
        "    random_state=42\n",
        ")\n",
        "\n",
        "kmeans.fit(scaled_features) #set model parameters, update n_clusters appropriately"
      ],
      "metadata": {
        "id": "7tOgp-64i_tl",
        "colab": {
          "base_uri": "https://localhost:8080/",
          "height": 95
        },
        "outputId": "ed8df5bf-7243-47eb-ebc1-ca19f07d7768"
      },
      "execution_count": null,
      "outputs": [
        {
          "output_type": "execute_result",
          "data": {
            "text/plain": [
              "KMeans(init='random', n_clusters=2, n_init=10, random_state=42)"
            ],
            "text/html": [
              "<style>#sk-container-id-1 {color: black;background-color: white;}#sk-container-id-1 pre{padding: 0;}#sk-container-id-1 div.sk-toggleable {background-color: white;}#sk-container-id-1 label.sk-toggleable__label {cursor: pointer;display: block;width: 100%;margin-bottom: 0;padding: 0.3em;box-sizing: border-box;text-align: center;}#sk-container-id-1 label.sk-toggleable__label-arrow:before {content: \"▸\";float: left;margin-right: 0.25em;color: #696969;}#sk-container-id-1 label.sk-toggleable__label-arrow:hover:before {color: black;}#sk-container-id-1 div.sk-estimator:hover label.sk-toggleable__label-arrow:before {color: black;}#sk-container-id-1 div.sk-toggleable__content {max-height: 0;max-width: 0;overflow: hidden;text-align: left;background-color: #f0f8ff;}#sk-container-id-1 div.sk-toggleable__content pre {margin: 0.2em;color: black;border-radius: 0.25em;background-color: #f0f8ff;}#sk-container-id-1 input.sk-toggleable__control:checked~div.sk-toggleable__content {max-height: 200px;max-width: 100%;overflow: auto;}#sk-container-id-1 input.sk-toggleable__control:checked~label.sk-toggleable__label-arrow:before {content: \"▾\";}#sk-container-id-1 div.sk-estimator input.sk-toggleable__control:checked~label.sk-toggleable__label {background-color: #d4ebff;}#sk-container-id-1 div.sk-label input.sk-toggleable__control:checked~label.sk-toggleable__label {background-color: #d4ebff;}#sk-container-id-1 input.sk-hidden--visually {border: 0;clip: rect(1px 1px 1px 1px);clip: rect(1px, 1px, 1px, 1px);height: 1px;margin: -1px;overflow: hidden;padding: 0;position: absolute;width: 1px;}#sk-container-id-1 div.sk-estimator {font-family: monospace;background-color: #f0f8ff;border: 1px dotted black;border-radius: 0.25em;box-sizing: border-box;margin-bottom: 0.5em;}#sk-container-id-1 div.sk-estimator:hover {background-color: #d4ebff;}#sk-container-id-1 div.sk-parallel-item::after {content: \"\";width: 100%;border-bottom: 1px solid gray;flex-grow: 1;}#sk-container-id-1 div.sk-label:hover label.sk-toggleable__label {background-color: #d4ebff;}#sk-container-id-1 div.sk-serial::before {content: \"\";position: absolute;border-left: 1px solid gray;box-sizing: border-box;top: 0;bottom: 0;left: 50%;z-index: 0;}#sk-container-id-1 div.sk-serial {display: flex;flex-direction: column;align-items: center;background-color: white;padding-right: 0.2em;padding-left: 0.2em;position: relative;}#sk-container-id-1 div.sk-item {position: relative;z-index: 1;}#sk-container-id-1 div.sk-parallel {display: flex;align-items: stretch;justify-content: center;background-color: white;position: relative;}#sk-container-id-1 div.sk-item::before, #sk-container-id-1 div.sk-parallel-item::before {content: \"\";position: absolute;border-left: 1px solid gray;box-sizing: border-box;top: 0;bottom: 0;left: 50%;z-index: -1;}#sk-container-id-1 div.sk-parallel-item {display: flex;flex-direction: column;z-index: 1;position: relative;background-color: white;}#sk-container-id-1 div.sk-parallel-item:first-child::after {align-self: flex-end;width: 50%;}#sk-container-id-1 div.sk-parallel-item:last-child::after {align-self: flex-start;width: 50%;}#sk-container-id-1 div.sk-parallel-item:only-child::after {width: 0;}#sk-container-id-1 div.sk-dashed-wrapped {border: 1px dashed gray;margin: 0 0.4em 0.5em 0.4em;box-sizing: border-box;padding-bottom: 0.4em;background-color: white;}#sk-container-id-1 div.sk-label label {font-family: monospace;font-weight: bold;display: inline-block;line-height: 1.2em;}#sk-container-id-1 div.sk-label-container {text-align: center;}#sk-container-id-1 div.sk-container {/* jupyter's `normalize.less` sets `[hidden] { display: none; }` but bootstrap.min.css set `[hidden] { display: none !important; }` so we also need the `!important` here to be able to override the default hidden behavior on the sphinx rendered scikit-learn.org. See: https://github.com/scikit-learn/scikit-learn/issues/21755 */display: inline-block !important;position: relative;}#sk-container-id-1 div.sk-text-repr-fallback {display: none;}</style><div id=\"sk-container-id-1\" class=\"sk-top-container\"><div class=\"sk-text-repr-fallback\"><pre>KMeans(init=&#x27;random&#x27;, n_clusters=2, n_init=10, random_state=42)</pre><b>In a Jupyter environment, please rerun this cell to show the HTML representation or trust the notebook. <br />On GitHub, the HTML representation is unable to render, please try loading this page with nbviewer.org.</b></div><div class=\"sk-container\" hidden><div class=\"sk-item\"><div class=\"sk-estimator sk-toggleable\"><input class=\"sk-toggleable__control sk-hidden--visually\" id=\"sk-estimator-id-1\" type=\"checkbox\" checked><label for=\"sk-estimator-id-1\" class=\"sk-toggleable__label sk-toggleable__label-arrow\">KMeans</label><div class=\"sk-toggleable__content\"><pre>KMeans(init=&#x27;random&#x27;, n_clusters=2, n_init=10, random_state=42)</pre></div></div></div></div></div>"
            ]
          },
          "metadata": {},
          "execution_count": 24
        }
      ]
    },
    {
      "cell_type": "code",
      "source": [
        "centroids = kmeans.cluster_centers_ #save centroids from kmeans analysis to object called 'centroids'\n",
        "centroid_table = pd.DataFrame(centroids, #create table where values of table cells are the centroids\n",
        "                              columns = features.columns,  #set the names of the columns based on what variables were included in the analysis,\n",
        "                              index =['Low Performers', 'High Performers']) #set the index to the names of each cluster, here k = 5)\n",
        "centroid_table #display table\n",
        "\n",
        "# replace with code to create a normalized centroid table (see clustering cheat sheet)"
      ],
      "metadata": {
        "id": "IeEpz5P2gIUg",
        "colab": {
          "base_uri": "https://localhost:8080/",
          "height": 211
        },
        "outputId": "34f6c1b6-4052-488d-823b-3bb261fbacd5"
      },
      "execution_count": null,
      "outputs": [
        {
          "output_type": "execute_result",
          "data": {
            "text/plain": [
              "                 Time_Employed  Num_Prev_Positions  Teamwork  Motivation  \\\n",
              "Low Performers       -0.162733           -0.224743 -0.264055   -0.278553   \n",
              "High Performers       0.313095            0.432399  0.508035    0.535929   \n",
              "\n",
              "                 Leadership  Performance_Evaluation_low  \n",
              "Low Performers    -0.232383                    0.720942  \n",
              "High Performers    0.447100                   -1.387075  "
            ],
            "text/html": [
              "\n",
              "  <div id=\"df-d9712d1f-6112-46cb-8bc0-e753ebb4deb7\">\n",
              "    <div class=\"colab-df-container\">\n",
              "      <div>\n",
              "<style scoped>\n",
              "    .dataframe tbody tr th:only-of-type {\n",
              "        vertical-align: middle;\n",
              "    }\n",
              "\n",
              "    .dataframe tbody tr th {\n",
              "        vertical-align: top;\n",
              "    }\n",
              "\n",
              "    .dataframe thead th {\n",
              "        text-align: right;\n",
              "    }\n",
              "</style>\n",
              "<table border=\"1\" class=\"dataframe\">\n",
              "  <thead>\n",
              "    <tr style=\"text-align: right;\">\n",
              "      <th></th>\n",
              "      <th>Time_Employed</th>\n",
              "      <th>Num_Prev_Positions</th>\n",
              "      <th>Teamwork</th>\n",
              "      <th>Motivation</th>\n",
              "      <th>Leadership</th>\n",
              "      <th>Performance_Evaluation_low</th>\n",
              "    </tr>\n",
              "  </thead>\n",
              "  <tbody>\n",
              "    <tr>\n",
              "      <th>Low Performers</th>\n",
              "      <td>-0.162733</td>\n",
              "      <td>-0.224743</td>\n",
              "      <td>-0.264055</td>\n",
              "      <td>-0.278553</td>\n",
              "      <td>-0.232383</td>\n",
              "      <td>0.720942</td>\n",
              "    </tr>\n",
              "    <tr>\n",
              "      <th>High Performers</th>\n",
              "      <td>0.313095</td>\n",
              "      <td>0.432399</td>\n",
              "      <td>0.508035</td>\n",
              "      <td>0.535929</td>\n",
              "      <td>0.447100</td>\n",
              "      <td>-1.387075</td>\n",
              "    </tr>\n",
              "  </tbody>\n",
              "</table>\n",
              "</div>\n",
              "      <button class=\"colab-df-convert\" onclick=\"convertToInteractive('df-d9712d1f-6112-46cb-8bc0-e753ebb4deb7')\"\n",
              "              title=\"Convert this dataframe to an interactive table.\"\n",
              "              style=\"display:none;\">\n",
              "        \n",
              "  <svg xmlns=\"http://www.w3.org/2000/svg\" height=\"24px\"viewBox=\"0 0 24 24\"\n",
              "       width=\"24px\">\n",
              "    <path d=\"M0 0h24v24H0V0z\" fill=\"none\"/>\n",
              "    <path d=\"M18.56 5.44l.94 2.06.94-2.06 2.06-.94-2.06-.94-.94-2.06-.94 2.06-2.06.94zm-11 1L8.5 8.5l.94-2.06 2.06-.94-2.06-.94L8.5 2.5l-.94 2.06-2.06.94zm10 10l.94 2.06.94-2.06 2.06-.94-2.06-.94-.94-2.06-.94 2.06-2.06.94z\"/><path d=\"M17.41 7.96l-1.37-1.37c-.4-.4-.92-.59-1.43-.59-.52 0-1.04.2-1.43.59L10.3 9.45l-7.72 7.72c-.78.78-.78 2.05 0 2.83L4 21.41c.39.39.9.59 1.41.59.51 0 1.02-.2 1.41-.59l7.78-7.78 2.81-2.81c.8-.78.8-2.07 0-2.86zM5.41 20L4 18.59l7.72-7.72 1.47 1.35L5.41 20z\"/>\n",
              "  </svg>\n",
              "      </button>\n",
              "      \n",
              "  <style>\n",
              "    .colab-df-container {\n",
              "      display:flex;\n",
              "      flex-wrap:wrap;\n",
              "      gap: 12px;\n",
              "    }\n",
              "\n",
              "    .colab-df-convert {\n",
              "      background-color: #E8F0FE;\n",
              "      border: none;\n",
              "      border-radius: 50%;\n",
              "      cursor: pointer;\n",
              "      display: none;\n",
              "      fill: #1967D2;\n",
              "      height: 32px;\n",
              "      padding: 0 0 0 0;\n",
              "      width: 32px;\n",
              "    }\n",
              "\n",
              "    .colab-df-convert:hover {\n",
              "      background-color: #E2EBFA;\n",
              "      box-shadow: 0px 1px 2px rgba(60, 64, 67, 0.3), 0px 1px 3px 1px rgba(60, 64, 67, 0.15);\n",
              "      fill: #174EA6;\n",
              "    }\n",
              "\n",
              "    [theme=dark] .colab-df-convert {\n",
              "      background-color: #3B4455;\n",
              "      fill: #D2E3FC;\n",
              "    }\n",
              "\n",
              "    [theme=dark] .colab-df-convert:hover {\n",
              "      background-color: #434B5C;\n",
              "      box-shadow: 0px 1px 3px 1px rgba(0, 0, 0, 0.15);\n",
              "      filter: drop-shadow(0px 1px 2px rgba(0, 0, 0, 0.3));\n",
              "      fill: #FFFFFF;\n",
              "    }\n",
              "  </style>\n",
              "\n",
              "      <script>\n",
              "        const buttonEl =\n",
              "          document.querySelector('#df-d9712d1f-6112-46cb-8bc0-e753ebb4deb7 button.colab-df-convert');\n",
              "        buttonEl.style.display =\n",
              "          google.colab.kernel.accessAllowed ? 'block' : 'none';\n",
              "\n",
              "        async function convertToInteractive(key) {\n",
              "          const element = document.querySelector('#df-d9712d1f-6112-46cb-8bc0-e753ebb4deb7');\n",
              "          const dataTable =\n",
              "            await google.colab.kernel.invokeFunction('convertToInteractive',\n",
              "                                                     [key], {});\n",
              "          if (!dataTable) return;\n",
              "\n",
              "          const docLinkHtml = 'Like what you see? Visit the ' +\n",
              "            '<a target=\"_blank\" href=https://colab.research.google.com/notebooks/data_table.ipynb>data table notebook</a>'\n",
              "            + ' to learn more about interactive tables.';\n",
              "          element.innerHTML = '';\n",
              "          dataTable['output_type'] = 'display_data';\n",
              "          await google.colab.output.renderOutput(dataTable, element);\n",
              "          const docLink = document.createElement('div');\n",
              "          docLink.innerHTML = docLinkHtml;\n",
              "          element.appendChild(docLink);\n",
              "        }\n",
              "      </script>\n",
              "    </div>\n",
              "  </div>\n",
              "  "
            ]
          },
          "metadata": {},
          "execution_count": 25
        }
      ]
    },
    {
      "cell_type": "code",
      "source": [
        " # run this code block to produce the centroid plot\n",
        " ax = centroid_table.plot()\n",
        " ax.set_xticks(range(0,len(centroid_table))) # this sets the number of ticks on the x-axis to your number of clusters\n",
        " ax.set_xticklabels(centroid_table.index.values, rotation=90) # this sets your tick labels on the x-axis to your cluster labels\n",
        " plt.show()"
      ],
      "metadata": {
        "id": "yZTeM3oFkZnh",
        "colab": {
          "base_uri": "https://localhost:8080/",
          "height": 394
        },
        "outputId": "fb4cb74a-cf7f-4821-e73b-c32d473c444f"
      },
      "execution_count": null,
      "outputs": [
        {
          "output_type": "display_data",
          "data": {
            "text/plain": [
              "<Figure size 640x480 with 1 Axes>"
            ],
            "image/png": "[encoded data removed]"
          },
          "metadata": {}
        }
      ]
    },
    {
      "cell_type": "markdown",
      "source": [
        "**Results interpretation for ALL of the results generated in 2B**:\n",
        "\n",
        "According to the centroid table we can interpret that high performance is correlated with higher numerical values of time employed, number of previous positions, teamwork, motivation, and leadership compared to low performance which has lower values in these areas.\n",
        "\n",
        "High performers tend to perform above the mean, while a low performer will perform below the mean."
      ],
      "metadata": {
        "id": "mD1IebXFn82s"
      }
    },
    {
      "cell_type": "markdown",
      "source": [
        "### **C**\n",
        "\n",
        "**Create at least one visualization with a caption or description about how this visualization contributes towards a *meaningful* interpretation of the manager performance data. Refer to the data understanding module ICE or cheat sheet for code on how to produce relevant visualizations, then label it and provide a brief caption.**\n",
        "\n",
        "**You may choose to focus on only one or two variables, it does not need to include all variables. Imagine you're presenting this analysis to your supervisor or another stakeholder. Create a visualization you would use to illustrate a trend you noted in the Part 2 analysis.**"
      ],
      "metadata": {
        "id": "ICpWe-5zogky"
      }
    },
    {
      "cell_type": "code",
      "source": [
        "unscaled = scaler.inverse_transform(centroids)\n",
        "unscaled_table = pd.DataFrame(unscaled, #create table where values of table cells are the centroids\n",
        "                              columns = features.columns, #set the names of the columns based on what variables were included in the analysis,\n",
        "                              index =['Low Performers', 'High Performers']) #set the index to the names of each cluster, here k = 5\n",
        "\n",
        "unscaled_table"
      ],
      "metadata": {
        "colab": {
          "base_uri": "https://localhost:8080/",
          "height": 211
        },
        "id": "f-ZVNkl_Br-U",
        "outputId": "67bdefbd-19b7-406a-b187-79c2827030fb"
      },
      "execution_count": null,
      "outputs": [
        {
          "output_type": "execute_result",
          "data": {
            "text/plain": [
              "                 Time_Employed  Num_Prev_Positions  Teamwork  Motivation  \\\n",
              "Low Performers        6.720365            1.227964  4.577508    4.617021   \n",
              "High Performers       8.906433            1.967836  6.807018    6.973684   \n",
              "\n",
              "                 Leadership  Performance_Evaluation_low  \n",
              "Low Performers     4.740122                1.000000e+00  \n",
              "High Performers    6.728070               -1.443290e-15  "
            ],
            "text/html": [
              "\n",
              "  <div id=\"df-7b20aab2-aae1-4021-83a4-da5bdb356e98\">\n",
              "    <div class=\"colab-df-container\">\n",
              "      <div>\n",
              "<style scoped>\n",
              "    .dataframe tbody tr th:only-of-type {\n",
              "        vertical-align: middle;\n",
              "    }\n",
              "\n",
              "    .dataframe tbody tr th {\n",
              "        vertical-align: top;\n",
              "    }\n",
              "\n",
              "    .dataframe thead th {\n",
              "        text-align: right;\n",
              "    }\n",
              "</style>\n",
              "<table border=\"1\" class=\"dataframe\">\n",
              "  <thead>\n",
              "    <tr style=\"text-align: right;\">\n",
              "      <th></th>\n",
              "      <th>Time_Employed</th>\n",
              "      <th>Num_Prev_Positions</th>\n",
              "      <th>Teamwork</th>\n",
              "      <th>Motivation</th>\n",
              "      <th>Leadership</th>\n",
              "      <th>Performance_Evaluation_low</th>\n",
              "    </tr>\n",
              "  </thead>\n",
              "  <tbody>\n",
              "    <tr>\n",
              "      <th>Low Performers</th>\n",
              "      <td>6.720365</td>\n",
              "      <td>1.227964</td>\n",
              "      <td>4.577508</td>\n",
              "      <td>4.617021</td>\n",
              "      <td>4.740122</td>\n",
              "      <td>1.000000e+00</td>\n",
              "    </tr>\n",
              "    <tr>\n",
              "      <th>High Performers</th>\n",
              "      <td>8.906433</td>\n",
              "      <td>1.967836</td>\n",
              "      <td>6.807018</td>\n",
              "      <td>6.973684</td>\n",
              "      <td>6.728070</td>\n",
              "      <td>-1.443290e-15</td>\n",
              "    </tr>\n",
              "  </tbody>\n",
              "</table>\n",
              "</div>\n",
              "      <button class=\"colab-df-convert\" onclick=\"convertToInteractive('df-7b20aab2-aae1-4021-83a4-da5bdb356e98')\"\n",
              "              title=\"Convert this dataframe to an interactive table.\"\n",
              "              style=\"display:none;\">\n",
              "        \n",
              "  <svg xmlns=\"http://www.w3.org/2000/svg\" height=\"24px\"viewBox=\"0 0 24 24\"\n",
              "       width=\"24px\">\n",
              "    <path d=\"M0 0h24v24H0V0z\" fill=\"none\"/>\n",
              "    <path d=\"M18.56 5.44l.94 2.06.94-2.06 2.06-.94-2.06-.94-.94-2.06-.94 2.06-2.06.94zm-11 1L8.5 8.5l.94-2.06 2.06-.94-2.06-.94L8.5 2.5l-.94 2.06-2.06.94zm10 10l.94 2.06.94-2.06 2.06-.94-2.06-.94-.94-2.06-.94 2.06-2.06.94z\"/><path d=\"M17.41 7.96l-1.37-1.37c-.4-.4-.92-.59-1.43-.59-.52 0-1.04.2-1.43.59L10.3 9.45l-7.72 7.72c-.78.78-.78 2.05 0 2.83L4 21.41c.39.39.9.59 1.41.59.51 0 1.02-.2 1.41-.59l7.78-7.78 2.81-2.81c.8-.78.8-2.07 0-2.86zM5.41 20L4 18.59l7.72-7.72 1.47 1.35L5.41 20z\"/>\n",
              "  </svg>\n",
              "      </button>\n",
              "      \n",
              "  <style>\n",
              "    .colab-df-container {\n",
              "      display:flex;\n",
              "      flex-wrap:wrap;\n",
              "      gap: 12px;\n",
              "    }\n",
              "\n",
              "    .colab-df-convert {\n",
              "      background-color: #E8F0FE;\n",
              "      border: none;\n",
              "      border-radius: 50%;\n",
              "      cursor: pointer;\n",
              "      display: none;\n",
              "      fill: #1967D2;\n",
              "      height: 32px;\n",
              "      padding: 0 0 0 0;\n",
              "      width: 32px;\n",
              "    }\n",
              "\n",
              "    .colab-df-convert:hover {\n",
              "      background-color: #E2EBFA;\n",
              "      box-shadow: 0px 1px 2px rgba(60, 64, 67, 0.3), 0px 1px 3px 1px rgba(60, 64, 67, 0.15);\n",
              "      fill: #174EA6;\n",
              "    }\n",
              "\n",
              "    [theme=dark] .colab-df-convert {\n",
              "      background-color: #3B4455;\n",
              "      fill: #D2E3FC;\n",
              "    }\n",
              "\n",
              "    [theme=dark] .colab-df-convert:hover {\n",
              "      background-color: #434B5C;\n",
              "      box-shadow: 0px 1px 3px 1px rgba(0, 0, 0, 0.15);\n",
              "      filter: drop-shadow(0px 1px 2px rgba(0, 0, 0, 0.3));\n",
              "      fill: #FFFFFF;\n",
              "    }\n",
              "  </style>\n",
              "\n",
              "      <script>\n",
              "        const buttonEl =\n",
              "          document.querySelector('#df-7b20aab2-aae1-4021-83a4-da5bdb356e98 button.colab-df-convert');\n",
              "        buttonEl.style.display =\n",
              "          google.colab.kernel.accessAllowed ? 'block' : 'none';\n",
              "\n",
              "        async function convertToInteractive(key) {\n",
              "          const element = document.querySelector('#df-7b20aab2-aae1-4021-83a4-da5bdb356e98');\n",
              "          const dataTable =\n",
              "            await google.colab.kernel.invokeFunction('convertToInteractive',\n",
              "                                                     [key], {});\n",
              "          if (!dataTable) return;\n",
              "\n",
              "          const docLinkHtml = 'Like what you see? Visit the ' +\n",
              "            '<a target=\"_blank\" href=https://colab.research.google.com/notebooks/data_table.ipynb>data table notebook</a>'\n",
              "            + ' to learn more about interactive tables.';\n",
              "          element.innerHTML = '';\n",
              "          dataTable['output_type'] = 'display_data';\n",
              "          await google.colab.output.renderOutput(dataTable, element);\n",
              "          const docLink = document.createElement('div');\n",
              "          docLink.innerHTML = docLinkHtml;\n",
              "          element.appendChild(docLink);\n",
              "        }\n",
              "      </script>\n",
              "    </div>\n",
              "  </div>\n",
              "  "
            ]
          },
          "metadata": {},
          "execution_count": 27
        }
      ]
    },
    {
      "cell_type": "code",
      "source": [
        "unscaled_table.plot(kind = 'bar', y = ['Leadership', 'Teamwork', 'Motivation']) #select which variables from clustering analysis to plot\n",
        "plt.title(\"Performance Evaluation\")\n",
        "plt.ylabel(\"Average Peer Rating\")\n",
        "plt.show()\n",
        "# replace with code to produce plot -- see Data Understanding Module cheat sheet or ICE for code on producing visualizations"
      ],
      "metadata": {
        "id": "HlsZH3SNphUv",
        "colab": {
          "base_uri": "https://localhost:8080/",
          "height": 414
        },
        "outputId": "07c29c23-28c1-4bfa-d542-3960e0651746"
      },
      "execution_count": null,
      "outputs": [
        {
          "output_type": "display_data",
          "data": {
            "text/plain": [
              "<Figure size 640x480 with 1 Axes>"
            ],
            "image/png": "[encoded data removed]"
          },
          "metadata": {}
        }
      ]
    },
    {
      "cell_type": "markdown",
      "source": [
        "Caption: This a bar chart that displays the mean performance score for motivation, teamwork, and leadership between high and low performers. It shows that high performers have a greater peer rating in these areas compared to low perfomers."
      ],
      "metadata": {
        "id": "gKr067o_xLj5"
      }
    },
    {
      "cell_type": "markdown",
      "source": [
        "# **Part 3: Superviesd DM Technque 1 (27 pts)**\n",
        "\n",
        "**Using the `manager_performance_clean.csv` file from Canvas, develop a supervised data mining model in Python. You will compare this chosen supervised DM model to a different supervised DM model later on in the assignment (Part 5). Think about the dependent variables and its data type in this dataset, then for Part 3 of the final project *choose between linear regression or decision tree analysis.* Referring to the summary pages for each of these methods from the lecture slides would be useful here.**\n",
        "\n",
        "## A\n",
        "\n",
        "**First, identify which model (between linear regression and decision trees) you have chosen and *why*. Focus on the data variable types and the dependent variable in the manager performance dataset. HINT: Think about different types of supervised models we've learned about - regression vs classification.**\n"
      ],
      "metadata": {
        "id": "-zyqZKt8HYdX"
      }
    },
    {
      "cell_type": "markdown",
      "source": [
        "The model we chose was descision trees. We chose this model because it is a supervised analysis that uses numerical data as well as categorical data for predictor variables. Decision trees are used to predict the value of a categorical variable such as high or low performance evaluation."
      ],
      "metadata": {
        "id": "w2YziAmOMhoN"
      }
    },
    {
      "cell_type": "markdown",
      "source": [
        "## B\n",
        "\n",
        "**Train and evaluate your model using 10-fold cross-validation and provide any relevant plots and results. Interpret these results based on the positive class being `Performance_Evaluation_low`. DO NOT EVALUATE YOUR MODEL ON THE TEST SET UNTIL PART 5.**\n",
        "\n",
        "> **Use a 80-20 training and test-set split, then perform 10-fold cross validation on the training set. For this model, set `min_samples_leaf` to 8, `max_depth` to 10, and `criterion` to \"gini\". Do not set the min_impurity_decrease parameter (don't include this code). Evaluate the cross-validated accuracy, kappa, lift, precision, recall, and f-measure; then generate a confusion matrix to compare the actual classes of the DV from the training set (e.g., y_train), against the predicted classes (y_pred).**\n",
        "\n",
        "**Do not just restate the results. Tell me what these results *mean*. Revisit the previous exercises and cheat sheets for the chosen model and model performance module to remember what the relevant steps are and what the interpretation should focus on.**"
      ],
      "metadata": {
        "id": "mbx5F5LaNA9H"
      }
    },
    {
      "cell_type": "code",
      "source": [
        "from sklearn.model_selection import KFold\n",
        "from sklearn.model_selection import train_test_split\n",
        "from sklearn.model_selection import cross_validate\n",
        "from sklearn.model_selection import cross_val_predict\n",
        "from sklearn.metrics import classification_report, confusion_matrix\n",
        "import sklearn.metrics as metrics\n",
        "\n",
        "from sklearn.tree import DecisionTreeClassifier\n",
        "from sklearn import tree\n",
        "import graphviz"
      ],
      "metadata": {
        "id": "FRzdu6N3Yy2K"
      },
      "execution_count": null,
      "outputs": []
    },
    {
      "cell_type": "code",
      "source": [
        "df = pd.read_csv(\"/content/manager_performance_clean.csv\")\n",
        "#preview the data set\n",
        "df.head()"
      ],
      "metadata": {
        "colab": {
          "base_uri": "https://localhost:8080/",
          "height": 270
        },
        "id": "kRccDrVzaFa9",
        "outputId": "aa504506-51b4-4a6c-8161-238cc82609f6"
      },
      "execution_count": null,
      "outputs": [
        {
          "output_type": "execute_result",
          "data": {
            "text/plain": [
              "   Manager_ID  Time_Employed  Num_Prev_Positions  Teamwork  Motivation  \\\n",
              "0           1              8                   2         4          10   \n",
              "1           2              4                   3         8           7   \n",
              "2           3              3                   3         1           7   \n",
              "3           4              9                   1         4           4   \n",
              "4           5              7                   3         3           2   \n",
              "\n",
              "   Leadership Performance_Evaluation  \n",
              "0           8                   high  \n",
              "1           8                   high  \n",
              "2           5                    low  \n",
              "3           5                    low  \n",
              "4          10                    low  "
            ],
            "text/html": [
              "\n",
              "  <div id=\"df-167d9e8b-d0b1-4720-9e24-01cd13538ee6\">\n",
              "    <div class=\"colab-df-container\">\n",
              "      <div>\n",
              "<style scoped>\n",
              "    .dataframe tbody tr th:only-of-type {\n",
              "        vertical-align: middle;\n",
              "    }\n",
              "\n",
              "    .dataframe tbody tr th {\n",
              "        vertical-align: top;\n",
              "    }\n",
              "\n",
              "    .dataframe thead th {\n",
              "        text-align: right;\n",
              "    }\n",
              "</style>\n",
              "<table border=\"1\" class=\"dataframe\">\n",
              "  <thead>\n",
              "    <tr style=\"text-align: right;\">\n",
              "      <th></th>\n",
              "      <th>Manager_ID</th>\n",
              "      <th>Time_Employed</th>\n",
              "      <th>Num_Prev_Positions</th>\n",
              "      <th>Teamwork</th>\n",
              "      <th>Motivation</th>\n",
              "      <th>Leadership</th>\n",
              "      <th>Performance_Evaluation</th>\n",
              "    </tr>\n",
              "  </thead>\n",
              "  <tbody>\n",
              "    <tr>\n",
              "      <th>0</th>\n",
              "      <td>1</td>\n",
              "      <td>8</td>\n",
              "      <td>2</td>\n",
              "      <td>4</td>\n",
              "      <td>10</td>\n",
              "      <td>8</td>\n",
              "      <td>high</td>\n",
              "    </tr>\n",
              "    <tr>\n",
              "      <th>1</th>\n",
              "      <td>2</td>\n",
              "      <td>4</td>\n",
              "      <td>3</td>\n",
              "      <td>8</td>\n",
              "      <td>7</td>\n",
              "      <td>8</td>\n",
              "      <td>high</td>\n",
              "    </tr>\n",
              "    <tr>\n",
              "      <th>2</th>\n",
              "      <td>3</td>\n",
              "      <td>3</td>\n",
              "      <td>3</td>\n",
              "      <td>1</td>\n",
              "      <td>7</td>\n",
              "      <td>5</td>\n",
              "      <td>low</td>\n",
              "    </tr>\n",
              "    <tr>\n",
              "      <th>3</th>\n",
              "      <td>4</td>\n",
              "      <td>9</td>\n",
              "      <td>1</td>\n",
              "      <td>4</td>\n",
              "      <td>4</td>\n",
              "      <td>5</td>\n",
              "      <td>low</td>\n",
              "    </tr>\n",
              "    <tr>\n",
              "      <th>4</th>\n",
              "      <td>5</td>\n",
              "      <td>7</td>\n",
              "      <td>3</td>\n",
              "      <td>3</td>\n",
              "      <td>2</td>\n",
              "      <td>10</td>\n",
              "      <td>low</td>\n",
              "    </tr>\n",
              "  </tbody>\n",
              "</table>\n",
              "</div>\n",
              "      <button class=\"colab-df-convert\" onclick=\"convertToInteractive('df-167d9e8b-d0b1-4720-9e24-01cd13538ee6')\"\n",
              "              title=\"Convert this dataframe to an interactive table.\"\n",
              "              style=\"display:none;\">\n",
              "        \n",
              "  <svg xmlns=\"http://www.w3.org/2000/svg\" height=\"24px\"viewBox=\"0 0 24 24\"\n",
              "       width=\"24px\">\n",
              "    <path d=\"M0 0h24v24H0V0z\" fill=\"none\"/>\n",
              "    <path d=\"M18.56 5.44l.94 2.06.94-2.06 2.06-.94-2.06-.94-.94-2.06-.94 2.06-2.06.94zm-11 1L8.5 8.5l.94-2.06 2.06-.94-2.06-.94L8.5 2.5l-.94 2.06-2.06.94zm10 10l.94 2.06.94-2.06 2.06-.94-2.06-.94-.94-2.06-.94 2.06-2.06.94z\"/><path d=\"M17.41 7.96l-1.37-1.37c-.4-.4-.92-.59-1.43-.59-.52 0-1.04.2-1.43.59L10.3 9.45l-7.72 7.72c-.78.78-.78 2.05 0 2.83L4 21.41c.39.39.9.59 1.41.59.51 0 1.02-.2 1.41-.59l7.78-7.78 2.81-2.81c.8-.78.8-2.07 0-2.86zM5.41 20L4 18.59l7.72-7.72 1.47 1.35L5.41 20z\"/>\n",
              "  </svg>\n",
              "      </button>\n",
              "      \n",
              "  <style>\n",
              "    .colab-df-container {\n",
              "      display:flex;\n",
              "      flex-wrap:wrap;\n",
              "      gap: 12px;\n",
              "    }\n",
              "\n",
              "    .colab-df-convert {\n",
              "      background-color: #E8F0FE;\n",
              "      border: none;\n",
              "      border-radius: 50%;\n",
              "      cursor: pointer;\n",
              "      display: none;\n",
              "      fill: #1967D2;\n",
              "      height: 32px;\n",
              "      padding: 0 0 0 0;\n",
              "      width: 32px;\n",
              "    }\n",
              "\n",
              "    .colab-df-convert:hover {\n",
              "      background-color: #E2EBFA;\n",
              "      box-shadow: 0px 1px 2px rgba(60, 64, 67, 0.3), 0px 1px 3px 1px rgba(60, 64, 67, 0.15);\n",
              "      fill: #174EA6;\n",
              "    }\n",
              "\n",
              "    [theme=dark] .colab-df-convert {\n",
              "      background-color: #3B4455;\n",
              "      fill: #D2E3FC;\n",
              "    }\n",
              "\n",
              "    [theme=dark] .colab-df-convert:hover {\n",
              "      background-color: #434B5C;\n",
              "      box-shadow: 0px 1px 3px 1px rgba(0, 0, 0, 0.15);\n",
              "      filter: drop-shadow(0px 1px 2px rgba(0, 0, 0, 0.3));\n",
              "      fill: #FFFFFF;\n",
              "    }\n",
              "  </style>\n",
              "\n",
              "      <script>\n",
              "        const buttonEl =\n",
              "          document.querySelector('#df-167d9e8b-d0b1-4720-9e24-01cd13538ee6 button.colab-df-convert');\n",
              "        buttonEl.style.display =\n",
              "          google.colab.kernel.accessAllowed ? 'block' : 'none';\n",
              "\n",
              "        async function convertToInteractive(key) {\n",
              "          const element = document.querySelector('#df-167d9e8b-d0b1-4720-9e24-01cd13538ee6');\n",
              "          const dataTable =\n",
              "            await google.colab.kernel.invokeFunction('convertToInteractive',\n",
              "                                                     [key], {});\n",
              "          if (!dataTable) return;\n",
              "\n",
              "          const docLinkHtml = 'Like what you see? Visit the ' +\n",
              "            '<a target=\"_blank\" href=https://colab.research.google.com/notebooks/data_table.ipynb>data table notebook</a>'\n",
              "            + ' to learn more about interactive tables.';\n",
              "          element.innerHTML = '';\n",
              "          dataTable['output_type'] = 'display_data';\n",
              "          await google.colab.output.renderOutput(dataTable, element);\n",
              "          const docLink = document.createElement('div');\n",
              "          docLink.innerHTML = docLinkHtml;\n",
              "          element.appendChild(docLink);\n",
              "        }\n",
              "      </script>\n",
              "    </div>\n",
              "  </div>\n",
              "  "
            ]
          },
          "metadata": {},
          "execution_count": 30
        }
      ]
    },
    {
      "cell_type": "code",
      "source": [
        "# x and y objects (see decision trees cheat sheet)\n",
        "x = df.drop(['Manager_ID', 'Performance_Evaluation'], axis=1) #drop out primary key and DV columns\n",
        "x = pd.get_dummies(data = x, drop_first = False) #make sure to NOT leave out a reference group\n",
        "\n",
        "y = df['Performance_Evaluation']"
      ],
      "metadata": {
        "id": "G5m-oDq_YAxu"
      },
      "execution_count": null,
      "outputs": []
    },
    {
      "cell_type": "code",
      "source": [
        "# training-test split (see decision trees cheat sheet)\n",
        "x_train, x_test, y_train, y_test = train_test_split(\n",
        "    x, y, test_size=0.2, random_state=100)\n",
        "#print each of the 4 data frames (train and test for x and y)\n",
        "print(x_train.shape)\n",
        "print(x_test.shape)\n",
        "print(y_train.shape)\n",
        "print(y_test.shape)"
      ],
      "metadata": {
        "id": "dKrfCMMxYhEb",
        "colab": {
          "base_uri": "https://localhost:8080/"
        },
        "outputId": "957bd6ec-1d29-44b4-9a60-fe7711a7aed1"
      },
      "execution_count": null,
      "outputs": [
        {
          "output_type": "stream",
          "name": "stdout",
          "text": [
            "(800, 5)\n",
            "(200, 5)\n",
            "(800,)\n",
            "(200,)\n"
          ]
        }
      ]
    },
    {
      "cell_type": "code",
      "source": [
        "# replace with code to specify model and set parameters according to directions (decision trees cheat sheet)\n",
        "model = DecisionTreeClassifier(criterion=\"gini\", random_state=100,\n",
        "                               max_depth=10, min_samples_leaf=8)"
      ],
      "metadata": {
        "id": "7YBSeJqmZX9y"
      },
      "execution_count": null,
      "outputs": []
    },
    {
      "cell_type": "code",
      "source": [
        "# replace with code to fit model to training set\n",
        "model.fit(x_train, y_train)\n",
        "#replace with code to produce tree plot on training data (see decision trees cheat sheet)\n",
        "labels = y.value_counts()"
      ],
      "metadata": {
        "id": "bdxrn8J4VgMW"
      },
      "execution_count": null,
      "outputs": []
    },
    {
      "cell_type": "code",
      "source": [
        "# convert label index values to string in order to be used in tree\n",
        "label = str(labels.index.values)"
      ],
      "metadata": {
        "id": "r6fNny4wXkM5"
      },
      "execution_count": null,
      "outputs": []
    },
    {
      "cell_type": "code",
      "source": [
        "dot_data = tree.export_graphviz(model, out_file=None,\n",
        "                                feature_names=x.columns,\n",
        "                                class_names=True,\n",
        "                                filled=True) #plot model\n",
        "\n",
        "# Draw graph\n",
        "graph = graphviz.Source(dot_data, format=\"png\")\n",
        "graph"
      ],
      "metadata": {
        "id": "P1ITgWhwcmEV",
        "colab": {
          "base_uri": "https://localhost:8080/",
          "height": 1253
        },
        "outputId": "e6a4008b-205d-40da-bbc8-0ea5b2311886"
      },
      "execution_count": null,
      "outputs": [
        {
          "output_type": "execute_result",
          "data": {
            "image/svg+xml": "<?xml version=\"1.0\" encoding=\"UTF-8\" standalone=\"no\"?>\n<!DOCTYPE svg PUBLIC \"-//W3C//DTD SVG 1.1//EN\"\n \"http://www.w3.org/Graphics/SVG/1.1/DTD/svg11.dtd\">\n<!-- Generated by graphviz version 2.43.0 (0)\n -->\n<!-- Title: Tree Pages: 1 -->\n<svg width=\"2941pt\" height=\"909pt\"\n viewBox=\"0.00 0.00 2941.00 909.00\" xmlns=\"http://www.w3.org/2000/svg\" xmlns:xlink=\"http://www.w3.org/1999/xlink\">\n<g id=\"graph0\" class=\"graph\" transform=\"scale(1 1) rotate(0) translate(4 905)\">\n<title>Tree</title>\n<polygon fill=\"white\" stroke=\"transparent\" points=\"-4,4 -4,-905 2937,-905 2937,4 -4,4\"/>\n<!-- 0 -->\n<g id=\"node1\" class=\"node\">\n<title>0</title>\n<polygon fill=\"#9dcef2\" stroke=\"black\" points=\"1071.5,-901 946.5,-901 946.5,-818 1071.5,-818 1071.5,-901\"/>\n<text text-anchor=\"middle\" x=\"1009\" y=\"-885.8\" font-family=\"Helvetica,sans-Serif\" font-size=\"14.00\">Teamwork &lt;= 4.5</text>\n<text text-anchor=\"middle\" x=\"1009\" y=\"-870.8\" font-family=\"Helvetica,sans-Serif\" font-size=\"14.00\">gini = 0.446</text>\n<text text-anchor=\"middle\" x=\"1009\" y=\"-855.8\" font-family=\"Helvetica,sans-Serif\" font-size=\"14.00\">samples = 800</text>\n<text text-anchor=\"middle\" x=\"1009\" y=\"-840.8\" font-family=\"Helvetica,sans-Serif\" font-size=\"14.00\">value = [268, 532]</text>\n<text text-anchor=\"middle\" x=\"1009\" y=\"-825.8\" font-family=\"Helvetica,sans-Serif\" font-size=\"14.00\">class = y[1]</text>\n</g>\n<!-- 1 -->\n<g id=\"node2\" class=\"node\">\n<title>1</title>\n<polygon fill=\"#54abe9\" stroke=\"black\" points=\"746,-782 624,-782 624,-699 746,-699 746,-782\"/>\n<text text-anchor=\"middle\" x=\"685\" y=\"-766.8\" font-family=\"Helvetica,sans-Serif\" font-size=\"14.00\">Motivation &lt;= 7.5</text>\n<text text-anchor=\"middle\" x=\"685\" y=\"-751.8\" font-family=\"Helvetica,sans-Serif\" font-size=\"14.00\">gini = 0.213</text>\n<text text-anchor=\"middle\" x=\"685\" y=\"-736.8\" font-family=\"Helvetica,sans-Serif\" font-size=\"14.00\">samples = 330</text>\n<text text-anchor=\"middle\" x=\"685\" y=\"-721.8\" font-family=\"Helvetica,sans-Serif\" font-size=\"14.00\">value = [40, 290]</text>\n<text text-anchor=\"middle\" x=\"685\" y=\"-706.8\" font-family=\"Helvetica,sans-Serif\" font-size=\"14.00\">class = y[1]</text>\n</g>\n<!-- 0&#45;&gt;1 -->\n<g id=\"edge1\" class=\"edge\">\n<title>0&#45;&gt;1</title>\n<path fill=\"none\" stroke=\"black\" d=\"M946.15,-835.8C891.52,-816.08 812.46,-787.53 755.66,-767.02\"/>\n<polygon fill=\"black\" stroke=\"black\" points=\"756.63,-763.64 746.03,-763.54 754.25,-770.23 756.63,-763.64\"/>\n<text text-anchor=\"middle\" x=\"756.66\" y=\"-782.47\" font-family=\"Helvetica,sans-Serif\" font-size=\"14.00\">True</text>\n</g>\n<!-- 24 -->\n<g id=\"node25\" class=\"node\">\n<title>24</title>\n<polygon fill=\"#f4f9fd\" stroke=\"black\" points=\"1413.5,-782 1288.5,-782 1288.5,-699 1413.5,-699 1413.5,-782\"/>\n<text text-anchor=\"middle\" x=\"1351\" y=\"-766.8\" font-family=\"Helvetica,sans-Serif\" font-size=\"14.00\">Motivation &lt;= 4.5</text>\n<text text-anchor=\"middle\" x=\"1351\" y=\"-751.8\" font-family=\"Helvetica,sans-Serif\" font-size=\"14.00\">gini = 0.5</text>\n<text text-anchor=\"middle\" x=\"1351\" y=\"-736.8\" font-family=\"Helvetica,sans-Serif\" font-size=\"14.00\">samples = 470</text>\n<text text-anchor=\"middle\" x=\"1351\" y=\"-721.8\" font-family=\"Helvetica,sans-Serif\" font-size=\"14.00\">value = [228, 242]</text>\n<text text-anchor=\"middle\" x=\"1351\" y=\"-706.8\" font-family=\"Helvetica,sans-Serif\" font-size=\"14.00\">class = y[1]</text>\n</g>\n<!-- 0&#45;&gt;24 -->\n<g id=\"edge24\" class=\"edge\">\n<title>0&#45;&gt;24</title>\n<path fill=\"none\" stroke=\"black\" d=\"M1071.73,-837.04C1130.21,-817.03 1217.4,-787.21 1278.76,-766.21\"/>\n<polygon fill=\"black\" stroke=\"black\" points=\"1280.05,-769.47 1288.38,-762.92 1277.79,-762.85 1280.05,-769.47\"/>\n<text text-anchor=\"middle\" x=\"1277.38\" y=\"-781.67\" font-family=\"Helvetica,sans-Serif\" font-size=\"14.00\">False</text>\n</g>\n<!-- 2 -->\n<g id=\"node3\" class=\"node\">\n<title>2</title>\n<polygon fill=\"#42a2e6\" stroke=\"black\" points=\"401,-663 279,-663 279,-580 401,-580 401,-663\"/>\n<text text-anchor=\"middle\" x=\"340\" y=\"-647.8\" font-family=\"Helvetica,sans-Serif\" font-size=\"14.00\">Motivation &lt;= 4.5</text>\n<text text-anchor=\"middle\" x=\"340\" y=\"-632.8\" font-family=\"Helvetica,sans-Serif\" font-size=\"14.00\">gini = 0.084</text>\n<text text-anchor=\"middle\" x=\"340\" y=\"-617.8\" font-family=\"Helvetica,sans-Serif\" font-size=\"14.00\">samples = 227</text>\n<text text-anchor=\"middle\" x=\"340\" y=\"-602.8\" font-family=\"Helvetica,sans-Serif\" font-size=\"14.00\">value = [10, 217]</text>\n<text text-anchor=\"middle\" x=\"340\" y=\"-587.8\" font-family=\"Helvetica,sans-Serif\" font-size=\"14.00\">class = y[1]</text>\n</g>\n<!-- 1&#45;&gt;2 -->\n<g id=\"edge2\" class=\"edge\">\n<title>1&#45;&gt;2</title>\n<path fill=\"none\" stroke=\"black\" d=\"M623.72,-718.72C564.08,-698.49 473.51,-667.78 410.81,-646.52\"/>\n<polygon fill=\"black\" stroke=\"black\" points=\"411.59,-643.08 401,-643.19 409.35,-649.71 411.59,-643.08\"/>\n</g>\n<!-- 13 -->\n<g id=\"node14\" class=\"node\">\n<title>13</title>\n<polygon fill=\"#8ac5f0\" stroke=\"black\" points=\"748,-663 622,-663 622,-580 748,-580 748,-663\"/>\n<text text-anchor=\"middle\" x=\"685\" y=\"-647.8\" font-family=\"Helvetica,sans-Serif\" font-size=\"14.00\">Leadership &lt;= 4.5</text>\n<text text-anchor=\"middle\" x=\"685\" y=\"-632.8\" font-family=\"Helvetica,sans-Serif\" font-size=\"14.00\">gini = 0.413</text>\n<text text-anchor=\"middle\" x=\"685\" y=\"-617.8\" font-family=\"Helvetica,sans-Serif\" font-size=\"14.00\">samples = 103</text>\n<text text-anchor=\"middle\" x=\"685\" y=\"-602.8\" font-family=\"Helvetica,sans-Serif\" font-size=\"14.00\">value = [30, 73]</text>\n<text text-anchor=\"middle\" x=\"685\" y=\"-587.8\" font-family=\"Helvetica,sans-Serif\" font-size=\"14.00\">class = y[1]</text>\n</g>\n<!-- 1&#45;&gt;13 -->\n<g id=\"edge13\" class=\"edge\">\n<title>1&#45;&gt;13</title>\n<path fill=\"none\" stroke=\"black\" d=\"M685,-698.91C685,-690.65 685,-681.86 685,-673.3\"/>\n<polygon fill=\"black\" stroke=\"black\" points=\"688.5,-673.02 685,-663.02 681.5,-673.02 688.5,-673.02\"/>\n</g>\n<!-- 3 -->\n<g id=\"node4\" class=\"node\">\n<title>3</title>\n<polygon fill=\"#399de5\" stroke=\"black\" points=\"259,-536.5 149,-536.5 149,-468.5 259,-468.5 259,-536.5\"/>\n<text text-anchor=\"middle\" x=\"204\" y=\"-521.3\" font-family=\"Helvetica,sans-Serif\" font-size=\"14.00\">gini = 0.0</text>\n<text text-anchor=\"middle\" x=\"204\" y=\"-506.3\" font-family=\"Helvetica,sans-Serif\" font-size=\"14.00\">samples = 143</text>\n<text text-anchor=\"middle\" x=\"204\" y=\"-491.3\" font-family=\"Helvetica,sans-Serif\" font-size=\"14.00\">value = [0, 143]</text>\n<text text-anchor=\"middle\" x=\"204\" y=\"-476.3\" font-family=\"Helvetica,sans-Serif\" font-size=\"14.00\">class = y[1]</text>\n</g>\n<!-- 2&#45;&gt;3 -->\n<g id=\"edge3\" class=\"edge\">\n<title>2&#45;&gt;3</title>\n<path fill=\"none\" stroke=\"black\" d=\"M292.82,-579.91C279.09,-568.1 264.11,-555.22 250.44,-543.45\"/>\n<polygon fill=\"black\" stroke=\"black\" points=\"252.42,-540.54 242.55,-536.67 247.85,-545.84 252.42,-540.54\"/>\n</g>\n<!-- 4 -->\n<g id=\"node5\" class=\"node\">\n<title>4</title>\n<polygon fill=\"#54aae9\" stroke=\"black\" points=\"403,-544 277,-544 277,-461 403,-461 403,-544\"/>\n<text text-anchor=\"middle\" x=\"340\" y=\"-528.8\" font-family=\"Helvetica,sans-Serif\" font-size=\"14.00\">Leadership &lt;= 6.5</text>\n<text text-anchor=\"middle\" x=\"340\" y=\"-513.8\" font-family=\"Helvetica,sans-Serif\" font-size=\"14.00\">gini = 0.21</text>\n<text text-anchor=\"middle\" x=\"340\" y=\"-498.8\" font-family=\"Helvetica,sans-Serif\" font-size=\"14.00\">samples = 84</text>\n<text text-anchor=\"middle\" x=\"340\" y=\"-483.8\" font-family=\"Helvetica,sans-Serif\" font-size=\"14.00\">value = [10, 74]</text>\n<text text-anchor=\"middle\" x=\"340\" y=\"-468.8\" font-family=\"Helvetica,sans-Serif\" font-size=\"14.00\">class = y[1]</text>\n</g>\n<!-- 2&#45;&gt;4 -->\n<g id=\"edge4\" class=\"edge\">\n<title>2&#45;&gt;4</title>\n<path fill=\"none\" stroke=\"black\" d=\"M340,-579.91C340,-571.65 340,-562.86 340,-554.3\"/>\n<polygon fill=\"black\" stroke=\"black\" points=\"343.5,-554.02 340,-544.02 336.5,-554.02 343.5,-554.02\"/>\n</g>\n<!-- 5 -->\n<g id=\"node6\" class=\"node\">\n<title>5</title>\n<polygon fill=\"#3d9fe5\" stroke=\"black\" points=\"243,-425 77,-425 77,-342 243,-342 243,-425\"/>\n<text text-anchor=\"middle\" x=\"160\" y=\"-409.8\" font-family=\"Helvetica,sans-Serif\" font-size=\"14.00\">Time_Employed &lt;= 11.5</text>\n<text text-anchor=\"middle\" x=\"160\" y=\"-394.8\" font-family=\"Helvetica,sans-Serif\" font-size=\"14.00\">gini = 0.036</text>\n<text text-anchor=\"middle\" x=\"160\" y=\"-379.8\" font-family=\"Helvetica,sans-Serif\" font-size=\"14.00\">samples = 54</text>\n<text text-anchor=\"middle\" x=\"160\" y=\"-364.8\" font-family=\"Helvetica,sans-Serif\" font-size=\"14.00\">value = [1, 53]</text>\n<text text-anchor=\"middle\" x=\"160\" y=\"-349.8\" font-family=\"Helvetica,sans-Serif\" font-size=\"14.00\">class = y[1]</text>\n</g>\n<!-- 4&#45;&gt;5 -->\n<g id=\"edge5\" class=\"edge\">\n<title>4&#45;&gt;5</title>\n<path fill=\"none\" stroke=\"black\" d=\"M277.55,-460.91C262.47,-451.11 246.25,-440.56 230.82,-430.53\"/>\n<polygon fill=\"black\" stroke=\"black\" points=\"232.63,-427.54 222.34,-425.02 228.82,-433.41 232.63,-427.54\"/>\n</g>\n<!-- 8 -->\n<g id=\"node9\" class=\"node\">\n<title>8</title>\n<polygon fill=\"#8ec7f0\" stroke=\"black\" points=\"419,-425 261,-425 261,-342 419,-342 419,-425\"/>\n<text text-anchor=\"middle\" x=\"340\" y=\"-409.8\" font-family=\"Helvetica,sans-Serif\" font-size=\"14.00\">Time_Employed &lt;= 6.0</text>\n<text text-anchor=\"middle\" x=\"340\" y=\"-394.8\" font-family=\"Helvetica,sans-Serif\" font-size=\"14.00\">gini = 0.42</text>\n<text text-anchor=\"middle\" x=\"340\" y=\"-379.8\" font-family=\"Helvetica,sans-Serif\" font-size=\"14.00\">samples = 30</text>\n<text text-anchor=\"middle\" x=\"340\" y=\"-364.8\" font-family=\"Helvetica,sans-Serif\" font-size=\"14.00\">value = [9, 21]</text>\n<text text-anchor=\"middle\" x=\"340\" y=\"-349.8\" font-family=\"Helvetica,sans-Serif\" font-size=\"14.00\">class = y[1]</text>\n</g>\n<!-- 4&#45;&gt;8 -->\n<g id=\"edge8\" class=\"edge\">\n<title>4&#45;&gt;8</title>\n<path fill=\"none\" stroke=\"black\" d=\"M340,-460.91C340,-452.65 340,-443.86 340,-435.3\"/>\n<polygon fill=\"black\" stroke=\"black\" points=\"343.5,-435.02 340,-425.02 336.5,-435.02 343.5,-435.02\"/>\n</g>\n<!-- 6 -->\n<g id=\"node7\" class=\"node\">\n<title>6</title>\n<polygon fill=\"#399de5\" stroke=\"black\" points=\"102,-298.5 0,-298.5 0,-230.5 102,-230.5 102,-298.5\"/>\n<text text-anchor=\"middle\" x=\"51\" y=\"-283.3\" font-family=\"Helvetica,sans-Serif\" font-size=\"14.00\">gini = 0.0</text>\n<text text-anchor=\"middle\" x=\"51\" y=\"-268.3\" font-family=\"Helvetica,sans-Serif\" font-size=\"14.00\">samples = 40</text>\n<text text-anchor=\"middle\" x=\"51\" y=\"-253.3\" font-family=\"Helvetica,sans-Serif\" font-size=\"14.00\">value = [0, 40]</text>\n<text text-anchor=\"middle\" x=\"51\" y=\"-238.3\" font-family=\"Helvetica,sans-Serif\" font-size=\"14.00\">class = y[1]</text>\n</g>\n<!-- 5&#45;&gt;6 -->\n<g id=\"edge6\" class=\"edge\">\n<title>5&#45;&gt;6</title>\n<path fill=\"none\" stroke=\"black\" d=\"M122.18,-341.91C111.39,-330.32 99.63,-317.7 88.83,-306.11\"/>\n<polygon fill=\"black\" stroke=\"black\" points=\"91.28,-303.6 81.9,-298.67 86.15,-308.37 91.28,-303.6\"/>\n</g>\n<!-- 7 -->\n<g id=\"node8\" class=\"node\">\n<title>7</title>\n<polygon fill=\"#48a5e7\" stroke=\"black\" points=\"222,-298.5 120,-298.5 120,-230.5 222,-230.5 222,-298.5\"/>\n<text text-anchor=\"middle\" x=\"171\" y=\"-283.3\" font-family=\"Helvetica,sans-Serif\" font-size=\"14.00\">gini = 0.133</text>\n<text text-anchor=\"middle\" x=\"171\" y=\"-268.3\" font-family=\"Helvetica,sans-Serif\" font-size=\"14.00\">samples = 14</text>\n<text text-anchor=\"middle\" x=\"171\" y=\"-253.3\" font-family=\"Helvetica,sans-Serif\" font-size=\"14.00\">value = [1, 13]</text>\n<text text-anchor=\"middle\" x=\"171\" y=\"-238.3\" font-family=\"Helvetica,sans-Serif\" font-size=\"14.00\">class = y[1]</text>\n</g>\n<!-- 5&#45;&gt;7 -->\n<g id=\"edge7\" class=\"edge\">\n<title>5&#45;&gt;7</title>\n<path fill=\"none\" stroke=\"black\" d=\"M163.82,-341.91C164.82,-331.2 165.91,-319.62 166.93,-308.78\"/>\n<polygon fill=\"black\" stroke=\"black\" points=\"170.43,-308.95 167.88,-298.67 163.46,-308.3 170.43,-308.95\"/>\n</g>\n<!-- 9 -->\n<g id=\"node10\" class=\"node\">\n<title>9</title>\n<polygon fill=\"#399de5\" stroke=\"black\" points=\"363,-298.5 261,-298.5 261,-230.5 363,-230.5 363,-298.5\"/>\n<text text-anchor=\"middle\" x=\"312\" y=\"-283.3\" font-family=\"Helvetica,sans-Serif\" font-size=\"14.00\">gini = 0.0</text>\n<text text-anchor=\"middle\" x=\"312\" y=\"-268.3\" font-family=\"Helvetica,sans-Serif\" font-size=\"14.00\">samples = 14</text>\n<text text-anchor=\"middle\" x=\"312\" y=\"-253.3\" font-family=\"Helvetica,sans-Serif\" font-size=\"14.00\">value = [0, 14]</text>\n<text text-anchor=\"middle\" x=\"312\" y=\"-238.3\" font-family=\"Helvetica,sans-Serif\" font-size=\"14.00\">class = y[1]</text>\n</g>\n<!-- 8&#45;&gt;9 -->\n<g id=\"edge9\" class=\"edge\">\n<title>8&#45;&gt;9</title>\n<path fill=\"none\" stroke=\"black\" d=\"M330.29,-341.91C327.7,-331.09 324.89,-319.38 322.28,-308.44\"/>\n<polygon fill=\"black\" stroke=\"black\" points=\"325.67,-307.58 319.94,-298.67 318.86,-309.21 325.67,-307.58\"/>\n</g>\n<!-- 10 -->\n<g id=\"node11\" class=\"node\">\n<title>10</title>\n<polygon fill=\"#f9e3d3\" stroke=\"black\" points=\"567,-306 381,-306 381,-223 567,-223 567,-306\"/>\n<text text-anchor=\"middle\" x=\"474\" y=\"-290.8\" font-family=\"Helvetica,sans-Serif\" font-size=\"14.00\">Num_Prev_Positions &lt;= 1.5</text>\n<text text-anchor=\"middle\" x=\"474\" y=\"-275.8\" font-family=\"Helvetica,sans-Serif\" font-size=\"14.00\">gini = 0.492</text>\n<text text-anchor=\"middle\" x=\"474\" y=\"-260.8\" font-family=\"Helvetica,sans-Serif\" font-size=\"14.00\">samples = 16</text>\n<text text-anchor=\"middle\" x=\"474\" y=\"-245.8\" font-family=\"Helvetica,sans-Serif\" font-size=\"14.00\">value = [9, 7]</text>\n<text text-anchor=\"middle\" x=\"474\" y=\"-230.8\" font-family=\"Helvetica,sans-Serif\" font-size=\"14.00\">class = y[0]</text>\n</g>\n<!-- 8&#45;&gt;10 -->\n<g id=\"edge10\" class=\"edge\">\n<title>8&#45;&gt;10</title>\n<path fill=\"none\" stroke=\"black\" d=\"M386.49,-341.91C397.3,-332.47 408.9,-322.34 420,-312.65\"/>\n<polygon fill=\"black\" stroke=\"black\" points=\"422.36,-315.23 427.59,-306.02 417.76,-309.96 422.36,-315.23\"/>\n</g>\n<!-- 11 -->\n<g id=\"node12\" class=\"node\">\n<title>11</title>\n<polygon fill=\"#55abe9\" stroke=\"black\" points=\"465.5,-179.5 370.5,-179.5 370.5,-111.5 465.5,-111.5 465.5,-179.5\"/>\n<text text-anchor=\"middle\" x=\"418\" y=\"-164.3\" font-family=\"Helvetica,sans-Serif\" font-size=\"14.00\">gini = 0.219</text>\n<text text-anchor=\"middle\" x=\"418\" y=\"-149.3\" font-family=\"Helvetica,sans-Serif\" font-size=\"14.00\">samples = 8</text>\n<text text-anchor=\"middle\" x=\"418\" y=\"-134.3\" font-family=\"Helvetica,sans-Serif\" font-size=\"14.00\">value = [1, 7]</text>\n<text text-anchor=\"middle\" x=\"418\" y=\"-119.3\" font-family=\"Helvetica,sans-Serif\" font-size=\"14.00\">class = y[1]</text>\n</g>\n<!-- 10&#45;&gt;11 -->\n<g id=\"edge11\" class=\"edge\">\n<title>10&#45;&gt;11</title>\n<path fill=\"none\" stroke=\"black\" d=\"M454.57,-222.91C449.29,-211.87 443.56,-199.9 438.23,-188.77\"/>\n<polygon fill=\"black\" stroke=\"black\" points=\"441.35,-187.18 433.87,-179.67 435.04,-190.2 441.35,-187.18\"/>\n</g>\n<!-- 12 -->\n<g id=\"node13\" class=\"node\">\n<title>12</title>\n<polygon fill=\"#e58139\" stroke=\"black\" points=\"578.5,-179.5 483.5,-179.5 483.5,-111.5 578.5,-111.5 578.5,-179.5\"/>\n<text text-anchor=\"middle\" x=\"531\" y=\"-164.3\" font-family=\"Helvetica,sans-Serif\" font-size=\"14.00\">gini = 0.0</text>\n<text text-anchor=\"middle\" x=\"531\" y=\"-149.3\" font-family=\"Helvetica,sans-Serif\" font-size=\"14.00\">samples = 8</text>\n<text text-anchor=\"middle\" x=\"531\" y=\"-134.3\" font-family=\"Helvetica,sans-Serif\" font-size=\"14.00\">value = [8, 0]</text>\n<text text-anchor=\"middle\" x=\"531\" y=\"-119.3\" font-family=\"Helvetica,sans-Serif\" font-size=\"14.00\">class = y[0]</text>\n</g>\n<!-- 10&#45;&gt;12 -->\n<g id=\"edge12\" class=\"edge\">\n<title>10&#45;&gt;12</title>\n<path fill=\"none\" stroke=\"black\" d=\"M493.78,-222.91C499.15,-211.87 504.99,-199.9 510.41,-188.77\"/>\n<polygon fill=\"black\" stroke=\"black\" points=\"513.61,-190.19 514.84,-179.67 507.32,-187.12 513.61,-190.19\"/>\n</g>\n<!-- 14 -->\n<g id=\"node15\" class=\"node\">\n<title>14</title>\n<polygon fill=\"#3d9fe6\" stroke=\"black\" points=\"671,-544 505,-544 505,-461 671,-461 671,-544\"/>\n<text text-anchor=\"middle\" x=\"588\" y=\"-528.8\" font-family=\"Helvetica,sans-Serif\" font-size=\"14.00\">Time_Employed &lt;= 13.5</text>\n<text text-anchor=\"middle\" x=\"588\" y=\"-513.8\" font-family=\"Helvetica,sans-Serif\" font-size=\"14.00\">gini = 0.038</text>\n<text text-anchor=\"middle\" x=\"588\" y=\"-498.8\" font-family=\"Helvetica,sans-Serif\" font-size=\"14.00\">samples = 51</text>\n<text text-anchor=\"middle\" x=\"588\" y=\"-483.8\" font-family=\"Helvetica,sans-Serif\" font-size=\"14.00\">value = [1, 50]</text>\n<text text-anchor=\"middle\" x=\"588\" y=\"-468.8\" font-family=\"Helvetica,sans-Serif\" font-size=\"14.00\">class = y[1]</text>\n</g>\n<!-- 13&#45;&gt;14 -->\n<g id=\"edge14\" class=\"edge\">\n<title>13&#45;&gt;14</title>\n<path fill=\"none\" stroke=\"black\" d=\"M651.35,-579.91C643.82,-570.83 635.77,-561.12 628.02,-551.77\"/>\n<polygon fill=\"black\" stroke=\"black\" points=\"630.67,-549.49 621.59,-544.02 625.28,-553.95 630.67,-549.49\"/>\n</g>\n<!-- 17 -->\n<g id=\"node18\" class=\"node\">\n<title>17</title>\n<polygon fill=\"#fae5d6\" stroke=\"black\" points=\"875,-544 689,-544 689,-461 875,-461 875,-544\"/>\n<text text-anchor=\"middle\" x=\"782\" y=\"-528.8\" font-family=\"Helvetica,sans-Serif\" font-size=\"14.00\">Num_Prev_Positions &lt;= 1.5</text>\n<text text-anchor=\"middle\" x=\"782\" y=\"-513.8\" font-family=\"Helvetica,sans-Serif\" font-size=\"14.00\">gini = 0.493</text>\n<text text-anchor=\"middle\" x=\"782\" y=\"-498.8\" font-family=\"Helvetica,sans-Serif\" font-size=\"14.00\">samples = 52</text>\n<text text-anchor=\"middle\" x=\"782\" y=\"-483.8\" font-family=\"Helvetica,sans-Serif\" font-size=\"14.00\">value = [29, 23]</text>\n<text text-anchor=\"middle\" x=\"782\" y=\"-468.8\" font-family=\"Helvetica,sans-Serif\" font-size=\"14.00\">class = y[0]</text>\n</g>\n<!-- 13&#45;&gt;17 -->\n<g id=\"edge17\" class=\"edge\">\n<title>13&#45;&gt;17</title>\n<path fill=\"none\" stroke=\"black\" d=\"M718.65,-579.91C726.18,-570.83 734.23,-561.12 741.98,-551.77\"/>\n<polygon fill=\"black\" stroke=\"black\" points=\"744.72,-553.95 748.41,-544.02 739.33,-549.49 744.72,-553.95\"/>\n</g>\n<!-- 15 -->\n<g id=\"node16\" class=\"node\">\n<title>15</title>\n<polygon fill=\"#399de5\" stroke=\"black\" points=\"539,-417.5 437,-417.5 437,-349.5 539,-349.5 539,-417.5\"/>\n<text text-anchor=\"middle\" x=\"488\" y=\"-402.3\" font-family=\"Helvetica,sans-Serif\" font-size=\"14.00\">gini = 0.0</text>\n<text text-anchor=\"middle\" x=\"488\" y=\"-387.3\" font-family=\"Helvetica,sans-Serif\" font-size=\"14.00\">samples = 42</text>\n<text text-anchor=\"middle\" x=\"488\" y=\"-372.3\" font-family=\"Helvetica,sans-Serif\" font-size=\"14.00\">value = [0, 42]</text>\n<text text-anchor=\"middle\" x=\"488\" y=\"-357.3\" font-family=\"Helvetica,sans-Serif\" font-size=\"14.00\">class = y[1]</text>\n</g>\n<!-- 14&#45;&gt;15 -->\n<g id=\"edge15\" class=\"edge\">\n<title>14&#45;&gt;15</title>\n<path fill=\"none\" stroke=\"black\" d=\"M553.31,-460.91C543.5,-449.43 532.82,-436.94 522.99,-425.44\"/>\n<polygon fill=\"black\" stroke=\"black\" points=\"525.51,-422.99 516.35,-417.67 520.18,-427.54 525.51,-422.99\"/>\n</g>\n<!-- 16 -->\n<g id=\"node17\" class=\"node\">\n<title>16</title>\n<polygon fill=\"#52a9e8\" stroke=\"black\" points=\"652.5,-417.5 557.5,-417.5 557.5,-349.5 652.5,-349.5 652.5,-417.5\"/>\n<text text-anchor=\"middle\" x=\"605\" y=\"-402.3\" font-family=\"Helvetica,sans-Serif\" font-size=\"14.00\">gini = 0.198</text>\n<text text-anchor=\"middle\" x=\"605\" y=\"-387.3\" font-family=\"Helvetica,sans-Serif\" font-size=\"14.00\">samples = 9</text>\n<text text-anchor=\"middle\" x=\"605\" y=\"-372.3\" font-family=\"Helvetica,sans-Serif\" font-size=\"14.00\">value = [1, 8]</text>\n<text text-anchor=\"middle\" x=\"605\" y=\"-357.3\" font-family=\"Helvetica,sans-Serif\" font-size=\"14.00\">class = y[1]</text>\n</g>\n<!-- 14&#45;&gt;16 -->\n<g id=\"edge16\" class=\"edge\">\n<title>14&#45;&gt;16</title>\n<path fill=\"none\" stroke=\"black\" d=\"M593.9,-460.91C595.45,-450.2 597.14,-438.62 598.71,-427.78\"/>\n<polygon fill=\"black\" stroke=\"black\" points=\"602.21,-428.07 600.18,-417.67 595.28,-427.06 602.21,-428.07\"/>\n</g>\n<!-- 18 -->\n<g id=\"node19\" class=\"node\">\n<title>18</title>\n<polygon fill=\"#45a3e7\" stroke=\"black\" points=\"857,-425 671,-425 671,-342 857,-342 857,-425\"/>\n<text text-anchor=\"middle\" x=\"764\" y=\"-409.8\" font-family=\"Helvetica,sans-Serif\" font-size=\"14.00\">Num_Prev_Positions &lt;= 0.5</text>\n<text text-anchor=\"middle\" x=\"764\" y=\"-394.8\" font-family=\"Helvetica,sans-Serif\" font-size=\"14.00\">gini = 0.105</text>\n<text text-anchor=\"middle\" x=\"764\" y=\"-379.8\" font-family=\"Helvetica,sans-Serif\" font-size=\"14.00\">samples = 18</text>\n<text text-anchor=\"middle\" x=\"764\" y=\"-364.8\" font-family=\"Helvetica,sans-Serif\" font-size=\"14.00\">value = [1, 17]</text>\n<text text-anchor=\"middle\" x=\"764\" y=\"-349.8\" font-family=\"Helvetica,sans-Serif\" font-size=\"14.00\">class = y[1]</text>\n</g>\n<!-- 17&#45;&gt;18 -->\n<g id=\"edge18\" class=\"edge\">\n<title>17&#45;&gt;18</title>\n<path fill=\"none\" stroke=\"black\" d=\"M775.75,-460.91C774.47,-452.56 773.1,-443.67 771.77,-435.02\"/>\n<polygon fill=\"black\" stroke=\"black\" points=\"775.21,-434.37 770.23,-425.02 768.3,-435.44 775.21,-434.37\"/>\n</g>\n<!-- 21 -->\n<g id=\"node22\" class=\"node\">\n<title>21</title>\n<polygon fill=\"#eb9c63\" stroke=\"black\" points=\"1033,-425 875,-425 875,-342 1033,-342 1033,-425\"/>\n<text text-anchor=\"middle\" x=\"954\" y=\"-409.8\" font-family=\"Helvetica,sans-Serif\" font-size=\"14.00\">Time_Employed &lt;= 3.5</text>\n<text text-anchor=\"middle\" x=\"954\" y=\"-394.8\" font-family=\"Helvetica,sans-Serif\" font-size=\"14.00\">gini = 0.291</text>\n<text text-anchor=\"middle\" x=\"954\" y=\"-379.8\" font-family=\"Helvetica,sans-Serif\" font-size=\"14.00\">samples = 34</text>\n<text text-anchor=\"middle\" x=\"954\" y=\"-364.8\" font-family=\"Helvetica,sans-Serif\" font-size=\"14.00\">value = [28, 6]</text>\n<text text-anchor=\"middle\" x=\"954\" y=\"-349.8\" font-family=\"Helvetica,sans-Serif\" font-size=\"14.00\">class = y[0]</text>\n</g>\n<!-- 17&#45;&gt;21 -->\n<g id=\"edge21\" class=\"edge\">\n<title>17&#45;&gt;21</title>\n<path fill=\"none\" stroke=\"black\" d=\"M841.67,-460.91C855.95,-451.2 871.3,-440.76 885.92,-430.81\"/>\n<polygon fill=\"black\" stroke=\"black\" points=\"888.13,-433.54 894.43,-425.02 884.19,-427.75 888.13,-433.54\"/>\n</g>\n<!-- 19 -->\n<g id=\"node20\" class=\"node\">\n<title>19</title>\n<polygon fill=\"#399de5\" stroke=\"black\" points=\"698,-298.5 596,-298.5 596,-230.5 698,-230.5 698,-298.5\"/>\n<text text-anchor=\"middle\" x=\"647\" y=\"-283.3\" font-family=\"Helvetica,sans-Serif\" font-size=\"14.00\">gini = 0.0</text>\n<text text-anchor=\"middle\" x=\"647\" y=\"-268.3\" font-family=\"Helvetica,sans-Serif\" font-size=\"14.00\">samples = 10</text>\n<text text-anchor=\"middle\" x=\"647\" y=\"-253.3\" font-family=\"Helvetica,sans-Serif\" font-size=\"14.00\">value = [0, 10]</text>\n<text text-anchor=\"middle\" x=\"647\" y=\"-238.3\" font-family=\"Helvetica,sans-Serif\" font-size=\"14.00\">class = y[1]</text>\n</g>\n<!-- 18&#45;&gt;19 -->\n<g id=\"edge19\" class=\"edge\">\n<title>18&#45;&gt;19</title>\n<path fill=\"none\" stroke=\"black\" d=\"M723.41,-341.91C711.71,-330.21 698.96,-317.46 687.28,-305.78\"/>\n<polygon fill=\"black\" stroke=\"black\" points=\"689.71,-303.26 680.17,-298.67 684.76,-308.21 689.71,-303.26\"/>\n</g>\n<!-- 20 -->\n<g id=\"node21\" class=\"node\">\n<title>20</title>\n<polygon fill=\"#55abe9\" stroke=\"black\" points=\"811.5,-298.5 716.5,-298.5 716.5,-230.5 811.5,-230.5 811.5,-298.5\"/>\n<text text-anchor=\"middle\" x=\"764\" y=\"-283.3\" font-family=\"Helvetica,sans-Serif\" font-size=\"14.00\">gini = 0.219</text>\n<text text-anchor=\"middle\" x=\"764\" y=\"-268.3\" font-family=\"Helvetica,sans-Serif\" font-size=\"14.00\">samples = 8</text>\n<text text-anchor=\"middle\" x=\"764\" y=\"-253.3\" font-family=\"Helvetica,sans-Serif\" font-size=\"14.00\">value = [1, 7]</text>\n<text text-anchor=\"middle\" x=\"764\" y=\"-238.3\" font-family=\"Helvetica,sans-Serif\" font-size=\"14.00\">class = y[1]</text>\n</g>\n<!-- 18&#45;&gt;20 -->\n<g id=\"edge20\" class=\"edge\">\n<title>18&#45;&gt;20</title>\n<path fill=\"none\" stroke=\"black\" d=\"M764,-341.91C764,-331.2 764,-319.62 764,-308.78\"/>\n<polygon fill=\"black\" stroke=\"black\" points=\"767.5,-308.67 764,-298.67 760.5,-308.67 767.5,-308.67\"/>\n</g>\n<!-- 22 -->\n<g id=\"node23\" class=\"node\">\n<title>22</title>\n<polygon fill=\"#bddef6\" stroke=\"black\" points=\"928,-298.5 830,-298.5 830,-230.5 928,-230.5 928,-298.5\"/>\n<text text-anchor=\"middle\" x=\"879\" y=\"-283.3\" font-family=\"Helvetica,sans-Serif\" font-size=\"14.00\">gini = 0.48</text>\n<text text-anchor=\"middle\" x=\"879\" y=\"-268.3\" font-family=\"Helvetica,sans-Serif\" font-size=\"14.00\">samples = 10</text>\n<text text-anchor=\"middle\" x=\"879\" y=\"-253.3\" font-family=\"Helvetica,sans-Serif\" font-size=\"14.00\">value = [4, 6]</text>\n<text text-anchor=\"middle\" x=\"879\" y=\"-238.3\" font-family=\"Helvetica,sans-Serif\" font-size=\"14.00\">class = y[1]</text>\n</g>\n<!-- 21&#45;&gt;22 -->\n<g id=\"edge22\" class=\"edge\">\n<title>21&#45;&gt;22</title>\n<path fill=\"none\" stroke=\"black\" d=\"M927.98,-341.91C920.76,-330.65 912.92,-318.42 905.67,-307.11\"/>\n<polygon fill=\"black\" stroke=\"black\" points=\"908.6,-305.2 900.26,-298.67 902.71,-308.97 908.6,-305.2\"/>\n</g>\n<!-- 23 -->\n<g id=\"node24\" class=\"node\">\n<title>23</title>\n<polygon fill=\"#e58139\" stroke=\"black\" points=\"1048,-298.5 946,-298.5 946,-230.5 1048,-230.5 1048,-298.5\"/>\n<text text-anchor=\"middle\" x=\"997\" y=\"-283.3\" font-family=\"Helvetica,sans-Serif\" font-size=\"14.00\">gini = 0.0</text>\n<text text-anchor=\"middle\" x=\"997\" y=\"-268.3\" font-family=\"Helvetica,sans-Serif\" font-size=\"14.00\">samples = 24</text>\n<text text-anchor=\"middle\" x=\"997\" y=\"-253.3\" font-family=\"Helvetica,sans-Serif\" font-size=\"14.00\">value = [24, 0]</text>\n<text text-anchor=\"middle\" x=\"997\" y=\"-238.3\" font-family=\"Helvetica,sans-Serif\" font-size=\"14.00\">class = y[0]</text>\n</g>\n<!-- 21&#45;&gt;23 -->\n<g id=\"edge23\" class=\"edge\">\n<title>21&#45;&gt;23</title>\n<path fill=\"none\" stroke=\"black\" d=\"M968.92,-341.91C972.93,-330.98 977.29,-319.14 981.34,-308.11\"/>\n<polygon fill=\"black\" stroke=\"black\" points=\"984.65,-309.26 984.81,-298.67 978.08,-306.85 984.65,-309.26\"/>\n</g>\n<!-- 25 -->\n<g id=\"node26\" class=\"node\">\n<title>25</title>\n<polygon fill=\"#70b8ec\" stroke=\"black\" points=\"1414,-663 1288,-663 1288,-580 1414,-580 1414,-663\"/>\n<text text-anchor=\"middle\" x=\"1351\" y=\"-647.8\" font-family=\"Helvetica,sans-Serif\" font-size=\"14.00\">Leadership &lt;= 6.5</text>\n<text text-anchor=\"middle\" x=\"1351\" y=\"-632.8\" font-family=\"Helvetica,sans-Serif\" font-size=\"14.00\">gini = 0.34</text>\n<text text-anchor=\"middle\" x=\"1351\" y=\"-617.8\" font-family=\"Helvetica,sans-Serif\" font-size=\"14.00\">samples = 189</text>\n<text text-anchor=\"middle\" x=\"1351\" y=\"-602.8\" font-family=\"Helvetica,sans-Serif\" font-size=\"14.00\">value = [41, 148]</text>\n<text text-anchor=\"middle\" x=\"1351\" y=\"-587.8\" font-family=\"Helvetica,sans-Serif\" font-size=\"14.00\">class = y[1]</text>\n</g>\n<!-- 24&#45;&gt;25 -->\n<g id=\"edge25\" class=\"edge\">\n<title>24&#45;&gt;25</title>\n<path fill=\"none\" stroke=\"black\" d=\"M1351,-698.91C1351,-690.65 1351,-681.86 1351,-673.3\"/>\n<polygon fill=\"black\" stroke=\"black\" points=\"1354.5,-673.02 1351,-663.02 1347.5,-673.02 1354.5,-673.02\"/>\n</g>\n<!-- 42 -->\n<g id=\"node43\" class=\"node\">\n<title>42</title>\n<polygon fill=\"#f2c09d\" stroke=\"black\" points=\"2213,-663 2027,-663 2027,-580 2213,-580 2213,-663\"/>\n<text text-anchor=\"middle\" x=\"2120\" y=\"-647.8\" font-family=\"Helvetica,sans-Serif\" font-size=\"14.00\">Num_Prev_Positions &lt;= 1.5</text>\n<text text-anchor=\"middle\" x=\"2120\" y=\"-632.8\" font-family=\"Helvetica,sans-Serif\" font-size=\"14.00\">gini = 0.445</text>\n<text text-anchor=\"middle\" x=\"2120\" y=\"-617.8\" font-family=\"Helvetica,sans-Serif\" font-size=\"14.00\">samples = 281</text>\n<text text-anchor=\"middle\" x=\"2120\" y=\"-602.8\" font-family=\"Helvetica,sans-Serif\" font-size=\"14.00\">value = [187, 94]</text>\n<text text-anchor=\"middle\" x=\"2120\" y=\"-587.8\" font-family=\"Helvetica,sans-Serif\" font-size=\"14.00\">class = y[0]</text>\n</g>\n<!-- 24&#45;&gt;42 -->\n<g id=\"edge42\" class=\"edge\">\n<title>24&#45;&gt;42</title>\n<path fill=\"none\" stroke=\"black\" d=\"M1413.6,-729.98C1545.85,-709.85 1854.78,-662.85 2016.75,-638.21\"/>\n<polygon fill=\"black\" stroke=\"black\" points=\"2017.37,-641.66 2026.73,-636.69 2016.31,-634.74 2017.37,-641.66\"/>\n</g>\n<!-- 26 -->\n<g id=\"node27\" class=\"node\">\n<title>26</title>\n<polygon fill=\"#44a2e6\" stroke=\"black\" points=\"1327,-544 1201,-544 1201,-461 1327,-461 1327,-544\"/>\n<text text-anchor=\"middle\" x=\"1264\" y=\"-528.8\" font-family=\"Helvetica,sans-Serif\" font-size=\"14.00\">Leadership &lt;= 4.5</text>\n<text text-anchor=\"middle\" x=\"1264\" y=\"-513.8\" font-family=\"Helvetica,sans-Serif\" font-size=\"14.00\">gini = 0.098</text>\n<text text-anchor=\"middle\" x=\"1264\" y=\"-498.8\" font-family=\"Helvetica,sans-Serif\" font-size=\"14.00\">samples = 116</text>\n<text text-anchor=\"middle\" x=\"1264\" y=\"-483.8\" font-family=\"Helvetica,sans-Serif\" font-size=\"14.00\">value = [6, 110]</text>\n<text text-anchor=\"middle\" x=\"1264\" y=\"-468.8\" font-family=\"Helvetica,sans-Serif\" font-size=\"14.00\">class = y[1]</text>\n</g>\n<!-- 25&#45;&gt;26 -->\n<g id=\"edge26\" class=\"edge\">\n<title>25&#45;&gt;26</title>\n<path fill=\"none\" stroke=\"black\" d=\"M1320.82,-579.91C1314.14,-570.92 1306.99,-561.32 1300.1,-552.05\"/>\n<polygon fill=\"black\" stroke=\"black\" points=\"1302.91,-549.96 1294.13,-544.02 1297.29,-554.13 1302.91,-549.96\"/>\n</g>\n<!-- 33 -->\n<g id=\"node34\" class=\"node\">\n<title>33</title>\n<polygon fill=\"#eff7fd\" stroke=\"black\" points=\"1531,-544 1345,-544 1345,-461 1531,-461 1531,-544\"/>\n<text text-anchor=\"middle\" x=\"1438\" y=\"-528.8\" font-family=\"Helvetica,sans-Serif\" font-size=\"14.00\">Num_Prev_Positions &lt;= 0.5</text>\n<text text-anchor=\"middle\" x=\"1438\" y=\"-513.8\" font-family=\"Helvetica,sans-Serif\" font-size=\"14.00\">gini = 0.499</text>\n<text text-anchor=\"middle\" x=\"1438\" y=\"-498.8\" font-family=\"Helvetica,sans-Serif\" font-size=\"14.00\">samples = 73</text>\n<text text-anchor=\"middle\" x=\"1438\" y=\"-483.8\" font-family=\"Helvetica,sans-Serif\" font-size=\"14.00\">value = [35, 38]</text>\n<text text-anchor=\"middle\" x=\"1438\" y=\"-468.8\" font-family=\"Helvetica,sans-Serif\" font-size=\"14.00\">class = y[1]</text>\n</g>\n<!-- 25&#45;&gt;33 -->\n<g id=\"edge33\" class=\"edge\">\n<title>25&#45;&gt;33</title>\n<path fill=\"none\" stroke=\"black\" d=\"M1381.18,-579.91C1387.86,-570.92 1395.01,-561.32 1401.9,-552.05\"/>\n<polygon fill=\"black\" stroke=\"black\" points=\"1404.71,-554.13 1407.87,-544.02 1399.09,-549.96 1404.71,-554.13\"/>\n</g>\n<!-- 27 -->\n<g id=\"node28\" class=\"node\">\n<title>27</title>\n<polygon fill=\"#399de5\" stroke=\"black\" points=\"1196,-417.5 1094,-417.5 1094,-349.5 1196,-349.5 1196,-417.5\"/>\n<text text-anchor=\"middle\" x=\"1145\" y=\"-402.3\" font-family=\"Helvetica,sans-Serif\" font-size=\"14.00\">gini = 0.0</text>\n<text text-anchor=\"middle\" x=\"1145\" y=\"-387.3\" font-family=\"Helvetica,sans-Serif\" font-size=\"14.00\">samples = 78</text>\n<text text-anchor=\"middle\" x=\"1145\" y=\"-372.3\" font-family=\"Helvetica,sans-Serif\" font-size=\"14.00\">value = [0, 78]</text>\n<text text-anchor=\"middle\" x=\"1145\" y=\"-357.3\" font-family=\"Helvetica,sans-Serif\" font-size=\"14.00\">class = y[1]</text>\n</g>\n<!-- 26&#45;&gt;27 -->\n<g id=\"edge27\" class=\"edge\">\n<title>26&#45;&gt;27</title>\n<path fill=\"none\" stroke=\"black\" d=\"M1222.71,-460.91C1210.82,-449.21 1197.85,-436.46 1185.97,-424.78\"/>\n<polygon fill=\"black\" stroke=\"black\" points=\"1188.32,-422.18 1178.73,-417.67 1183.41,-427.17 1188.32,-422.18\"/>\n</g>\n<!-- 28 -->\n<g id=\"node29\" class=\"node\">\n<title>28</title>\n<polygon fill=\"#5eafea\" stroke=\"black\" points=\"1336,-425 1214,-425 1214,-342 1336,-342 1336,-425\"/>\n<text text-anchor=\"middle\" x=\"1275\" y=\"-409.8\" font-family=\"Helvetica,sans-Serif\" font-size=\"14.00\">Teamwork &lt;= 8.5</text>\n<text text-anchor=\"middle\" x=\"1275\" y=\"-394.8\" font-family=\"Helvetica,sans-Serif\" font-size=\"14.00\">gini = 0.266</text>\n<text text-anchor=\"middle\" x=\"1275\" y=\"-379.8\" font-family=\"Helvetica,sans-Serif\" font-size=\"14.00\">samples = 38</text>\n<text text-anchor=\"middle\" x=\"1275\" y=\"-364.8\" font-family=\"Helvetica,sans-Serif\" font-size=\"14.00\">value = [6, 32]</text>\n<text text-anchor=\"middle\" x=\"1275\" y=\"-349.8\" font-family=\"Helvetica,sans-Serif\" font-size=\"14.00\">class = y[1]</text>\n</g>\n<!-- 26&#45;&gt;28 -->\n<g id=\"edge28\" class=\"edge\">\n<title>26&#45;&gt;28</title>\n<path fill=\"none\" stroke=\"black\" d=\"M1267.82,-460.91C1268.6,-452.56 1269.44,-443.67 1270.25,-435.02\"/>\n<polygon fill=\"black\" stroke=\"black\" points=\"1273.74,-435.3 1271.19,-425.02 1266.77,-434.65 1273.74,-435.3\"/>\n</g>\n<!-- 29 -->\n<g id=\"node30\" class=\"node\">\n<title>29</title>\n<polygon fill=\"#47a4e7\" stroke=\"black\" points=\"1252,-306 1066,-306 1066,-223 1252,-223 1252,-306\"/>\n<text text-anchor=\"middle\" x=\"1159\" y=\"-290.8\" font-family=\"Helvetica,sans-Serif\" font-size=\"14.00\">Num_Prev_Positions &lt;= 1.5</text>\n<text text-anchor=\"middle\" x=\"1159\" y=\"-275.8\" font-family=\"Helvetica,sans-Serif\" font-size=\"14.00\">gini = 0.124</text>\n<text text-anchor=\"middle\" x=\"1159\" y=\"-260.8\" font-family=\"Helvetica,sans-Serif\" font-size=\"14.00\">samples = 30</text>\n<text text-anchor=\"middle\" x=\"1159\" y=\"-245.8\" font-family=\"Helvetica,sans-Serif\" font-size=\"14.00\">value = [2, 28]</text>\n<text text-anchor=\"middle\" x=\"1159\" y=\"-230.8\" font-family=\"Helvetica,sans-Serif\" font-size=\"14.00\">class = y[1]</text>\n</g>\n<!-- 28&#45;&gt;29 -->\n<g id=\"edge29\" class=\"edge\">\n<title>28&#45;&gt;29</title>\n<path fill=\"none\" stroke=\"black\" d=\"M1234.75,-341.91C1225.58,-332.65 1215.74,-322.73 1206.3,-313.21\"/>\n<polygon fill=\"black\" stroke=\"black\" points=\"1208.7,-310.66 1199.17,-306.02 1203.73,-315.59 1208.7,-310.66\"/>\n</g>\n<!-- 32 -->\n<g id=\"node33\" class=\"node\">\n<title>32</title>\n<polygon fill=\"#ffffff\" stroke=\"black\" points=\"1365.5,-298.5 1270.5,-298.5 1270.5,-230.5 1365.5,-230.5 1365.5,-298.5\"/>\n<text text-anchor=\"middle\" x=\"1318\" y=\"-283.3\" font-family=\"Helvetica,sans-Serif\" font-size=\"14.00\">gini = 0.5</text>\n<text text-anchor=\"middle\" x=\"1318\" y=\"-268.3\" font-family=\"Helvetica,sans-Serif\" font-size=\"14.00\">samples = 8</text>\n<text text-anchor=\"middle\" x=\"1318\" y=\"-253.3\" font-family=\"Helvetica,sans-Serif\" font-size=\"14.00\">value = [4, 4]</text>\n<text text-anchor=\"middle\" x=\"1318\" y=\"-238.3\" font-family=\"Helvetica,sans-Serif\" font-size=\"14.00\">class = y[0]</text>\n</g>\n<!-- 28&#45;&gt;32 -->\n<g id=\"edge32\" class=\"edge\">\n<title>28&#45;&gt;32</title>\n<path fill=\"none\" stroke=\"black\" d=\"M1289.92,-341.91C1293.93,-330.98 1298.29,-319.14 1302.34,-308.11\"/>\n<polygon fill=\"black\" stroke=\"black\" points=\"1305.65,-309.26 1305.81,-298.67 1299.08,-306.85 1305.65,-309.26\"/>\n</g>\n<!-- 30 -->\n<g id=\"node31\" class=\"node\">\n<title>30</title>\n<polygon fill=\"#399de5\" stroke=\"black\" points=\"1131,-179.5 1029,-179.5 1029,-111.5 1131,-111.5 1131,-179.5\"/>\n<text text-anchor=\"middle\" x=\"1080\" y=\"-164.3\" font-family=\"Helvetica,sans-Serif\" font-size=\"14.00\">gini = 0.0</text>\n<text text-anchor=\"middle\" x=\"1080\" y=\"-149.3\" font-family=\"Helvetica,sans-Serif\" font-size=\"14.00\">samples = 17</text>\n<text text-anchor=\"middle\" x=\"1080\" y=\"-134.3\" font-family=\"Helvetica,sans-Serif\" font-size=\"14.00\">value = [0, 17]</text>\n<text text-anchor=\"middle\" x=\"1080\" y=\"-119.3\" font-family=\"Helvetica,sans-Serif\" font-size=\"14.00\">class = y[1]</text>\n</g>\n<!-- 29&#45;&gt;30 -->\n<g id=\"edge30\" class=\"edge\">\n<title>29&#45;&gt;30</title>\n<path fill=\"none\" stroke=\"black\" d=\"M1131.59,-222.91C1123.99,-211.65 1115.73,-199.42 1108.09,-188.11\"/>\n<polygon fill=\"black\" stroke=\"black\" points=\"1110.89,-186 1102.39,-179.67 1105.09,-189.91 1110.89,-186\"/>\n</g>\n<!-- 31 -->\n<g id=\"node32\" class=\"node\">\n<title>31</title>\n<polygon fill=\"#5dafea\" stroke=\"black\" points=\"1251,-179.5 1149,-179.5 1149,-111.5 1251,-111.5 1251,-179.5\"/>\n<text text-anchor=\"middle\" x=\"1200\" y=\"-164.3\" font-family=\"Helvetica,sans-Serif\" font-size=\"14.00\">gini = 0.26</text>\n<text text-anchor=\"middle\" x=\"1200\" y=\"-149.3\" font-family=\"Helvetica,sans-Serif\" font-size=\"14.00\">samples = 13</text>\n<text text-anchor=\"middle\" x=\"1200\" y=\"-134.3\" font-family=\"Helvetica,sans-Serif\" font-size=\"14.00\">value = [2, 11]</text>\n<text text-anchor=\"middle\" x=\"1200\" y=\"-119.3\" font-family=\"Helvetica,sans-Serif\" font-size=\"14.00\">class = y[1]</text>\n</g>\n<!-- 29&#45;&gt;31 -->\n<g id=\"edge31\" class=\"edge\">\n<title>29&#45;&gt;31</title>\n<path fill=\"none\" stroke=\"black\" d=\"M1173.22,-222.91C1177.05,-211.98 1181.2,-200.14 1185.07,-189.11\"/>\n<polygon fill=\"black\" stroke=\"black\" points=\"1188.37,-190.26 1188.38,-179.67 1181.77,-187.95 1188.37,-190.26\"/>\n</g>\n<!-- 34 -->\n<g id=\"node35\" class=\"node\">\n<title>34</title>\n<polygon fill=\"#399de5\" stroke=\"black\" points=\"1478,-417.5 1376,-417.5 1376,-349.5 1478,-349.5 1478,-417.5\"/>\n<text text-anchor=\"middle\" x=\"1427\" y=\"-402.3\" font-family=\"Helvetica,sans-Serif\" font-size=\"14.00\">gini = 0.0</text>\n<text text-anchor=\"middle\" x=\"1427\" y=\"-387.3\" font-family=\"Helvetica,sans-Serif\" font-size=\"14.00\">samples = 17</text>\n<text text-anchor=\"middle\" x=\"1427\" y=\"-372.3\" font-family=\"Helvetica,sans-Serif\" font-size=\"14.00\">value = [0, 17]</text>\n<text text-anchor=\"middle\" x=\"1427\" y=\"-357.3\" font-family=\"Helvetica,sans-Serif\" font-size=\"14.00\">class = y[1]</text>\n</g>\n<!-- 33&#45;&gt;34 -->\n<g id=\"edge34\" class=\"edge\">\n<title>33&#45;&gt;34</title>\n<path fill=\"none\" stroke=\"black\" d=\"M1434.18,-460.91C1433.18,-450.2 1432.09,-438.62 1431.07,-427.78\"/>\n<polygon fill=\"black\" stroke=\"black\" points=\"1434.54,-427.3 1430.12,-417.67 1427.57,-427.95 1434.54,-427.3\"/>\n</g>\n<!-- 35 -->\n<g id=\"node36\" class=\"node\">\n<title>35</title>\n<polygon fill=\"#f5cdb0\" stroke=\"black\" points=\"1654,-425 1496,-425 1496,-342 1654,-342 1654,-425\"/>\n<text text-anchor=\"middle\" x=\"1575\" y=\"-409.8\" font-family=\"Helvetica,sans-Serif\" font-size=\"14.00\">Time_Employed &lt;= 4.5</text>\n<text text-anchor=\"middle\" x=\"1575\" y=\"-394.8\" font-family=\"Helvetica,sans-Serif\" font-size=\"14.00\">gini = 0.469</text>\n<text text-anchor=\"middle\" x=\"1575\" y=\"-379.8\" font-family=\"Helvetica,sans-Serif\" font-size=\"14.00\">samples = 56</text>\n<text text-anchor=\"middle\" x=\"1575\" y=\"-364.8\" font-family=\"Helvetica,sans-Serif\" font-size=\"14.00\">value = [35, 21]</text>\n<text text-anchor=\"middle\" x=\"1575\" y=\"-349.8\" font-family=\"Helvetica,sans-Serif\" font-size=\"14.00\">class = y[0]</text>\n</g>\n<!-- 33&#45;&gt;35 -->\n<g id=\"edge35\" class=\"edge\">\n<title>33&#45;&gt;35</title>\n<path fill=\"none\" stroke=\"black\" d=\"M1485.53,-460.91C1496.58,-451.47 1508.44,-441.34 1519.79,-431.65\"/>\n<polygon fill=\"black\" stroke=\"black\" points=\"1522.22,-434.18 1527.55,-425.02 1517.68,-428.85 1522.22,-434.18\"/>\n</g>\n<!-- 36 -->\n<g id=\"node37\" class=\"node\">\n<title>36</title>\n<polygon fill=\"#61b1ea\" stroke=\"black\" points=\"1570,-306 1384,-306 1384,-223 1570,-223 1570,-306\"/>\n<text text-anchor=\"middle\" x=\"1477\" y=\"-290.8\" font-family=\"Helvetica,sans-Serif\" font-size=\"14.00\">Num_Prev_Positions &lt;= 1.5</text>\n<text text-anchor=\"middle\" x=\"1477\" y=\"-275.8\" font-family=\"Helvetica,sans-Serif\" font-size=\"14.00\">gini = 0.278</text>\n<text text-anchor=\"middle\" x=\"1477\" y=\"-260.8\" font-family=\"Helvetica,sans-Serif\" font-size=\"14.00\">samples = 18</text>\n<text text-anchor=\"middle\" x=\"1477\" y=\"-245.8\" font-family=\"Helvetica,sans-Serif\" font-size=\"14.00\">value = [3, 15]</text>\n<text text-anchor=\"middle\" x=\"1477\" y=\"-230.8\" font-family=\"Helvetica,sans-Serif\" font-size=\"14.00\">class = y[1]</text>\n</g>\n<!-- 35&#45;&gt;36 -->\n<g id=\"edge36\" class=\"edge\">\n<title>35&#45;&gt;36</title>\n<path fill=\"none\" stroke=\"black\" d=\"M1541,-341.91C1533.4,-332.83 1525.26,-323.12 1517.43,-313.77\"/>\n<polygon fill=\"black\" stroke=\"black\" points=\"1520.04,-311.44 1510.94,-306.02 1514.68,-315.93 1520.04,-311.44\"/>\n</g>\n<!-- 39 -->\n<g id=\"node40\" class=\"node\">\n<title>39</title>\n<polygon fill=\"#ea995e\" stroke=\"black\" points=\"1710,-306 1588,-306 1588,-223 1710,-223 1710,-306\"/>\n<text text-anchor=\"middle\" x=\"1649\" y=\"-290.8\" font-family=\"Helvetica,sans-Serif\" font-size=\"14.00\">Teamwork &lt;= 6.5</text>\n<text text-anchor=\"middle\" x=\"1649\" y=\"-275.8\" font-family=\"Helvetica,sans-Serif\" font-size=\"14.00\">gini = 0.266</text>\n<text text-anchor=\"middle\" x=\"1649\" y=\"-260.8\" font-family=\"Helvetica,sans-Serif\" font-size=\"14.00\">samples = 38</text>\n<text text-anchor=\"middle\" x=\"1649\" y=\"-245.8\" font-family=\"Helvetica,sans-Serif\" font-size=\"14.00\">value = [32, 6]</text>\n<text text-anchor=\"middle\" x=\"1649\" y=\"-230.8\" font-family=\"Helvetica,sans-Serif\" font-size=\"14.00\">class = y[0]</text>\n</g>\n<!-- 35&#45;&gt;39 -->\n<g id=\"edge39\" class=\"edge\">\n<title>35&#45;&gt;39</title>\n<path fill=\"none\" stroke=\"black\" d=\"M1600.67,-341.91C1606.24,-333.1 1612.19,-323.7 1617.94,-314.61\"/>\n<polygon fill=\"black\" stroke=\"black\" points=\"1620.98,-316.34 1623.37,-306.02 1615.07,-312.6 1620.98,-316.34\"/>\n</g>\n<!-- 37 -->\n<g id=\"node38\" class=\"node\">\n<title>37</title>\n<polygon fill=\"#399de5\" stroke=\"black\" points=\"1411,-179.5 1309,-179.5 1309,-111.5 1411,-111.5 1411,-179.5\"/>\n<text text-anchor=\"middle\" x=\"1360\" y=\"-164.3\" font-family=\"Helvetica,sans-Serif\" font-size=\"14.00\">gini = 0.0</text>\n<text text-anchor=\"middle\" x=\"1360\" y=\"-149.3\" font-family=\"Helvetica,sans-Serif\" font-size=\"14.00\">samples = 10</text>\n<text text-anchor=\"middle\" x=\"1360\" y=\"-134.3\" font-family=\"Helvetica,sans-Serif\" font-size=\"14.00\">value = [0, 10]</text>\n<text text-anchor=\"middle\" x=\"1360\" y=\"-119.3\" font-family=\"Helvetica,sans-Serif\" font-size=\"14.00\">class = y[1]</text>\n</g>\n<!-- 36&#45;&gt;37 -->\n<g id=\"edge37\" class=\"edge\">\n<title>36&#45;&gt;37</title>\n<path fill=\"none\" stroke=\"black\" d=\"M1436.41,-222.91C1424.71,-211.21 1411.96,-198.46 1400.28,-186.78\"/>\n<polygon fill=\"black\" stroke=\"black\" points=\"1402.71,-184.26 1393.17,-179.67 1397.76,-189.21 1402.71,-184.26\"/>\n</g>\n<!-- 38 -->\n<g id=\"node39\" class=\"node\">\n<title>38</title>\n<polygon fill=\"#b0d8f5\" stroke=\"black\" points=\"1524.5,-179.5 1429.5,-179.5 1429.5,-111.5 1524.5,-111.5 1524.5,-179.5\"/>\n<text text-anchor=\"middle\" x=\"1477\" y=\"-164.3\" font-family=\"Helvetica,sans-Serif\" font-size=\"14.00\">gini = 0.469</text>\n<text text-anchor=\"middle\" x=\"1477\" y=\"-149.3\" font-family=\"Helvetica,sans-Serif\" font-size=\"14.00\">samples = 8</text>\n<text text-anchor=\"middle\" x=\"1477\" y=\"-134.3\" font-family=\"Helvetica,sans-Serif\" font-size=\"14.00\">value = [3, 5]</text>\n<text text-anchor=\"middle\" x=\"1477\" y=\"-119.3\" font-family=\"Helvetica,sans-Serif\" font-size=\"14.00\">class = y[1]</text>\n</g>\n<!-- 36&#45;&gt;38 -->\n<g id=\"edge38\" class=\"edge\">\n<title>36&#45;&gt;38</title>\n<path fill=\"none\" stroke=\"black\" d=\"M1477,-222.91C1477,-212.2 1477,-200.62 1477,-189.78\"/>\n<polygon fill=\"black\" stroke=\"black\" points=\"1480.5,-189.67 1477,-179.67 1473.5,-189.67 1480.5,-189.67\"/>\n</g>\n<!-- 40 -->\n<g id=\"node41\" class=\"node\">\n<title>40</title>\n<polygon fill=\"#fbede3\" stroke=\"black\" points=\"1641,-179.5 1543,-179.5 1543,-111.5 1641,-111.5 1641,-179.5\"/>\n<text text-anchor=\"middle\" x=\"1592\" y=\"-164.3\" font-family=\"Helvetica,sans-Serif\" font-size=\"14.00\">gini = 0.497</text>\n<text text-anchor=\"middle\" x=\"1592\" y=\"-149.3\" font-family=\"Helvetica,sans-Serif\" font-size=\"14.00\">samples = 13</text>\n<text text-anchor=\"middle\" x=\"1592\" y=\"-134.3\" font-family=\"Helvetica,sans-Serif\" font-size=\"14.00\">value = [7, 6]</text>\n<text text-anchor=\"middle\" x=\"1592\" y=\"-119.3\" font-family=\"Helvetica,sans-Serif\" font-size=\"14.00\">class = y[0]</text>\n</g>\n<!-- 39&#45;&gt;40 -->\n<g id=\"edge40\" class=\"edge\">\n<title>39&#45;&gt;40</title>\n<path fill=\"none\" stroke=\"black\" d=\"M1629.22,-222.91C1623.85,-211.87 1618.01,-199.9 1612.59,-188.77\"/>\n<polygon fill=\"black\" stroke=\"black\" points=\"1615.68,-187.12 1608.16,-179.67 1609.39,-190.19 1615.68,-187.12\"/>\n</g>\n<!-- 41 -->\n<g id=\"node42\" class=\"node\">\n<title>41</title>\n<polygon fill=\"#e58139\" stroke=\"black\" points=\"1761,-179.5 1659,-179.5 1659,-111.5 1761,-111.5 1761,-179.5\"/>\n<text text-anchor=\"middle\" x=\"1710\" y=\"-164.3\" font-family=\"Helvetica,sans-Serif\" font-size=\"14.00\">gini = 0.0</text>\n<text text-anchor=\"middle\" x=\"1710\" y=\"-149.3\" font-family=\"Helvetica,sans-Serif\" font-size=\"14.00\">samples = 25</text>\n<text text-anchor=\"middle\" x=\"1710\" y=\"-134.3\" font-family=\"Helvetica,sans-Serif\" font-size=\"14.00\">value = [25, 0]</text>\n<text text-anchor=\"middle\" x=\"1710\" y=\"-119.3\" font-family=\"Helvetica,sans-Serif\" font-size=\"14.00\">class = y[0]</text>\n</g>\n<!-- 39&#45;&gt;41 -->\n<g id=\"edge41\" class=\"edge\">\n<title>39&#45;&gt;41</title>\n<path fill=\"none\" stroke=\"black\" d=\"M1670.16,-222.91C1675.92,-211.87 1682.16,-199.9 1687.96,-188.77\"/>\n<polygon fill=\"black\" stroke=\"black\" points=\"1691.19,-190.15 1692.71,-179.67 1684.98,-186.92 1691.19,-190.15\"/>\n</g>\n<!-- 43 -->\n<g id=\"node44\" class=\"node\">\n<title>43</title>\n<polygon fill=\"#dbedfa\" stroke=\"black\" points=\"2183,-544 2057,-544 2057,-461 2183,-461 2183,-544\"/>\n<text text-anchor=\"middle\" x=\"2120\" y=\"-528.8\" font-family=\"Helvetica,sans-Serif\" font-size=\"14.00\">Leadership &lt;= 5.5</text>\n<text text-anchor=\"middle\" x=\"2120\" y=\"-513.8\" font-family=\"Helvetica,sans-Serif\" font-size=\"14.00\">gini = 0.495</text>\n<text text-anchor=\"middle\" x=\"2120\" y=\"-498.8\" font-family=\"Helvetica,sans-Serif\" font-size=\"14.00\">samples = 131</text>\n<text text-anchor=\"middle\" x=\"2120\" y=\"-483.8\" font-family=\"Helvetica,sans-Serif\" font-size=\"14.00\">value = [59, 72]</text>\n<text text-anchor=\"middle\" x=\"2120\" y=\"-468.8\" font-family=\"Helvetica,sans-Serif\" font-size=\"14.00\">class = y[1]</text>\n</g>\n<!-- 42&#45;&gt;43 -->\n<g id=\"edge43\" class=\"edge\">\n<title>42&#45;&gt;43</title>\n<path fill=\"none\" stroke=\"black\" d=\"M2120,-579.91C2120,-571.65 2120,-562.86 2120,-554.3\"/>\n<polygon fill=\"black\" stroke=\"black\" points=\"2123.5,-554.02 2120,-544.02 2116.5,-554.02 2123.5,-554.02\"/>\n</g>\n<!-- 60 -->\n<g id=\"node61\" class=\"node\">\n<title>60</title>\n<polygon fill=\"#e9975b\" stroke=\"black\" points=\"2634,-544 2476,-544 2476,-461 2634,-461 2634,-544\"/>\n<text text-anchor=\"middle\" x=\"2555\" y=\"-528.8\" font-family=\"Helvetica,sans-Serif\" font-size=\"14.00\">Time_Employed &lt;= 1.5</text>\n<text text-anchor=\"middle\" x=\"2555\" y=\"-513.8\" font-family=\"Helvetica,sans-Serif\" font-size=\"14.00\">gini = 0.25</text>\n<text text-anchor=\"middle\" x=\"2555\" y=\"-498.8\" font-family=\"Helvetica,sans-Serif\" font-size=\"14.00\">samples = 150</text>\n<text text-anchor=\"middle\" x=\"2555\" y=\"-483.8\" font-family=\"Helvetica,sans-Serif\" font-size=\"14.00\">value = [128, 22]</text>\n<text text-anchor=\"middle\" x=\"2555\" y=\"-468.8\" font-family=\"Helvetica,sans-Serif\" font-size=\"14.00\">class = y[0]</text>\n</g>\n<!-- 42&#45;&gt;60 -->\n<g id=\"edge60\" class=\"edge\">\n<title>42&#45;&gt;60</title>\n<path fill=\"none\" stroke=\"black\" d=\"M2213.05,-595.47C2287.93,-575.33 2392.48,-547.21 2466.2,-527.38\"/>\n<polygon fill=\"black\" stroke=\"black\" points=\"2467.2,-530.74 2475.94,-524.76 2465.38,-523.98 2467.2,-530.74\"/>\n</g>\n<!-- 44 -->\n<g id=\"node45\" class=\"node\">\n<title>44</title>\n<polygon fill=\"#61b1ea\" stroke=\"black\" points=\"2111,-425 1953,-425 1953,-342 2111,-342 2111,-425\"/>\n<text text-anchor=\"middle\" x=\"2032\" y=\"-409.8\" font-family=\"Helvetica,sans-Serif\" font-size=\"14.00\">Time_Employed &lt;= 4.5</text>\n<text text-anchor=\"middle\" x=\"2032\" y=\"-394.8\" font-family=\"Helvetica,sans-Serif\" font-size=\"14.00\">gini = 0.281</text>\n<text text-anchor=\"middle\" x=\"2032\" y=\"-379.8\" font-family=\"Helvetica,sans-Serif\" font-size=\"14.00\">samples = 65</text>\n<text text-anchor=\"middle\" x=\"2032\" y=\"-364.8\" font-family=\"Helvetica,sans-Serif\" font-size=\"14.00\">value = [11, 54]</text>\n<text text-anchor=\"middle\" x=\"2032\" y=\"-349.8\" font-family=\"Helvetica,sans-Serif\" font-size=\"14.00\">class = y[1]</text>\n</g>\n<!-- 43&#45;&gt;44 -->\n<g id=\"edge44\" class=\"edge\">\n<title>43&#45;&gt;44</title>\n<path fill=\"none\" stroke=\"black\" d=\"M2089.47,-460.91C2082.71,-451.92 2075.48,-442.32 2068.52,-433.05\"/>\n<polygon fill=\"black\" stroke=\"black\" points=\"2071.29,-430.91 2062.48,-425.02 2065.69,-435.12 2071.29,-430.91\"/>\n</g>\n<!-- 51 -->\n<g id=\"node52\" class=\"node\">\n<title>51</title>\n<polygon fill=\"#efb083\" stroke=\"black\" points=\"2289,-425 2131,-425 2131,-342 2289,-342 2289,-425\"/>\n<text text-anchor=\"middle\" x=\"2210\" y=\"-409.8\" font-family=\"Helvetica,sans-Serif\" font-size=\"14.00\">Time_Employed &lt;= 3.5</text>\n<text text-anchor=\"middle\" x=\"2210\" y=\"-394.8\" font-family=\"Helvetica,sans-Serif\" font-size=\"14.00\">gini = 0.397</text>\n<text text-anchor=\"middle\" x=\"2210\" y=\"-379.8\" font-family=\"Helvetica,sans-Serif\" font-size=\"14.00\">samples = 66</text>\n<text text-anchor=\"middle\" x=\"2210\" y=\"-364.8\" font-family=\"Helvetica,sans-Serif\" font-size=\"14.00\">value = [48, 18]</text>\n<text text-anchor=\"middle\" x=\"2210\" y=\"-349.8\" font-family=\"Helvetica,sans-Serif\" font-size=\"14.00\">class = y[0]</text>\n</g>\n<!-- 43&#45;&gt;51 -->\n<g id=\"edge51\" class=\"edge\">\n<title>43&#45;&gt;51</title>\n<path fill=\"none\" stroke=\"black\" d=\"M2151.23,-460.91C2158.14,-451.92 2165.53,-442.32 2172.65,-433.05\"/>\n<polygon fill=\"black\" stroke=\"black\" points=\"2175.51,-435.08 2178.83,-425.02 2169.96,-430.81 2175.51,-435.08\"/>\n</g>\n<!-- 45 -->\n<g id=\"node46\" class=\"node\">\n<title>45</title>\n<polygon fill=\"#399de5\" stroke=\"black\" points=\"1953,-298.5 1851,-298.5 1851,-230.5 1953,-230.5 1953,-298.5\"/>\n<text text-anchor=\"middle\" x=\"1902\" y=\"-283.3\" font-family=\"Helvetica,sans-Serif\" font-size=\"14.00\">gini = 0.0</text>\n<text text-anchor=\"middle\" x=\"1902\" y=\"-268.3\" font-family=\"Helvetica,sans-Serif\" font-size=\"14.00\">samples = 23</text>\n<text text-anchor=\"middle\" x=\"1902\" y=\"-253.3\" font-family=\"Helvetica,sans-Serif\" font-size=\"14.00\">value = [0, 23]</text>\n<text text-anchor=\"middle\" x=\"1902\" y=\"-238.3\" font-family=\"Helvetica,sans-Serif\" font-size=\"14.00\">class = y[1]</text>\n</g>\n<!-- 44&#45;&gt;45 -->\n<g id=\"edge45\" class=\"edge\">\n<title>44&#45;&gt;45</title>\n<path fill=\"none\" stroke=\"black\" d=\"M1986.9,-341.91C1973.78,-330.1 1959.46,-317.22 1946.39,-305.45\"/>\n<polygon fill=\"black\" stroke=\"black\" points=\"1948.63,-302.76 1938.85,-298.67 1943.94,-307.96 1948.63,-302.76\"/>\n</g>\n<!-- 46 -->\n<g id=\"node47\" class=\"node\">\n<title>46</title>\n<polygon fill=\"#7fc0ee\" stroke=\"black\" points=\"2093,-306 1971,-306 1971,-223 2093,-223 2093,-306\"/>\n<text text-anchor=\"middle\" x=\"2032\" y=\"-290.8\" font-family=\"Helvetica,sans-Serif\" font-size=\"14.00\">Motivation &lt;= 8.5</text>\n<text text-anchor=\"middle\" x=\"2032\" y=\"-275.8\" font-family=\"Helvetica,sans-Serif\" font-size=\"14.00\">gini = 0.387</text>\n<text text-anchor=\"middle\" x=\"2032\" y=\"-260.8\" font-family=\"Helvetica,sans-Serif\" font-size=\"14.00\">samples = 42</text>\n<text text-anchor=\"middle\" x=\"2032\" y=\"-245.8\" font-family=\"Helvetica,sans-Serif\" font-size=\"14.00\">value = [11, 31]</text>\n<text text-anchor=\"middle\" x=\"2032\" y=\"-230.8\" font-family=\"Helvetica,sans-Serif\" font-size=\"14.00\">class = y[1]</text>\n</g>\n<!-- 44&#45;&gt;46 -->\n<g id=\"edge46\" class=\"edge\">\n<title>44&#45;&gt;46</title>\n<path fill=\"none\" stroke=\"black\" d=\"M2032,-341.91C2032,-333.65 2032,-324.86 2032,-316.3\"/>\n<polygon fill=\"black\" stroke=\"black\" points=\"2035.5,-316.02 2032,-306.02 2028.5,-316.02 2035.5,-316.02\"/>\n</g>\n<!-- 47 -->\n<g id=\"node48\" class=\"node\">\n<title>47</title>\n<polygon fill=\"#57ace9\" stroke=\"black\" points=\"1965,-187 1779,-187 1779,-104 1965,-104 1965,-187\"/>\n<text text-anchor=\"middle\" x=\"1872\" y=\"-171.8\" font-family=\"Helvetica,sans-Serif\" font-size=\"14.00\">Num_Prev_Positions &lt;= 0.5</text>\n<text text-anchor=\"middle\" x=\"1872\" y=\"-156.8\" font-family=\"Helvetica,sans-Serif\" font-size=\"14.00\">gini = 0.231</text>\n<text text-anchor=\"middle\" x=\"1872\" y=\"-141.8\" font-family=\"Helvetica,sans-Serif\" font-size=\"14.00\">samples = 30</text>\n<text text-anchor=\"middle\" x=\"1872\" y=\"-126.8\" font-family=\"Helvetica,sans-Serif\" font-size=\"14.00\">value = [4, 26]</text>\n<text text-anchor=\"middle\" x=\"1872\" y=\"-111.8\" font-family=\"Helvetica,sans-Serif\" font-size=\"14.00\">class = y[1]</text>\n</g>\n<!-- 46&#45;&gt;47 -->\n<g id=\"edge47\" class=\"edge\">\n<title>46&#45;&gt;47</title>\n<path fill=\"none\" stroke=\"black\" d=\"M1976.49,-222.91C1963.33,-213.29 1949.2,-202.95 1935.71,-193.09\"/>\n<polygon fill=\"black\" stroke=\"black\" points=\"1937.55,-190.1 1927.41,-187.02 1933.42,-195.75 1937.55,-190.1\"/>\n</g>\n<!-- 50 -->\n<g id=\"node51\" class=\"node\">\n<title>50</title>\n<polygon fill=\"#f8dbc6\" stroke=\"black\" points=\"2081,-179.5 1983,-179.5 1983,-111.5 2081,-111.5 2081,-179.5\"/>\n<text text-anchor=\"middle\" x=\"2032\" y=\"-164.3\" font-family=\"Helvetica,sans-Serif\" font-size=\"14.00\">gini = 0.486</text>\n<text text-anchor=\"middle\" x=\"2032\" y=\"-149.3\" font-family=\"Helvetica,sans-Serif\" font-size=\"14.00\">samples = 12</text>\n<text text-anchor=\"middle\" x=\"2032\" y=\"-134.3\" font-family=\"Helvetica,sans-Serif\" font-size=\"14.00\">value = [7, 5]</text>\n<text text-anchor=\"middle\" x=\"2032\" y=\"-119.3\" font-family=\"Helvetica,sans-Serif\" font-size=\"14.00\">class = y[0]</text>\n</g>\n<!-- 46&#45;&gt;50 -->\n<g id=\"edge50\" class=\"edge\">\n<title>46&#45;&gt;50</title>\n<path fill=\"none\" stroke=\"black\" d=\"M2032,-222.91C2032,-212.2 2032,-200.62 2032,-189.78\"/>\n<polygon fill=\"black\" stroke=\"black\" points=\"2035.5,-189.67 2032,-179.67 2028.5,-189.67 2035.5,-189.67\"/>\n</g>\n<!-- 48 -->\n<g id=\"node49\" class=\"node\">\n<title>48</title>\n<polygon fill=\"#399de5\" stroke=\"black\" points=\"1863,-68 1761,-68 1761,0 1863,0 1863,-68\"/>\n<text text-anchor=\"middle\" x=\"1812\" y=\"-52.8\" font-family=\"Helvetica,sans-Serif\" font-size=\"14.00\">gini = 0.0</text>\n<text text-anchor=\"middle\" x=\"1812\" y=\"-37.8\" font-family=\"Helvetica,sans-Serif\" font-size=\"14.00\">samples = 16</text>\n<text text-anchor=\"middle\" x=\"1812\" y=\"-22.8\" font-family=\"Helvetica,sans-Serif\" font-size=\"14.00\">value = [0, 16]</text>\n<text text-anchor=\"middle\" x=\"1812\" y=\"-7.8\" font-family=\"Helvetica,sans-Serif\" font-size=\"14.00\">class = y[1]</text>\n</g>\n<!-- 47&#45;&gt;48 -->\n<g id=\"edge48\" class=\"edge\">\n<title>47&#45;&gt;48</title>\n<path fill=\"none\" stroke=\"black\" d=\"M1849.66,-103.73C1844.91,-95.06 1839.89,-85.9 1835.11,-77.18\"/>\n<polygon fill=\"black\" stroke=\"black\" points=\"1838.12,-75.39 1830.25,-68.3 1831.98,-78.75 1838.12,-75.39\"/>\n</g>\n<!-- 49 -->\n<g id=\"node50\" class=\"node\">\n<title>49</title>\n<polygon fill=\"#88c4ef\" stroke=\"black\" points=\"1983,-68 1881,-68 1881,0 1983,0 1983,-68\"/>\n<text text-anchor=\"middle\" x=\"1932\" y=\"-52.8\" font-family=\"Helvetica,sans-Serif\" font-size=\"14.00\">gini = 0.408</text>\n<text text-anchor=\"middle\" x=\"1932\" y=\"-37.8\" font-family=\"Helvetica,sans-Serif\" font-size=\"14.00\">samples = 14</text>\n<text text-anchor=\"middle\" x=\"1932\" y=\"-22.8\" font-family=\"Helvetica,sans-Serif\" font-size=\"14.00\">value = [4, 10]</text>\n<text text-anchor=\"middle\" x=\"1932\" y=\"-7.8\" font-family=\"Helvetica,sans-Serif\" font-size=\"14.00\">class = y[1]</text>\n</g>\n<!-- 47&#45;&gt;49 -->\n<g id=\"edge49\" class=\"edge\">\n<title>47&#45;&gt;49</title>\n<path fill=\"none\" stroke=\"black\" d=\"M1894.34,-103.73C1899.09,-95.06 1904.11,-85.9 1908.89,-77.18\"/>\n<polygon fill=\"black\" stroke=\"black\" points=\"1912.02,-78.75 1913.75,-68.3 1905.88,-75.39 1912.02,-78.75\"/>\n</g>\n<!-- 52 -->\n<g id=\"node53\" class=\"node\">\n<title>52</title>\n<polygon fill=\"#8bc6f0\" stroke=\"black\" points=\"2289,-306 2131,-306 2131,-223 2289,-223 2289,-306\"/>\n<text text-anchor=\"middle\" x=\"2210\" y=\"-290.8\" font-family=\"Helvetica,sans-Serif\" font-size=\"14.00\">Time_Employed &lt;= 1.5</text>\n<text text-anchor=\"middle\" x=\"2210\" y=\"-275.8\" font-family=\"Helvetica,sans-Serif\" font-size=\"14.00\">gini = 0.415</text>\n<text text-anchor=\"middle\" x=\"2210\" y=\"-260.8\" font-family=\"Helvetica,sans-Serif\" font-size=\"14.00\">samples = 17</text>\n<text text-anchor=\"middle\" x=\"2210\" y=\"-245.8\" font-family=\"Helvetica,sans-Serif\" font-size=\"14.00\">value = [5, 12]</text>\n<text text-anchor=\"middle\" x=\"2210\" y=\"-230.8\" font-family=\"Helvetica,sans-Serif\" font-size=\"14.00\">class = y[1]</text>\n</g>\n<!-- 51&#45;&gt;52 -->\n<g id=\"edge52\" class=\"edge\">\n<title>51&#45;&gt;52</title>\n<path fill=\"none\" stroke=\"black\" d=\"M2210,-341.91C2210,-333.65 2210,-324.86 2210,-316.3\"/>\n<polygon fill=\"black\" stroke=\"black\" points=\"2213.5,-316.02 2210,-306.02 2206.5,-316.02 2213.5,-316.02\"/>\n</g>\n<!-- 55 -->\n<g id=\"node56\" class=\"node\">\n<title>55</title>\n<polygon fill=\"#e99355\" stroke=\"black\" points=\"2433,-306 2311,-306 2311,-223 2433,-223 2433,-306\"/>\n<text text-anchor=\"middle\" x=\"2372\" y=\"-290.8\" font-family=\"Helvetica,sans-Serif\" font-size=\"14.00\">Motivation &lt;= 6.5</text>\n<text text-anchor=\"middle\" x=\"2372\" y=\"-275.8\" font-family=\"Helvetica,sans-Serif\" font-size=\"14.00\">gini = 0.215</text>\n<text text-anchor=\"middle\" x=\"2372\" y=\"-260.8\" font-family=\"Helvetica,sans-Serif\" font-size=\"14.00\">samples = 49</text>\n<text text-anchor=\"middle\" x=\"2372\" y=\"-245.8\" font-family=\"Helvetica,sans-Serif\" font-size=\"14.00\">value = [43, 6]</text>\n<text text-anchor=\"middle\" x=\"2372\" y=\"-230.8\" font-family=\"Helvetica,sans-Serif\" font-size=\"14.00\">class = y[0]</text>\n</g>\n<!-- 51&#45;&gt;55 -->\n<g id=\"edge55\" class=\"edge\">\n<title>51&#45;&gt;55</title>\n<path fill=\"none\" stroke=\"black\" d=\"M2266.21,-341.91C2279.52,-332.29 2293.83,-321.95 2307.49,-312.09\"/>\n<polygon fill=\"black\" stroke=\"black\" points=\"2309.84,-314.71 2315.89,-306.02 2305.74,-309.04 2309.84,-314.71\"/>\n</g>\n<!-- 53 -->\n<g id=\"node54\" class=\"node\">\n<title>53</title>\n<polygon fill=\"#55abe9\" stroke=\"black\" points=\"2194.5,-179.5 2099.5,-179.5 2099.5,-111.5 2194.5,-111.5 2194.5,-179.5\"/>\n<text text-anchor=\"middle\" x=\"2147\" y=\"-164.3\" font-family=\"Helvetica,sans-Serif\" font-size=\"14.00\">gini = 0.219</text>\n<text text-anchor=\"middle\" x=\"2147\" y=\"-149.3\" font-family=\"Helvetica,sans-Serif\" font-size=\"14.00\">samples = 8</text>\n<text text-anchor=\"middle\" x=\"2147\" y=\"-134.3\" font-family=\"Helvetica,sans-Serif\" font-size=\"14.00\">value = [1, 7]</text>\n<text text-anchor=\"middle\" x=\"2147\" y=\"-119.3\" font-family=\"Helvetica,sans-Serif\" font-size=\"14.00\">class = y[1]</text>\n</g>\n<!-- 52&#45;&gt;53 -->\n<g id=\"edge53\" class=\"edge\">\n<title>52&#45;&gt;53</title>\n<path fill=\"none\" stroke=\"black\" d=\"M2188.14,-222.91C2182.2,-211.87 2175.75,-199.9 2169.76,-188.77\"/>\n<polygon fill=\"black\" stroke=\"black\" points=\"2172.68,-186.81 2164.86,-179.67 2166.52,-190.13 2172.68,-186.81\"/>\n</g>\n<!-- 54 -->\n<g id=\"node55\" class=\"node\">\n<title>54</title>\n<polygon fill=\"#d7ebfa\" stroke=\"black\" points=\"2307.5,-179.5 2212.5,-179.5 2212.5,-111.5 2307.5,-111.5 2307.5,-179.5\"/>\n<text text-anchor=\"middle\" x=\"2260\" y=\"-164.3\" font-family=\"Helvetica,sans-Serif\" font-size=\"14.00\">gini = 0.494</text>\n<text text-anchor=\"middle\" x=\"2260\" y=\"-149.3\" font-family=\"Helvetica,sans-Serif\" font-size=\"14.00\">samples = 9</text>\n<text text-anchor=\"middle\" x=\"2260\" y=\"-134.3\" font-family=\"Helvetica,sans-Serif\" font-size=\"14.00\">value = [4, 5]</text>\n<text text-anchor=\"middle\" x=\"2260\" y=\"-119.3\" font-family=\"Helvetica,sans-Serif\" font-size=\"14.00\">class = y[1]</text>\n</g>\n<!-- 52&#45;&gt;54 -->\n<g id=\"edge54\" class=\"edge\">\n<title>52&#45;&gt;54</title>\n<path fill=\"none\" stroke=\"black\" d=\"M2227.35,-222.91C2232.02,-211.98 2237.08,-200.14 2241.79,-189.11\"/>\n<polygon fill=\"black\" stroke=\"black\" points=\"2245.11,-190.24 2245.83,-179.67 2238.68,-187.49 2245.11,-190.24\"/>\n</g>\n<!-- 56 -->\n<g id=\"node57\" class=\"node\">\n<title>56</title>\n<polygon fill=\"#f3c7a7\" stroke=\"black\" points=\"2424,-179.5 2326,-179.5 2326,-111.5 2424,-111.5 2424,-179.5\"/>\n<text text-anchor=\"middle\" x=\"2375\" y=\"-164.3\" font-family=\"Helvetica,sans-Serif\" font-size=\"14.00\">gini = 0.459</text>\n<text text-anchor=\"middle\" x=\"2375\" y=\"-149.3\" font-family=\"Helvetica,sans-Serif\" font-size=\"14.00\">samples = 14</text>\n<text text-anchor=\"middle\" x=\"2375\" y=\"-134.3\" font-family=\"Helvetica,sans-Serif\" font-size=\"14.00\">value = [9, 5]</text>\n<text text-anchor=\"middle\" x=\"2375\" y=\"-119.3\" font-family=\"Helvetica,sans-Serif\" font-size=\"14.00\">class = y[0]</text>\n</g>\n<!-- 55&#45;&gt;56 -->\n<g id=\"edge56\" class=\"edge\">\n<title>55&#45;&gt;56</title>\n<path fill=\"none\" stroke=\"black\" d=\"M2373.04,-222.91C2373.32,-212.2 2373.61,-200.62 2373.89,-189.78\"/>\n<polygon fill=\"black\" stroke=\"black\" points=\"2377.39,-189.75 2374.15,-179.67 2370.39,-189.57 2377.39,-189.75\"/>\n</g>\n<!-- 57 -->\n<g id=\"node58\" class=\"node\">\n<title>57</title>\n<polygon fill=\"#e6853f\" stroke=\"black\" points=\"2600,-187 2442,-187 2442,-104 2600,-104 2600,-187\"/>\n<text text-anchor=\"middle\" x=\"2521\" y=\"-171.8\" font-family=\"Helvetica,sans-Serif\" font-size=\"14.00\">Time_Employed &lt;= 8.5</text>\n<text text-anchor=\"middle\" x=\"2521\" y=\"-156.8\" font-family=\"Helvetica,sans-Serif\" font-size=\"14.00\">gini = 0.056</text>\n<text text-anchor=\"middle\" x=\"2521\" y=\"-141.8\" font-family=\"Helvetica,sans-Serif\" font-size=\"14.00\">samples = 35</text>\n<text text-anchor=\"middle\" x=\"2521\" y=\"-126.8\" font-family=\"Helvetica,sans-Serif\" font-size=\"14.00\">value = [34, 1]</text>\n<text text-anchor=\"middle\" x=\"2521\" y=\"-111.8\" font-family=\"Helvetica,sans-Serif\" font-size=\"14.00\">class = y[0]</text>\n</g>\n<!-- 55&#45;&gt;57 -->\n<g id=\"edge57\" class=\"edge\">\n<title>55&#45;&gt;57</title>\n<path fill=\"none\" stroke=\"black\" d=\"M2423.69,-222.91C2435.83,-213.38 2448.86,-203.15 2461.31,-193.37\"/>\n<polygon fill=\"black\" stroke=\"black\" points=\"2463.69,-195.95 2469.4,-187.02 2459.37,-190.44 2463.69,-195.95\"/>\n</g>\n<!-- 58 -->\n<g id=\"node59\" class=\"node\">\n<title>58</title>\n<polygon fill=\"#e88e4d\" stroke=\"black\" points=\"2546,-68 2444,-68 2444,0 2546,0 2546,-68\"/>\n<text text-anchor=\"middle\" x=\"2495\" y=\"-52.8\" font-family=\"Helvetica,sans-Serif\" font-size=\"14.00\">gini = 0.165</text>\n<text text-anchor=\"middle\" x=\"2495\" y=\"-37.8\" font-family=\"Helvetica,sans-Serif\" font-size=\"14.00\">samples = 11</text>\n<text text-anchor=\"middle\" x=\"2495\" y=\"-22.8\" font-family=\"Helvetica,sans-Serif\" font-size=\"14.00\">value = [10, 1]</text>\n<text text-anchor=\"middle\" x=\"2495\" y=\"-7.8\" font-family=\"Helvetica,sans-Serif\" font-size=\"14.00\">class = y[0]</text>\n</g>\n<!-- 57&#45;&gt;58 -->\n<g id=\"edge58\" class=\"edge\">\n<title>57&#45;&gt;58</title>\n<path fill=\"none\" stroke=\"black\" d=\"M2511.32,-103.73C2509.35,-95.43 2507.27,-86.67 2505.28,-78.28\"/>\n<polygon fill=\"black\" stroke=\"black\" points=\"2508.62,-77.22 2502.91,-68.3 2501.81,-78.84 2508.62,-77.22\"/>\n</g>\n<!-- 59 -->\n<g id=\"node60\" class=\"node\">\n<title>59</title>\n<polygon fill=\"#e58139\" stroke=\"black\" points=\"2666,-68 2564,-68 2564,0 2666,0 2666,-68\"/>\n<text text-anchor=\"middle\" x=\"2615\" y=\"-52.8\" font-family=\"Helvetica,sans-Serif\" font-size=\"14.00\">gini = 0.0</text>\n<text text-anchor=\"middle\" x=\"2615\" y=\"-37.8\" font-family=\"Helvetica,sans-Serif\" font-size=\"14.00\">samples = 24</text>\n<text text-anchor=\"middle\" x=\"2615\" y=\"-22.8\" font-family=\"Helvetica,sans-Serif\" font-size=\"14.00\">value = [24, 0]</text>\n<text text-anchor=\"middle\" x=\"2615\" y=\"-7.8\" font-family=\"Helvetica,sans-Serif\" font-size=\"14.00\">class = y[0]</text>\n</g>\n<!-- 57&#45;&gt;59 -->\n<g id=\"edge59\" class=\"edge\">\n<title>57&#45;&gt;59</title>\n<path fill=\"none\" stroke=\"black\" d=\"M2556,-103.73C2563.75,-94.7 2571.97,-85.12 2579.73,-76.08\"/>\n<polygon fill=\"black\" stroke=\"black\" points=\"2582.56,-78.17 2586.41,-68.3 2577.24,-73.61 2582.56,-78.17\"/>\n</g>\n<!-- 61 -->\n<g id=\"node62\" class=\"node\">\n<title>61</title>\n<polygon fill=\"#eff7fd\" stroke=\"black\" points=\"2618,-425 2492,-425 2492,-342 2618,-342 2618,-425\"/>\n<text text-anchor=\"middle\" x=\"2555\" y=\"-409.8\" font-family=\"Helvetica,sans-Serif\" font-size=\"14.00\">Leadership &lt;= 5.5</text>\n<text text-anchor=\"middle\" x=\"2555\" y=\"-394.8\" font-family=\"Helvetica,sans-Serif\" font-size=\"14.00\">gini = 0.499</text>\n<text text-anchor=\"middle\" x=\"2555\" y=\"-379.8\" font-family=\"Helvetica,sans-Serif\" font-size=\"14.00\">samples = 23</text>\n<text text-anchor=\"middle\" x=\"2555\" y=\"-364.8\" font-family=\"Helvetica,sans-Serif\" font-size=\"14.00\">value = [11, 12]</text>\n<text text-anchor=\"middle\" x=\"2555\" y=\"-349.8\" font-family=\"Helvetica,sans-Serif\" font-size=\"14.00\">class = y[1]</text>\n</g>\n<!-- 60&#45;&gt;61 -->\n<g id=\"edge61\" class=\"edge\">\n<title>60&#45;&gt;61</title>\n<path fill=\"none\" stroke=\"black\" d=\"M2555,-460.91C2555,-452.65 2555,-443.86 2555,-435.3\"/>\n<polygon fill=\"black\" stroke=\"black\" points=\"2558.5,-435.02 2555,-425.02 2551.5,-435.02 2558.5,-435.02\"/>\n</g>\n<!-- 64 -->\n<g id=\"node65\" class=\"node\">\n<title>64</title>\n<polygon fill=\"#e78c4a\" stroke=\"black\" points=\"2815,-425 2689,-425 2689,-342 2815,-342 2815,-425\"/>\n<text text-anchor=\"middle\" x=\"2752\" y=\"-409.8\" font-family=\"Helvetica,sans-Serif\" font-size=\"14.00\">Leadership &lt;= 4.5</text>\n<text text-anchor=\"middle\" x=\"2752\" y=\"-394.8\" font-family=\"Helvetica,sans-Serif\" font-size=\"14.00\">gini = 0.145</text>\n<text text-anchor=\"middle\" x=\"2752\" y=\"-379.8\" font-family=\"Helvetica,sans-Serif\" font-size=\"14.00\">samples = 127</text>\n<text text-anchor=\"middle\" x=\"2752\" y=\"-364.8\" font-family=\"Helvetica,sans-Serif\" font-size=\"14.00\">value = [117, 10]</text>\n<text text-anchor=\"middle\" x=\"2752\" y=\"-349.8\" font-family=\"Helvetica,sans-Serif\" font-size=\"14.00\">class = y[0]</text>\n</g>\n<!-- 60&#45;&gt;64 -->\n<g id=\"edge64\" class=\"edge\">\n<title>60&#45;&gt;64</title>\n<path fill=\"none\" stroke=\"black\" d=\"M2623.35,-460.91C2641.67,-450.02 2661.54,-438.23 2680.05,-427.23\"/>\n<polygon fill=\"black\" stroke=\"black\" points=\"2681.92,-430.19 2688.73,-422.08 2678.35,-424.17 2681.92,-430.19\"/>\n</g>\n<!-- 62 -->\n<g id=\"node63\" class=\"node\">\n<title>62</title>\n<polygon fill=\"#399de5\" stroke=\"black\" points=\"2553,-298.5 2451,-298.5 2451,-230.5 2553,-230.5 2553,-298.5\"/>\n<text text-anchor=\"middle\" x=\"2502\" y=\"-283.3\" font-family=\"Helvetica,sans-Serif\" font-size=\"14.00\">gini = 0.0</text>\n<text text-anchor=\"middle\" x=\"2502\" y=\"-268.3\" font-family=\"Helvetica,sans-Serif\" font-size=\"14.00\">samples = 10</text>\n<text text-anchor=\"middle\" x=\"2502\" y=\"-253.3\" font-family=\"Helvetica,sans-Serif\" font-size=\"14.00\">value = [0, 10]</text>\n<text text-anchor=\"middle\" x=\"2502\" y=\"-238.3\" font-family=\"Helvetica,sans-Serif\" font-size=\"14.00\">class = y[1]</text>\n</g>\n<!-- 61&#45;&gt;62 -->\n<g id=\"edge62\" class=\"edge\">\n<title>61&#45;&gt;62</title>\n<path fill=\"none\" stroke=\"black\" d=\"M2536.61,-341.91C2531.66,-330.98 2526.3,-319.14 2521.3,-308.11\"/>\n<polygon fill=\"black\" stroke=\"black\" points=\"2524.34,-306.33 2517.02,-298.67 2517.96,-309.22 2524.34,-306.33\"/>\n</g>\n<!-- 63 -->\n<g id=\"node64\" class=\"node\">\n<title>63</title>\n<polygon fill=\"#ea985d\" stroke=\"black\" points=\"2673,-298.5 2571,-298.5 2571,-230.5 2673,-230.5 2673,-298.5\"/>\n<text text-anchor=\"middle\" x=\"2622\" y=\"-283.3\" font-family=\"Helvetica,sans-Serif\" font-size=\"14.00\">gini = 0.26</text>\n<text text-anchor=\"middle\" x=\"2622\" y=\"-268.3\" font-family=\"Helvetica,sans-Serif\" font-size=\"14.00\">samples = 13</text>\n<text text-anchor=\"middle\" x=\"2622\" y=\"-253.3\" font-family=\"Helvetica,sans-Serif\" font-size=\"14.00\">value = [11, 2]</text>\n<text text-anchor=\"middle\" x=\"2622\" y=\"-238.3\" font-family=\"Helvetica,sans-Serif\" font-size=\"14.00\">class = y[0]</text>\n</g>\n<!-- 61&#45;&gt;63 -->\n<g id=\"edge63\" class=\"edge\">\n<title>61&#45;&gt;63</title>\n<path fill=\"none\" stroke=\"black\" d=\"M2578.25,-341.91C2584.63,-330.76 2591.56,-318.66 2597.98,-307.44\"/>\n<polygon fill=\"black\" stroke=\"black\" points=\"2601.07,-309.08 2603.01,-298.67 2595,-305.61 2601.07,-309.08\"/>\n</g>\n<!-- 65 -->\n<g id=\"node66\" class=\"node\">\n<title>65</title>\n<polygon fill=\"#eb9e66\" stroke=\"black\" points=\"2813,-306 2691,-306 2691,-223 2813,-223 2813,-306\"/>\n<text text-anchor=\"middle\" x=\"2752\" y=\"-290.8\" font-family=\"Helvetica,sans-Serif\" font-size=\"14.00\">Teamwork &lt;= 6.5</text>\n<text text-anchor=\"middle\" x=\"2752\" y=\"-275.8\" font-family=\"Helvetica,sans-Serif\" font-size=\"14.00\">gini = 0.302</text>\n<text text-anchor=\"middle\" x=\"2752\" y=\"-260.8\" font-family=\"Helvetica,sans-Serif\" font-size=\"14.00\">samples = 54</text>\n<text text-anchor=\"middle\" x=\"2752\" y=\"-245.8\" font-family=\"Helvetica,sans-Serif\" font-size=\"14.00\">value = [44, 10]</text>\n<text text-anchor=\"middle\" x=\"2752\" y=\"-230.8\" font-family=\"Helvetica,sans-Serif\" font-size=\"14.00\">class = y[0]</text>\n</g>\n<!-- 64&#45;&gt;65 -->\n<g id=\"edge65\" class=\"edge\">\n<title>64&#45;&gt;65</title>\n<path fill=\"none\" stroke=\"black\" d=\"M2752,-341.91C2752,-333.65 2752,-324.86 2752,-316.3\"/>\n<polygon fill=\"black\" stroke=\"black\" points=\"2755.5,-316.02 2752,-306.02 2748.5,-316.02 2755.5,-316.02\"/>\n</g>\n<!-- 70 -->\n<g id=\"node71\" class=\"node\">\n<title>70</title>\n<polygon fill=\"#e58139\" stroke=\"black\" points=\"2933,-298.5 2831,-298.5 2831,-230.5 2933,-230.5 2933,-298.5\"/>\n<text text-anchor=\"middle\" x=\"2882\" y=\"-283.3\" font-family=\"Helvetica,sans-Serif\" font-size=\"14.00\">gini = 0.0</text>\n<text text-anchor=\"middle\" x=\"2882\" y=\"-268.3\" font-family=\"Helvetica,sans-Serif\" font-size=\"14.00\">samples = 73</text>\n<text text-anchor=\"middle\" x=\"2882\" y=\"-253.3\" font-family=\"Helvetica,sans-Serif\" font-size=\"14.00\">value = [73, 0]</text>\n<text text-anchor=\"middle\" x=\"2882\" y=\"-238.3\" font-family=\"Helvetica,sans-Serif\" font-size=\"14.00\">class = y[0]</text>\n</g>\n<!-- 64&#45;&gt;70 -->\n<g id=\"edge70\" class=\"edge\">\n<title>64&#45;&gt;70</title>\n<path fill=\"none\" stroke=\"black\" d=\"M2797.1,-341.91C2810.22,-330.1 2824.54,-317.22 2837.61,-305.45\"/>\n<polygon fill=\"black\" stroke=\"black\" points=\"2840.06,-307.96 2845.15,-298.67 2835.37,-302.76 2840.06,-307.96\"/>\n</g>\n<!-- 66 -->\n<g id=\"node67\" class=\"node\">\n<title>66</title>\n<polygon fill=\"#cee6f8\" stroke=\"black\" points=\"2755,-179.5 2657,-179.5 2657,-111.5 2755,-111.5 2755,-179.5\"/>\n<text text-anchor=\"middle\" x=\"2706\" y=\"-164.3\" font-family=\"Helvetica,sans-Serif\" font-size=\"14.00\">gini = 0.49</text>\n<text text-anchor=\"middle\" x=\"2706\" y=\"-149.3\" font-family=\"Helvetica,sans-Serif\" font-size=\"14.00\">samples = 14</text>\n<text text-anchor=\"middle\" x=\"2706\" y=\"-134.3\" font-family=\"Helvetica,sans-Serif\" font-size=\"14.00\">value = [6, 8]</text>\n<text text-anchor=\"middle\" x=\"2706\" y=\"-119.3\" font-family=\"Helvetica,sans-Serif\" font-size=\"14.00\">class = y[1]</text>\n</g>\n<!-- 65&#45;&gt;66 -->\n<g id=\"edge66\" class=\"edge\">\n<title>65&#45;&gt;66</title>\n<path fill=\"none\" stroke=\"black\" d=\"M2736.04,-222.91C2731.75,-211.98 2727.09,-200.14 2722.75,-189.11\"/>\n<polygon fill=\"black\" stroke=\"black\" points=\"2725.96,-187.69 2719.04,-179.67 2719.44,-190.25 2725.96,-187.69\"/>\n</g>\n<!-- 67 -->\n<g id=\"node68\" class=\"node\">\n<title>67</title>\n<polygon fill=\"#e68843\" stroke=\"black\" points=\"2931,-187 2773,-187 2773,-104 2931,-104 2931,-187\"/>\n<text text-anchor=\"middle\" x=\"2852\" y=\"-171.8\" font-family=\"Helvetica,sans-Serif\" font-size=\"14.00\">Time_Employed &lt;= 4.5</text>\n<text text-anchor=\"middle\" x=\"2852\" y=\"-156.8\" font-family=\"Helvetica,sans-Serif\" font-size=\"14.00\">gini = 0.095</text>\n<text text-anchor=\"middle\" x=\"2852\" y=\"-141.8\" font-family=\"Helvetica,sans-Serif\" font-size=\"14.00\">samples = 40</text>\n<text text-anchor=\"middle\" x=\"2852\" y=\"-126.8\" font-family=\"Helvetica,sans-Serif\" font-size=\"14.00\">value = [38, 2]</text>\n<text text-anchor=\"middle\" x=\"2852\" y=\"-111.8\" font-family=\"Helvetica,sans-Serif\" font-size=\"14.00\">class = y[0]</text>\n</g>\n<!-- 65&#45;&gt;67 -->\n<g id=\"edge67\" class=\"edge\">\n<title>65&#45;&gt;67</title>\n<path fill=\"none\" stroke=\"black\" d=\"M2786.69,-222.91C2794.45,-213.83 2802.75,-204.12 2810.74,-194.77\"/>\n<polygon fill=\"black\" stroke=\"black\" points=\"2813.53,-196.9 2817.37,-187.02 2808.21,-192.35 2813.53,-196.9\"/>\n</g>\n<!-- 68 -->\n<g id=\"node69\" class=\"node\">\n<title>68</title>\n<polygon fill=\"#eeab7b\" stroke=\"black\" points=\"2808.5,-68 2713.5,-68 2713.5,0 2808.5,0 2808.5,-68\"/>\n<text text-anchor=\"middle\" x=\"2761\" y=\"-52.8\" font-family=\"Helvetica,sans-Serif\" font-size=\"14.00\">gini = 0.375</text>\n<text text-anchor=\"middle\" x=\"2761\" y=\"-37.8\" font-family=\"Helvetica,sans-Serif\" font-size=\"14.00\">samples = 8</text>\n<text text-anchor=\"middle\" x=\"2761\" y=\"-22.8\" font-family=\"Helvetica,sans-Serif\" font-size=\"14.00\">value = [6, 2]</text>\n<text text-anchor=\"middle\" x=\"2761\" y=\"-7.8\" font-family=\"Helvetica,sans-Serif\" font-size=\"14.00\">class = y[0]</text>\n</g>\n<!-- 67&#45;&gt;68 -->\n<g id=\"edge68\" class=\"edge\">\n<title>67&#45;&gt;68</title>\n<path fill=\"none\" stroke=\"black\" d=\"M2818.11,-103.73C2810.61,-94.7 2802.66,-85.12 2795.14,-76.08\"/>\n<polygon fill=\"black\" stroke=\"black\" points=\"2797.76,-73.75 2788.67,-68.3 2792.37,-78.23 2797.76,-73.75\"/>\n</g>\n<!-- 69 -->\n<g id=\"node70\" class=\"node\">\n<title>69</title>\n<polygon fill=\"#e58139\" stroke=\"black\" points=\"2929,-68 2827,-68 2827,0 2929,0 2929,-68\"/>\n<text text-anchor=\"middle\" x=\"2878\" y=\"-52.8\" font-family=\"Helvetica,sans-Serif\" font-size=\"14.00\">gini = 0.0</text>\n<text text-anchor=\"middle\" x=\"2878\" y=\"-37.8\" font-family=\"Helvetica,sans-Serif\" font-size=\"14.00\">samples = 32</text>\n<text text-anchor=\"middle\" x=\"2878\" y=\"-22.8\" font-family=\"Helvetica,sans-Serif\" font-size=\"14.00\">value = [32, 0]</text>\n<text text-anchor=\"middle\" x=\"2878\" y=\"-7.8\" font-family=\"Helvetica,sans-Serif\" font-size=\"14.00\">class = y[0]</text>\n</g>\n<!-- 67&#45;&gt;69 -->\n<g id=\"edge69\" class=\"edge\">\n<title>67&#45;&gt;69</title>\n<path fill=\"none\" stroke=\"black\" d=\"M2861.68,-103.73C2863.65,-95.43 2865.73,-86.67 2867.72,-78.28\"/>\n<polygon fill=\"black\" stroke=\"black\" points=\"2871.19,-78.84 2870.09,-68.3 2864.38,-77.22 2871.19,-78.84\"/>\n</g>\n</g>\n</svg>\n",
            "text/plain": [
              "<graphviz.sources.Source at 0x7fe083510f10>"
            ]
          },
          "metadata": {},
          "execution_count": 36
        }
      ]
    },
    {
      "cell_type": "code",
      "source": [
        "# parameters for a 10-fold cross-validation\n",
        "cv = KFold(n_splits = 10, random_state = 1, shuffle = True) # replace n with 5, 10, or other value"
      ],
      "metadata": {
        "id": "nprW0L9cZRsr"
      },
      "execution_count": null,
      "outputs": []
    },
    {
      "cell_type": "code",
      "source": [
        "# perform 10-fold cross-validated predictions on training set (model performance cheat sheet)\n",
        "y_pred = cross_val_predict(model, x_train, y_train, cv = cv)\n",
        "x_train['predicted_class'] = y_pred # add predictions to x_train dataframe\n",
        "x_train['actual_class'] = y_train # add actual classes to x_train dataframe\n",
        "\n",
        "x_train.head()#preview headers for x_train"
      ],
      "metadata": {
        "id": "fol-fzmGaLR2",
        "colab": {
          "base_uri": "https://localhost:8080/",
          "height": 270
        },
        "outputId": "7a8d3a04-ae80-45de-8ad7-a5bb8443753c"
      },
      "execution_count": null,
      "outputs": [
        {
          "output_type": "execute_result",
          "data": {
            "text/plain": [
              "     Time_Employed  Num_Prev_Positions  Teamwork  Motivation  Leadership  \\\n",
              "675             11                   2         9           6           6   \n",
              "358              1                   1         1           8           6   \n",
              "159             12                   0         9           8          10   \n",
              "533              6                   3         1           8           2   \n",
              "678             10                   3         6           8           4   \n",
              "\n",
              "    predicted_class actual_class  \n",
              "675            high         high  \n",
              "358             low          low  \n",
              "159            high         high  \n",
              "533             low          low  \n",
              "678            high         high  "
            ],
            "text/html": [
              "\n",
              "  <div id=\"df-8698e681-1662-4fb6-954f-ada703677869\">\n",
              "    <div class=\"colab-df-container\">\n",
              "      <div>\n",
              "<style scoped>\n",
              "    .dataframe tbody tr th:only-of-type {\n",
              "        vertical-align: middle;\n",
              "    }\n",
              "\n",
              "    .dataframe tbody tr th {\n",
              "        vertical-align: top;\n",
              "    }\n",
              "\n",
              "    .dataframe thead th {\n",
              "        text-align: right;\n",
              "    }\n",
              "</style>\n",
              "<table border=\"1\" class=\"dataframe\">\n",
              "  <thead>\n",
              "    <tr style=\"text-align: right;\">\n",
              "      <th></th>\n",
              "      <th>Time_Employed</th>\n",
              "      <th>Num_Prev_Positions</th>\n",
              "      <th>Teamwork</th>\n",
              "      <th>Motivation</th>\n",
              "      <th>Leadership</th>\n",
              "      <th>predicted_class</th>\n",
              "      <th>actual_class</th>\n",
              "    </tr>\n",
              "  </thead>\n",
              "  <tbody>\n",
              "    <tr>\n",
              "      <th>675</th>\n",
              "      <td>11</td>\n",
              "      <td>2</td>\n",
              "      <td>9</td>\n",
              "      <td>6</td>\n",
              "      <td>6</td>\n",
              "      <td>high</td>\n",
              "      <td>high</td>\n",
              "    </tr>\n",
              "    <tr>\n",
              "      <th>358</th>\n",
              "      <td>1</td>\n",
              "      <td>1</td>\n",
              "      <td>1</td>\n",
              "      <td>8</td>\n",
              "      <td>6</td>\n",
              "      <td>low</td>\n",
              "      <td>low</td>\n",
              "    </tr>\n",
              "    <tr>\n",
              "      <th>159</th>\n",
              "      <td>12</td>\n",
              "      <td>0</td>\n",
              "      <td>9</td>\n",
              "      <td>8</td>\n",
              "      <td>10</td>\n",
              "      <td>high</td>\n",
              "      <td>high</td>\n",
              "    </tr>\n",
              "    <tr>\n",
              "      <th>533</th>\n",
              "      <td>6</td>\n",
              "      <td>3</td>\n",
              "      <td>1</td>\n",
              "      <td>8</td>\n",
              "      <td>2</td>\n",
              "      <td>low</td>\n",
              "      <td>low</td>\n",
              "    </tr>\n",
              "    <tr>\n",
              "      <th>678</th>\n",
              "      <td>10</td>\n",
              "      <td>3</td>\n",
              "      <td>6</td>\n",
              "      <td>8</td>\n",
              "      <td>4</td>\n",
              "      <td>high</td>\n",
              "      <td>high</td>\n",
              "    </tr>\n",
              "  </tbody>\n",
              "</table>\n",
              "</div>\n",
              "      <button class=\"colab-df-convert\" onclick=\"convertToInteractive('df-8698e681-1662-4fb6-954f-ada703677869')\"\n",
              "              title=\"Convert this dataframe to an interactive table.\"\n",
              "              style=\"display:none;\">\n",
              "        \n",
              "  <svg xmlns=\"http://www.w3.org/2000/svg\" height=\"24px\"viewBox=\"0 0 24 24\"\n",
              "       width=\"24px\">\n",
              "    <path d=\"M0 0h24v24H0V0z\" fill=\"none\"/>\n",
              "    <path d=\"M18.56 5.44l.94 2.06.94-2.06 2.06-.94-2.06-.94-.94-2.06-.94 2.06-2.06.94zm-11 1L8.5 8.5l.94-2.06 2.06-.94-2.06-.94L8.5 2.5l-.94 2.06-2.06.94zm10 10l.94 2.06.94-2.06 2.06-.94-2.06-.94-.94-2.06-.94 2.06-2.06.94z\"/><path d=\"M17.41 7.96l-1.37-1.37c-.4-.4-.92-.59-1.43-.59-.52 0-1.04.2-1.43.59L10.3 9.45l-7.72 7.72c-.78.78-.78 2.05 0 2.83L4 21.41c.39.39.9.59 1.41.59.51 0 1.02-.2 1.41-.59l7.78-7.78 2.81-2.81c.8-.78.8-2.07 0-2.86zM5.41 20L4 18.59l7.72-7.72 1.47 1.35L5.41 20z\"/>\n",
              "  </svg>\n",
              "      </button>\n",
              "      \n",
              "  <style>\n",
              "    .colab-df-container {\n",
              "      display:flex;\n",
              "      flex-wrap:wrap;\n",
              "      gap: 12px;\n",
              "    }\n",
              "\n",
              "    .colab-df-convert {\n",
              "      background-color: #E8F0FE;\n",
              "      border: none;\n",
              "      border-radius: 50%;\n",
              "      cursor: pointer;\n",
              "      display: none;\n",
              "      fill: #1967D2;\n",
              "      height: 32px;\n",
              "      padding: 0 0 0 0;\n",
              "      width: 32px;\n",
              "    }\n",
              "\n",
              "    .colab-df-convert:hover {\n",
              "      background-color: #E2EBFA;\n",
              "      box-shadow: 0px 1px 2px rgba(60, 64, 67, 0.3), 0px 1px 3px 1px rgba(60, 64, 67, 0.15);\n",
              "      fill: #174EA6;\n",
              "    }\n",
              "\n",
              "    [theme=dark] .colab-df-convert {\n",
              "      background-color: #3B4455;\n",
              "      fill: #D2E3FC;\n",
              "    }\n",
              "\n",
              "    [theme=dark] .colab-df-convert:hover {\n",
              "      background-color: #434B5C;\n",
              "      box-shadow: 0px 1px 3px 1px rgba(0, 0, 0, 0.15);\n",
              "      filter: drop-shadow(0px 1px 2px rgba(0, 0, 0, 0.3));\n",
              "      fill: #FFFFFF;\n",
              "    }\n",
              "  </style>\n",
              "\n",
              "      <script>\n",
              "        const buttonEl =\n",
              "          document.querySelector('#df-8698e681-1662-4fb6-954f-ada703677869 button.colab-df-convert');\n",
              "        buttonEl.style.display =\n",
              "          google.colab.kernel.accessAllowed ? 'block' : 'none';\n",
              "\n",
              "        async function convertToInteractive(key) {\n",
              "          const element = document.querySelector('#df-8698e681-1662-4fb6-954f-ada703677869');\n",
              "          const dataTable =\n",
              "            await google.colab.kernel.invokeFunction('convertToInteractive',\n",
              "                                                     [key], {});\n",
              "          if (!dataTable) return;\n",
              "\n",
              "          const docLinkHtml = 'Like what you see? Visit the ' +\n",
              "            '<a target=\"_blank\" href=https://colab.research.google.com/notebooks/data_table.ipynb>data table notebook</a>'\n",
              "            + ' to learn more about interactive tables.';\n",
              "          element.innerHTML = '';\n",
              "          dataTable['output_type'] = 'display_data';\n",
              "          await google.colab.output.renderOutput(dataTable, element);\n",
              "          const docLink = document.createElement('div');\n",
              "          docLink.innerHTML = docLinkHtml;\n",
              "          element.appendChild(docLink);\n",
              "        }\n",
              "      </script>\n",
              "    </div>\n",
              "  </div>\n",
              "  "
            ]
          },
          "metadata": {},
          "execution_count": 38
        }
      ]
    },
    {
      "cell_type": "code",
      "source": [
        "# classification report\n",
        "print(classification_report(y_pred, y_train))"
      ],
      "metadata": {
        "id": "5H4EGM-WadSG",
        "colab": {
          "base_uri": "https://localhost:8080/"
        },
        "outputId": "a28c2415-64b1-4390-a2cd-db69dd702537"
      },
      "execution_count": null,
      "outputs": [
        {
          "output_type": "stream",
          "name": "stdout",
          "text": [
            "              precision    recall  f1-score   support\n",
            "\n",
            "        high       0.83      0.82      0.83       271\n",
            "         low       0.91      0.91      0.91       529\n",
            "\n",
            "    accuracy                           0.88       800\n",
            "   macro avg       0.87      0.87      0.87       800\n",
            "weighted avg       0.88      0.88      0.88       800\n",
            "\n"
          ]
        }
      ]
    },
    {
      "cell_type": "code",
      "source": [
        "#produce Cohen's Kappa value\n",
        "metrics.cohen_kappa_score(y_pred, y_train)"
      ],
      "metadata": {
        "id": "dca19MgrJhtt",
        "colab": {
          "base_uri": "https://localhost:8080/"
        },
        "outputId": "a1648232-85a7-49e6-9850-12fb030d704d"
      },
      "execution_count": null,
      "outputs": [
        {
          "output_type": "execute_result",
          "data": {
            "text/plain": [
              "0.7398091934084996"
            ]
          },
          "metadata": {},
          "execution_count": 40
        }
      ]
    },
    {
      "cell_type": "code",
      "source": [
        "#generate value counts for the DV\n",
        "df['Performance_Evaluation'].value_counts()"
      ],
      "metadata": {
        "id": "ZvckIa1MJmKG",
        "colab": {
          "base_uri": "https://localhost:8080/"
        },
        "outputId": "9f578ae8-23c9-45e3-f4af-f826b30f269d"
      },
      "execution_count": null,
      "outputs": [
        {
          "output_type": "execute_result",
          "data": {
            "text/plain": [
              "low     658\n",
              "high    342\n",
              "Name: Performance_Evaluation, dtype: int64"
            ]
          },
          "metadata": {},
          "execution_count": 41
        }
      ]
    },
    {
      "cell_type": "code",
      "source": [
        "#calculate naive baseline accuracy\n",
        "print('baseline accuracy =', 658/len(df))"
      ],
      "metadata": {
        "id": "n0jZiJY3Jtra",
        "colab": {
          "base_uri": "https://localhost:8080/"
        },
        "outputId": "ea99c508-81c1-4ce0-afd8-fe56e88330df"
      },
      "execution_count": null,
      "outputs": [
        {
          "output_type": "stream",
          "name": "stdout",
          "text": [
            "baseline accuracy = 0.658\n"
          ]
        }
      ]
    },
    {
      "cell_type": "code",
      "source": [
        "#produce lift value\n",
        "print('lift =', 0.91/0.658)"
      ],
      "metadata": {
        "id": "bS0_nDE1J5gr",
        "colab": {
          "base_uri": "https://localhost:8080/"
        },
        "outputId": "e2b4fbe1-760c-4a0a-cd94-48e2d97cee38"
      },
      "execution_count": null,
      "outputs": [
        {
          "output_type": "stream",
          "name": "stdout",
          "text": [
            "lift = 1.3829787234042552\n"
          ]
        }
      ]
    },
    {
      "cell_type": "code",
      "source": [
        "# replace with code to generate confusion matrix to compare predicted classes to actual outcomes (model performance cheat sheet)\n",
        "conf = confusion_matrix(y_train, y_pred)\n",
        "\n",
        "sns.heatmap(conf, annot=True, fmt='g') # display confusion matrix as a heatmap\n",
        "sns.set(rc={'figure.figsize':(12,10)})\n",
        "plt.xlabel('Predicted Class')\n",
        "plt.ylabel('Actual Class')\n",
        "plt.show()"
      ],
      "metadata": {
        "id": "_o2AuJMvbED_",
        "colab": {
          "base_uri": "https://localhost:8080/",
          "height": 347
        },
        "outputId": "1ee2d29a-857c-4581-f4a5-ca0a381f9704"
      },
      "execution_count": null,
      "outputs": [
        {
          "output_type": "display_data",
          "data": {
            "text/plain": [
              "<Figure size 640x480 with 2 Axes>"
            ],
            "image/png": "[encoded data removed]"
          },
          "metadata": {}
        }
      ]
    },
    {
      "cell_type": "markdown",
      "source": [
        "**Results interpretation for ALL of the results generated in 3B:**\n",
        "\n",
        "We can interpret the results of Kappa because it measures how well our model is performaning above chance. It ranges from 0-1, 1 being better so this value is good. Next, Lift = 1.38 which means that this model performas 1.38 times better than a baseline prediction at identifying truly positive cases. Our model acuracy is 88% which is over 10% better than the baseline accuracy of 65.8%. This improvement justifies the use of the model. The value counts of the DV shows us that the positive in this case the Performance_Evaluation is about double what the negative is. When comparing, we see it as a higher risk for the company to hire someone bad that we thought would be good, then hiring someone who is good that we thought would perform bad. So in this case we would use recall of .91 as the performance measure.\n"
      ],
      "metadata": {
        "id": "-D7XPjJjdMas"
      }
    },
    {
      "cell_type": "markdown",
      "source": [
        "## **C**\n",
        "\n",
        "**Create at least one visualization with a caption or description about how this visualization contributes towards a *meaningful* interpretation of the manager performance data. Draw from the visualization portion of this course, and create your own relevant visualization, label it, and include a brief caption.**\n",
        "\n",
        "**You may choose to focus on only one or two variables (i.e., it does not need to include all IVs). Imagine you're presenting this analysis to your supervisor or another stakeholder. Create a visualization you would use to illustrate a trend you noted in the Part 3 analysis.**"
      ],
      "metadata": {
        "id": "d4YPBNJIij5e"
      }
    },
    {
      "cell_type": "code",
      "source": [
        "df.boxplot(column=['Teamwork'], by=['Performance_Evaluation'], figsize=(8,6))\n",
        "plt.show()\n",
        "# replace with code for producing plot -- see Data Understanding Module ICE and cheat sheet for code on producing visualizations"
      ],
      "metadata": {
        "id": "BT9nXtrQjtHW",
        "colab": {
          "base_uri": "https://localhost:8080/",
          "height": 357
        },
        "outputId": "4b2fc3da-99a6-4b71-dd68-7ef74529a155"
      },
      "execution_count": null,
      "outputs": [
        {
          "output_type": "display_data",
          "data": {
            "text/plain": [
              "<Figure size 800x600 with 1 Axes>"
            ],
            "image/png": "[encoded data removed]"
          },
          "metadata": {}
        }
      ]
    },
    {
      "cell_type": "markdown",
      "source": [
        "**Caption:** This visulization shows two boxplots grouped by the value of Performance_Evaluation (0=False, 1=True). The managers with a performance evaluation of high have a higher teamwork median compared to the low performance evaluation managers."
      ],
      "metadata": {
        "id": "eXoj3beTj-k1"
      }
    },
    {
      "cell_type": "markdown",
      "source": [
        "# **Part 4: Supervised DM Technique 2**\n",
        "\n",
        "**Using the `manager_performance_clean.csv`, conduct another type of supervised data mining technique in Python. It cannot be decision tree or linear regression (from Part 3). But it should be a data mining technique that can be used on this dataset, so again think about the DV and its data variable type. Referring to the data mining flow chart from the supervised DM lecture might be helpful, or review the summary slides for the supervised DM technqiues covered in this class during lectures.**\n",
        "\n",
        "## A\n",
        "**First, identify which model you have chosen and why. Focus on the data variable types and the dependent variable in the manager performance dataset. HINT: Think about different types of supervised models we've learned about - regression vs classification, and don't reuse the model type used in Part 3.**"
      ],
      "metadata": {
        "id": "GKea83-zkPDv"
      }
    },
    {
      "cell_type": "markdown",
      "source": [
        "The model we chose was logistic regression. We chose this model because it is a supervised analysis that uses qualitative data as well as quantitative. Logistic regression is used to predict the log odds of a binominal DV."
      ],
      "metadata": {
        "id": "3BUojaU6a9BL"
      }
    },
    {
      "cell_type": "markdown",
      "source": [
        "## B\n",
        "\n",
        "**Train and evaluate your model using 10-fold cross-validation and provide any relevant plots and results. Interpret these results based on the positive class being `Performance_Evaluation_low`. DO NOT EVALUATE YOUR MODEL ON THE TEST SET UNTIL PART 5.**\n",
        "\n",
        "> **Use a 80-20 training and test-set split, then perform 10-fold cross validation on the training set. Evaluate the cross-validated accuracy, kappa, lift, precision, recall, and f-measure; then generate a confusion matrix to compare the actual classes of the DV from the training set (e.g., y_train), against the predicted classes (y_pred).**\n",
        "\n",
        "> **Also note that we are focused on prediction for this assignment, not interpretation. Generation of a model summary table is NOT required.**\n",
        "\n",
        "> **When performing the `train_test_split`, set your `test_size = 0.2`, `random_state` to 100.**\n",
        "\n",
        "> **When performing cross-validation, set your random_state to 1. Failing to complete this step may results in your group members having different training and test sets and different cross-validation results!!!**\n",
        "\n",
        "**Do not just restate the results. Tell me what these results *mean*. Revisit the previous exercises and cheat sheets for the chosen model and model performance module to remember what the relevant steps are and what the interpretation should focus on.**"
      ],
      "metadata": {
        "id": "rIKSKO_UbPKe"
      }
    },
    {
      "cell_type": "code",
      "source": [
        "from sklearn.model_selection import KFold\n",
        "from sklearn.model_selection import train_test_split\n",
        "from sklearn.model_selection import cross_validate\n",
        "from sklearn.model_selection import cross_val_predict\n",
        "from sklearn.metrics import classification_report, confusion_matrix\n",
        "import sklearn.metrics as metrics\n",
        "\n",
        "from sklearn.linear_model import LogisticRegression"
      ],
      "metadata": {
        "id": "-uNm7XCcb64v"
      },
      "execution_count": null,
      "outputs": []
    },
    {
      "cell_type": "code",
      "source": [
        "df = pd.read_csv(\"/content/manager_performance_clean.csv\")\n",
        "#preview the data set\n",
        "df.head()"
      ],
      "metadata": {
        "colab": {
          "base_uri": "https://localhost:8080/",
          "height": 270
        },
        "id": "0OJDpJHAdJtH",
        "outputId": "4b2359a5-dfaf-4e88-9d34-5f10e9a5fbeb"
      },
      "execution_count": null,
      "outputs": [
        {
          "output_type": "execute_result",
          "data": {
            "text/plain": [
              "   Manager_ID  Time_Employed  Num_Prev_Positions  Teamwork  Motivation  \\\n",
              "0           1              8                   2         4          10   \n",
              "1           2              4                   3         8           7   \n",
              "2           3              3                   3         1           7   \n",
              "3           4              9                   1         4           4   \n",
              "4           5              7                   3         3           2   \n",
              "\n",
              "   Leadership Performance_Evaluation  \n",
              "0           8                   high  \n",
              "1           8                   high  \n",
              "2           5                    low  \n",
              "3           5                    low  \n",
              "4          10                    low  "
            ],
            "text/html": [
              "\n",
              "  <div id=\"df-bb7ef6fe-3e3d-4135-96d9-538e9a80dfb9\">\n",
              "    <div class=\"colab-df-container\">\n",
              "      <div>\n",
              "<style scoped>\n",
              "    .dataframe tbody tr th:only-of-type {\n",
              "        vertical-align: middle;\n",
              "    }\n",
              "\n",
              "    .dataframe tbody tr th {\n",
              "        vertical-align: top;\n",
              "    }\n",
              "\n",
              "    .dataframe thead th {\n",
              "        text-align: right;\n",
              "    }\n",
              "</style>\n",
              "<table border=\"1\" class=\"dataframe\">\n",
              "  <thead>\n",
              "    <tr style=\"text-align: right;\">\n",
              "      <th></th>\n",
              "      <th>Manager_ID</th>\n",
              "      <th>Time_Employed</th>\n",
              "      <th>Num_Prev_Positions</th>\n",
              "      <th>Teamwork</th>\n",
              "      <th>Motivation</th>\n",
              "      <th>Leadership</th>\n",
              "      <th>Performance_Evaluation</th>\n",
              "    </tr>\n",
              "  </thead>\n",
              "  <tbody>\n",
              "    <tr>\n",
              "      <th>0</th>\n",
              "      <td>1</td>\n",
              "      <td>8</td>\n",
              "      <td>2</td>\n",
              "      <td>4</td>\n",
              "      <td>10</td>\n",
              "      <td>8</td>\n",
              "      <td>high</td>\n",
              "    </tr>\n",
              "    <tr>\n",
              "      <th>1</th>\n",
              "      <td>2</td>\n",
              "      <td>4</td>\n",
              "      <td>3</td>\n",
              "      <td>8</td>\n",
              "      <td>7</td>\n",
              "      <td>8</td>\n",
              "      <td>high</td>\n",
              "    </tr>\n",
              "    <tr>\n",
              "      <th>2</th>\n",
              "      <td>3</td>\n",
              "      <td>3</td>\n",
              "      <td>3</td>\n",
              "      <td>1</td>\n",
              "      <td>7</td>\n",
              "      <td>5</td>\n",
              "      <td>low</td>\n",
              "    </tr>\n",
              "    <tr>\n",
              "      <th>3</th>\n",
              "      <td>4</td>\n",
              "      <td>9</td>\n",
              "      <td>1</td>\n",
              "      <td>4</td>\n",
              "      <td>4</td>\n",
              "      <td>5</td>\n",
              "      <td>low</td>\n",
              "    </tr>\n",
              "    <tr>\n",
              "      <th>4</th>\n",
              "      <td>5</td>\n",
              "      <td>7</td>\n",
              "      <td>3</td>\n",
              "      <td>3</td>\n",
              "      <td>2</td>\n",
              "      <td>10</td>\n",
              "      <td>low</td>\n",
              "    </tr>\n",
              "  </tbody>\n",
              "</table>\n",
              "</div>\n",
              "      <button class=\"colab-df-convert\" onclick=\"convertToInteractive('df-bb7ef6fe-3e3d-4135-96d9-538e9a80dfb9')\"\n",
              "              title=\"Convert this dataframe to an interactive table.\"\n",
              "              style=\"display:none;\">\n",
              "        \n",
              "  <svg xmlns=\"http://www.w3.org/2000/svg\" height=\"24px\"viewBox=\"0 0 24 24\"\n",
              "       width=\"24px\">\n",
              "    <path d=\"M0 0h24v24H0V0z\" fill=\"none\"/>\n",
              "    <path d=\"M18.56 5.44l.94 2.06.94-2.06 2.06-.94-2.06-.94-.94-2.06-.94 2.06-2.06.94zm-11 1L8.5 8.5l.94-2.06 2.06-.94-2.06-.94L8.5 2.5l-.94 2.06-2.06.94zm10 10l.94 2.06.94-2.06 2.06-.94-2.06-.94-.94-2.06-.94 2.06-2.06.94z\"/><path d=\"M17.41 7.96l-1.37-1.37c-.4-.4-.92-.59-1.43-.59-.52 0-1.04.2-1.43.59L10.3 9.45l-7.72 7.72c-.78.78-.78 2.05 0 2.83L4 21.41c.39.39.9.59 1.41.59.51 0 1.02-.2 1.41-.59l7.78-7.78 2.81-2.81c.8-.78.8-2.07 0-2.86zM5.41 20L4 18.59l7.72-7.72 1.47 1.35L5.41 20z\"/>\n",
              "  </svg>\n",
              "      </button>\n",
              "      \n",
              "  <style>\n",
              "    .colab-df-container {\n",
              "      display:flex;\n",
              "      flex-wrap:wrap;\n",
              "      gap: 12px;\n",
              "    }\n",
              "\n",
              "    .colab-df-convert {\n",
              "      background-color: #E8F0FE;\n",
              "      border: none;\n",
              "      border-radius: 50%;\n",
              "      cursor: pointer;\n",
              "      display: none;\n",
              "      fill: #1967D2;\n",
              "      height: 32px;\n",
              "      padding: 0 0 0 0;\n",
              "      width: 32px;\n",
              "    }\n",
              "\n",
              "    .colab-df-convert:hover {\n",
              "      background-color: #E2EBFA;\n",
              "      box-shadow: 0px 1px 2px rgba(60, 64, 67, 0.3), 0px 1px 3px 1px rgba(60, 64, 67, 0.15);\n",
              "      fill: #174EA6;\n",
              "    }\n",
              "\n",
              "    [theme=dark] .colab-df-convert {\n",
              "      background-color: #3B4455;\n",
              "      fill: #D2E3FC;\n",
              "    }\n",
              "\n",
              "    [theme=dark] .colab-df-convert:hover {\n",
              "      background-color: #434B5C;\n",
              "      box-shadow: 0px 1px 3px 1px rgba(0, 0, 0, 0.15);\n",
              "      filter: drop-shadow(0px 1px 2px rgba(0, 0, 0, 0.3));\n",
              "      fill: #FFFFFF;\n",
              "    }\n",
              "  </style>\n",
              "\n",
              "      <script>\n",
              "        const buttonEl =\n",
              "          document.querySelector('#df-bb7ef6fe-3e3d-4135-96d9-538e9a80dfb9 button.colab-df-convert');\n",
              "        buttonEl.style.display =\n",
              "          google.colab.kernel.accessAllowed ? 'block' : 'none';\n",
              "\n",
              "        async function convertToInteractive(key) {\n",
              "          const element = document.querySelector('#df-bb7ef6fe-3e3d-4135-96d9-538e9a80dfb9');\n",
              "          const dataTable =\n",
              "            await google.colab.kernel.invokeFunction('convertToInteractive',\n",
              "                                                     [key], {});\n",
              "          if (!dataTable) return;\n",
              "\n",
              "          const docLinkHtml = 'Like what you see? Visit the ' +\n",
              "            '<a target=\"_blank\" href=https://colab.research.google.com/notebooks/data_table.ipynb>data table notebook</a>'\n",
              "            + ' to learn more about interactive tables.';\n",
              "          element.innerHTML = '';\n",
              "          dataTable['output_type'] = 'display_data';\n",
              "          await google.colab.output.renderOutput(dataTable, element);\n",
              "          const docLink = document.createElement('div');\n",
              "          docLink.innerHTML = docLinkHtml;\n",
              "          element.appendChild(docLink);\n",
              "        }\n",
              "      </script>\n",
              "    </div>\n",
              "  </div>\n",
              "  "
            ]
          },
          "metadata": {},
          "execution_count": 47
        }
      ]
    },
    {
      "cell_type": "code",
      "source": [
        "x = df.drop(['Manager_ID', 'Performance_Evaluation'], axis=1) #remove primary key, the DV, and any collinear variables you may have identified\n",
        "x = pd.get_dummies(data = x, drop_first = True) #dummy code any categorical IVs\n",
        "\n",
        "y = df['Performance_Evaluation'] #assign DV to 'y' object\n",
        "y = pd.get_dummies(data = y, drop_first = True) #dummy code the y variable so python treats it as binominal/dichotomous\n",
        "\n",
        "# replace with code to create x and y objects -- perform any necessary preprocessing (see logistic regression cheat sheet)"
      ],
      "metadata": {
        "id": "9ALdwlr8cV8h"
      },
      "execution_count": null,
      "outputs": []
    },
    {
      "cell_type": "code",
      "source": [
        "x_train, x_test, y_train, y_test = train_test_split(x, y, test_size = 0.2, random_state=100) #set a test and training split\n",
        "print(x_train.shape)\n",
        "print(x_test.shape)\n",
        "print(y_train.shape)\n",
        "print(y_test.shape)\n",
        "\n",
        "\n",
        "# replace with code to perform training-test split, random state = 100 (see logistic regression cheat sheet)\n",
        "#replace with code to print these 4 dataframes for the train and test sets for x and y"
      ],
      "metadata": {
        "id": "QL54jMblcj_G",
        "colab": {
          "base_uri": "https://localhost:8080/"
        },
        "outputId": "b4e802ff-7e92-4dd2-dece-9bbb8b450e0e"
      },
      "execution_count": null,
      "outputs": [
        {
          "output_type": "stream",
          "name": "stdout",
          "text": [
            "(800, 5)\n",
            "(200, 5)\n",
            "(800, 1)\n",
            "(200, 1)\n"
          ]
        }
      ]
    },
    {
      "cell_type": "code",
      "source": [
        "cv = KFold(n_splits = 10, random_state = 1, shuffle = True)\n",
        "\n",
        "# replace with code to specify cross-validation parameters -- see model performance cheat sheet for these next few steps"
      ],
      "metadata": {
        "id": "I2eALQdde4J8"
      },
      "execution_count": null,
      "outputs": []
    },
    {
      "cell_type": "code",
      "source": [
        "model = LogisticRegression()\n",
        "# replace with code to specify model"
      ],
      "metadata": {
        "id": "8AVI-qihctnH"
      },
      "execution_count": null,
      "outputs": []
    },
    {
      "cell_type": "code",
      "source": [
        "scoring = {'acc': 'accuracy',\n",
        "           'f1' : 'f1',\n",
        "           'precision' : 'precision',\n",
        "           'recall' : 'recall',\n",
        "           'roc_auc' : 'roc_auc',\n",
        "           'r2' : 'r2'}\n",
        "# replace with code to create scoring dictionary"
      ],
      "metadata": {
        "id": "klosLCvrcw5T"
      },
      "execution_count": null,
      "outputs": []
    },
    {
      "cell_type": "code",
      "source": [
        "scores = cross_validate(model, x_train, y_train, scoring = scoring, cv = cv, return_train_score=False)\n",
        "\n",
        "# replace with code to run cross-validated model and produce evaluation metric scores"
      ],
      "metadata": {
        "id": "BAU9OA5jcz-R"
      },
      "execution_count": null,
      "outputs": []
    },
    {
      "cell_type": "code",
      "source": [
        "scores = pd.DataFrame(scores, columns = scores.keys())\n",
        "scores.mean()\n",
        "# replace with code to show scores output (avg over all validation rounds)"
      ],
      "metadata": {
        "id": "2sl8QMDcc48-",
        "colab": {
          "base_uri": "https://localhost:8080/"
        },
        "outputId": "225f4346-4815-4aed-b0fd-b4aa0708b4b7"
      },
      "execution_count": null,
      "outputs": [
        {
          "output_type": "execute_result",
          "data": {
            "text/plain": [
              "fit_time          0.017999\n",
              "score_time        0.054506\n",
              "test_acc          0.878750\n",
              "test_f1           0.909377\n",
              "test_precision    0.902920\n",
              "test_recall       0.917016\n",
              "test_roc_auc      0.954374\n",
              "test_r2           0.450444\n",
              "dtype: float64"
            ]
          },
          "metadata": {},
          "execution_count": 54
        }
      ]
    },
    {
      "cell_type": "code",
      "source": [
        "df['Performance_Evaluation'].value_counts()\n",
        "# replace with code to generate value counts for the DV"
      ],
      "metadata": {
        "colab": {
          "base_uri": "https://localhost:8080/"
        },
        "id": "nFagjrrKUdxM",
        "outputId": "387fb30f-a264-444b-d75a-350e61fefba6"
      },
      "execution_count": null,
      "outputs": [
        {
          "output_type": "execute_result",
          "data": {
            "text/plain": [
              "low     658\n",
              "high    342\n",
              "Name: Performance_Evaluation, dtype: int64"
            ]
          },
          "metadata": {},
          "execution_count": 55
        }
      ]
    },
    {
      "cell_type": "code",
      "source": [
        "print('baseline accuracy =', 658/len(df))\n",
        "#replace with code to calculate the naive baseline accuracy"
      ],
      "metadata": {
        "id": "j0QQUYbzdYNj",
        "colab": {
          "base_uri": "https://localhost:8080/"
        },
        "outputId": "aeff148c-d6ac-4662-db13-6841efaed77e"
      },
      "execution_count": null,
      "outputs": [
        {
          "output_type": "stream",
          "name": "stdout",
          "text": [
            "baseline accuracy = 0.658\n"
          ]
        }
      ]
    },
    {
      "cell_type": "code",
      "source": [
        "y_pred = cross_val_predict(model, x_train, y_train, cv = cv) # create a y_pred object\n",
        "metrics.cohen_kappa_score(y_train, y_pred)\n",
        "\n",
        "#replace with code to produce the Cohen's Kappa value"
      ],
      "metadata": {
        "id": "H4glZDZV8al1",
        "colab": {
          "base_uri": "https://localhost:8080/"
        },
        "outputId": "e90ee7e5-3620-443b-edbb-89140343f4cd"
      },
      "execution_count": null,
      "outputs": [
        {
          "output_type": "execute_result",
          "data": {
            "text/plain": [
              "0.7255778425326054"
            ]
          },
          "metadata": {},
          "execution_count": 57
        }
      ]
    },
    {
      "cell_type": "code",
      "source": [
        "lift = 0.902920/0.658\n",
        "#replace with code to produce the lift value\n",
        "print('lift =', lift)"
      ],
      "metadata": {
        "id": "kD2WbO0i8oUg",
        "colab": {
          "base_uri": "https://localhost:8080/"
        },
        "outputId": "6a94a450-64b3-4b07-ae00-aad6ef1c10cf"
      },
      "execution_count": null,
      "outputs": [
        {
          "output_type": "stream",
          "name": "stdout",
          "text": [
            "lift = 1.3722188449848023\n"
          ]
        }
      ]
    },
    {
      "cell_type": "code",
      "source": [
        "y_pred = cross_val_predict(model, x_train, y_train, cv = cv) # if you haven't already done so, create y_pred object\n",
        "conf = confusion_matrix(y_train, y_pred) # generate confusion matrix on y_train against y_pred\n",
        "\n",
        "sns.heatmap(conf, annot=True, fmt='g') # display confusion matrix as a heatmap\n",
        "sns.set(rc={'figure.figsize':(12,10)})\n",
        "plt.xlabel('Predicted Class')\n",
        "plt.ylabel('Actual Class')\n",
        "plt.show()\n",
        "\n",
        "# replace with code to produce confusion matrix (model performance cheat sheet)"
      ],
      "metadata": {
        "id": "An_wkGB1c_zH",
        "colab": {
          "base_uri": "https://localhost:8080/",
          "height": 386
        },
        "outputId": "d9f2ca1e-b707-4ed9-99df-f5c61cce8b68"
      },
      "execution_count": null,
      "outputs": [
        {
          "output_type": "display_data",
          "data": {
            "text/plain": [
              "<Figure size 1200x1000 with 2 Axes>"
            ],
            "image/png": "[encoded data removed]"
          },
          "metadata": {}
        }
      ]
    },
    {
      "cell_type": "markdown",
      "source": [
        "**Results Interpretation for ALL of the results generated in 4B:**\n",
        "\n",
        "We can interpret the results of Kappa because it measures how well our model is performaning above chance. It ranges from 0-1, 1 being better so this value is good. Next, Lift = 1.37 which means that this model performs 1.37 times better than a baseline prediction at identifying truly positive cases. Our model acuracy is 88% which is over 10% better than the baseline accuracy of 65.8%. This improvement justifies the use of the model. The value counts of the DV shows us that the positive in this case the Performance_Evaluation is about double what the negative is. When comparing, we see it as a higher risk for the company to hire someone bad that we thought would be good, then hiring someone who is good that we thought would perform bad. So in this case we would use recall of .917 as the performance measure.\n"
      ],
      "metadata": {
        "id": "FS64nWSddvY4"
      }
    },
    {
      "cell_type": "markdown",
      "source": [
        "## **C**\n",
        "\n",
        "**Create at least one visualization with a caption or description about how this visualization contributes towards a *meaningful* interpretation of the manager performance data. Draw from the visualization portion of this course, and create your own relevant visualization, label it, and include a brief caption.**\n",
        "\n",
        "**You may choose to focus on only one or two variables (i.e., it does not need to include all IVs). Imagine you're presenting this analysis to your supervisor or another stakeholder. Create a visualization you would use to illustrate a trend you noted in the Part 3 analysis.**"
      ],
      "metadata": {
        "id": "BjrRP7zYgqh6"
      }
    },
    {
      "cell_type": "code",
      "source": [
        "# replace with code to produce plot -- see Data Understanding Module ICE or cheat sheet for how to produce visualizations\n",
        "df.boxplot(column=['Motivation'], by=['Performance_Evaluation'], figsize=(8,6))\n",
        "plt.show()"
      ],
      "metadata": {
        "id": "RFyHnxpBg1_y",
        "colab": {
          "base_uri": "https://localhost:8080/",
          "height": 357
        },
        "outputId": "dec0cfb5-493d-442c-9c41-b5692009c90b"
      },
      "execution_count": null,
      "outputs": [
        {
          "output_type": "display_data",
          "data": {
            "text/plain": [
              "<Figure size 800x600 with 1 Axes>"
            ],
            "image/png": "[encoded data removed]"
          },
          "metadata": {}
        }
      ]
    },
    {
      "cell_type": "markdown",
      "source": [
        "**Caption:** This visulization shows two boxplots grouped by the value of Performance_Evaluation_low (0=False, 1=True). The managers with a performance evaluation of high have a higher motivation median compared to the low performance evaluation managers. High performance managers also have one outlier."
      ],
      "metadata": {
        "id": "ifHt4f-1iFmM"
      }
    },
    {
      "cell_type": "markdown",
      "source": [
        "# **Part 5: Evaluation of Models & Business Recommendations (50 points)**\n",
        "\n",
        "**Compare the results of the two supervised DM technqiues by presenting their scores in a dataframe in the form of a table. The index should be set to indicate the model (e.g., model_1, model_2), and the columns should indicate the evaluation metric (e.g., precision, recall, etc.).**"
      ],
      "metadata": {
        "id": "bIjQZQ6liYjJ"
      }
    },
    {
      "cell_type": "code",
      "source": [
        "model_1 = (0.91, 0.91, 0.91, 0.88, 0.74, 1.38) #replace each with applicable values for precision, recall, f-1, accuracy, kappa, and lift\n",
        "model_2 = (0.90, 0.92, 0.91, 0.88, 0.73, 1.37)  #replace each with applicable values for precision, recall, f-1, accuracy, kappa, and lift\n",
        "\n",
        "models = model_1, model_2\n",
        "\n",
        "model_compare = pd.DataFrame(data = models,\n",
        "                        index = [\"model_1\", \"model_2\"],\n",
        "                        columns = [\"precision\",\n",
        "                                   \"recall\",\n",
        "                                   \"f-1\",\n",
        "                                   \"accuracy\",\n",
        "                                   \"kappa\",\n",
        "                                   \"lift\"])\n",
        "model_compare"
      ],
      "metadata": {
        "id": "v_TfLS00jYWw",
        "colab": {
          "base_uri": "https://localhost:8080/",
          "height": 176
        },
        "outputId": "d11e61e6-b837-4878-e97c-09515037cb82"
      },
      "execution_count": null,
      "outputs": [
        {
          "output_type": "execute_result",
          "data": {
            "text/plain": [
              "         precision  recall   f-1  accuracy  kappa  lift\n",
              "model_1       0.91    0.91  0.91      0.88   0.74  1.38\n",
              "model_2       0.90    0.92  0.91      0.88   0.73  1.37"
            ],
            "text/html": [
              "\n",
              "  <div id=\"df-06afe007-933f-489f-91f4-d0038fe22245\">\n",
              "    <div class=\"colab-df-container\">\n",
              "      <div>\n",
              "<style scoped>\n",
              "    .dataframe tbody tr th:only-of-type {\n",
              "        vertical-align: middle;\n",
              "    }\n",
              "\n",
              "    .dataframe tbody tr th {\n",
              "        vertical-align: top;\n",
              "    }\n",
              "\n",
              "    .dataframe thead th {\n",
              "        text-align: right;\n",
              "    }\n",
              "</style>\n",
              "<table border=\"1\" class=\"dataframe\">\n",
              "  <thead>\n",
              "    <tr style=\"text-align: right;\">\n",
              "      <th></th>\n",
              "      <th>precision</th>\n",
              "      <th>recall</th>\n",
              "      <th>f-1</th>\n",
              "      <th>accuracy</th>\n",
              "      <th>kappa</th>\n",
              "      <th>lift</th>\n",
              "    </tr>\n",
              "  </thead>\n",
              "  <tbody>\n",
              "    <tr>\n",
              "      <th>model_1</th>\n",
              "      <td>0.91</td>\n",
              "      <td>0.91</td>\n",
              "      <td>0.91</td>\n",
              "      <td>0.88</td>\n",
              "      <td>0.74</td>\n",
              "      <td>1.38</td>\n",
              "    </tr>\n",
              "    <tr>\n",
              "      <th>model_2</th>\n",
              "      <td>0.90</td>\n",
              "      <td>0.92</td>\n",
              "      <td>0.91</td>\n",
              "      <td>0.88</td>\n",
              "      <td>0.73</td>\n",
              "      <td>1.37</td>\n",
              "    </tr>\n",
              "  </tbody>\n",
              "</table>\n",
              "</div>\n",
              "      <button class=\"colab-df-convert\" onclick=\"convertToInteractive('df-06afe007-933f-489f-91f4-d0038fe22245')\"\n",
              "              title=\"Convert this dataframe to an interactive table.\"\n",
              "              style=\"display:none;\">\n",
              "        \n",
              "  <svg xmlns=\"http://www.w3.org/2000/svg\" height=\"24px\"viewBox=\"0 0 24 24\"\n",
              "       width=\"24px\">\n",
              "    <path d=\"M0 0h24v24H0V0z\" fill=\"none\"/>\n",
              "    <path d=\"M18.56 5.44l.94 2.06.94-2.06 2.06-.94-2.06-.94-.94-2.06-.94 2.06-2.06.94zm-11 1L8.5 8.5l.94-2.06 2.06-.94-2.06-.94L8.5 2.5l-.94 2.06-2.06.94zm10 10l.94 2.06.94-2.06 2.06-.94-2.06-.94-.94-2.06-.94 2.06-2.06.94z\"/><path d=\"M17.41 7.96l-1.37-1.37c-.4-.4-.92-.59-1.43-.59-.52 0-1.04.2-1.43.59L10.3 9.45l-7.72 7.72c-.78.78-.78 2.05 0 2.83L4 21.41c.39.39.9.59 1.41.59.51 0 1.02-.2 1.41-.59l7.78-7.78 2.81-2.81c.8-.78.8-2.07 0-2.86zM5.41 20L4 18.59l7.72-7.72 1.47 1.35L5.41 20z\"/>\n",
              "  </svg>\n",
              "      </button>\n",
              "      \n",
              "  <style>\n",
              "    .colab-df-container {\n",
              "      display:flex;\n",
              "      flex-wrap:wrap;\n",
              "      gap: 12px;\n",
              "    }\n",
              "\n",
              "    .colab-df-convert {\n",
              "      background-color: #E8F0FE;\n",
              "      border: none;\n",
              "      border-radius: 50%;\n",
              "      cursor: pointer;\n",
              "      display: none;\n",
              "      fill: #1967D2;\n",
              "      height: 32px;\n",
              "      padding: 0 0 0 0;\n",
              "      width: 32px;\n",
              "    }\n",
              "\n",
              "    .colab-df-convert:hover {\n",
              "      background-color: #E2EBFA;\n",
              "      box-shadow: 0px 1px 2px rgba(60, 64, 67, 0.3), 0px 1px 3px 1px rgba(60, 64, 67, 0.15);\n",
              "      fill: #174EA6;\n",
              "    }\n",
              "\n",
              "    [theme=dark] .colab-df-convert {\n",
              "      background-color: #3B4455;\n",
              "      fill: #D2E3FC;\n",
              "    }\n",
              "\n",
              "    [theme=dark] .colab-df-convert:hover {\n",
              "      background-color: #434B5C;\n",
              "      box-shadow: 0px 1px 3px 1px rgba(0, 0, 0, 0.15);\n",
              "      filter: drop-shadow(0px 1px 2px rgba(0, 0, 0, 0.3));\n",
              "      fill: #FFFFFF;\n",
              "    }\n",
              "  </style>\n",
              "\n",
              "      <script>\n",
              "        const buttonEl =\n",
              "          document.querySelector('#df-06afe007-933f-489f-91f4-d0038fe22245 button.colab-df-convert');\n",
              "        buttonEl.style.display =\n",
              "          google.colab.kernel.accessAllowed ? 'block' : 'none';\n",
              "\n",
              "        async function convertToInteractive(key) {\n",
              "          const element = document.querySelector('#df-06afe007-933f-489f-91f4-d0038fe22245');\n",
              "          const dataTable =\n",
              "            await google.colab.kernel.invokeFunction('convertToInteractive',\n",
              "                                                     [key], {});\n",
              "          if (!dataTable) return;\n",
              "\n",
              "          const docLinkHtml = 'Like what you see? Visit the ' +\n",
              "            '<a target=\"_blank\" href=https://colab.research.google.com/notebooks/data_table.ipynb>data table notebook</a>'\n",
              "            + ' to learn more about interactive tables.';\n",
              "          element.innerHTML = '';\n",
              "          dataTable['output_type'] = 'display_data';\n",
              "          await google.colab.output.renderOutput(dataTable, element);\n",
              "          const docLink = document.createElement('div');\n",
              "          docLink.innerHTML = docLinkHtml;\n",
              "          element.appendChild(docLink);\n",
              "        }\n",
              "      </script>\n",
              "    </div>\n",
              "  </div>\n",
              "  "
            ]
          },
          "metadata": {},
          "execution_count": 61
        }
      ]
    },
    {
      "cell_type": "markdown",
      "source": [
        "## **B**\n",
        "\n",
        "**Which model performed better and why? Which performance metrics (list their values) were used to determine this and why?**"
      ],
      "metadata": {
        "id": "U0OpTztXlAtw"
      }
    },
    {
      "cell_type": "markdown",
      "source": [
        "When taking into account the cost of false negatives and uneven class distribtuion we believe that model 2 is the best option to assess Performance Evaluation. Based off of this information, the performance metric of recall would be most valuable. The recall of model 1 was 0.91. The recall of model 2 was 0.92."
      ],
      "metadata": {
        "id": "VApu2WlmlKIJ"
      }
    },
    {
      "cell_type": "markdown",
      "source": [
        "## C\n",
        "\n",
        "**Fit whichever model you chose as the best-performing model to the test-set, then run a classification report. Do the evaluation metrics drop considerably or not? What does this potentially indicate?**"
      ],
      "metadata": {
        "id": "8uL9EIjsl7IC"
      }
    },
    {
      "cell_type": "code",
      "source": [
        "model = LogisticRegression()\n",
        "# replace with code to specify model\n",
        "\n",
        "model.fit(x_train, y_train)\n",
        "# replace with code to fit model to x_train and y_train\n",
        "\n",
        "predictions = model.predict(x_test)\n",
        "# replace with code to predict onto x_test\n",
        "\n",
        "print(classification_report(y_test, predictions))\n",
        "# replace with code to print the classification report"
      ],
      "metadata": {
        "id": "jQqqW_FemJKC",
        "colab": {
          "base_uri": "https://localhost:8080/"
        },
        "outputId": "71c2e756-f94e-4b6b-c93b-abef48d77194"
      },
      "execution_count": null,
      "outputs": [
        {
          "output_type": "stream",
          "name": "stdout",
          "text": [
            "              precision    recall  f1-score   support\n",
            "\n",
            "           0       0.94      0.82      0.88        74\n",
            "           1       0.90      0.97      0.93       126\n",
            "\n",
            "    accuracy                           0.92       200\n",
            "   macro avg       0.92      0.90      0.91       200\n",
            "weighted avg       0.92      0.92      0.91       200\n",
            "\n"
          ]
        }
      ]
    },
    {
      "cell_type": "markdown",
      "source": [
        "The precision metric stayed the same at .90. The recall metric increased from .92 to .97 which indicates a more acurate model with less false negatives. The f1-score increased from .91 to .93 which indicates a more precise model when compared to 1 which is perfect.\n",
        "\n",
        "\n",
        "Overall this indicates that this model performed comparatively better. The model is not overfit because the closeness of the performance metrics.\n"
      ],
      "metadata": {
        "id": "kFShzYE2n6Dr"
      }
    },
    {
      "cell_type": "markdown",
      "source": [
        "## D\n",
        "\n",
        "**What business recommendations can be made after this analysis? Please write an Executive Summary (1 paragraph) including the following:**\n",
        "\n",
        "\n",
        "\n",
        "1.   **Note the business problem**\n",
        "2.   **Briefly describe the steps taken to resolve the business problem**\n",
        "3.   **Indicate your level of confidence that your best-performing model will generalize to new data on managers performance**\n",
        "4.   **Briefly describe your business recommendations; what might be some important characteristics (based on our IVs) to consider when hiring new managers?**\n",
        "\n"
      ],
      "metadata": {
        "id": "TSRJvUqpoHXf"
      }
    },
    {
      "cell_type": "markdown",
      "source": [
        "The business problem in this dataset is to determine how prospective managers will perform. First we prepared the dataset by cleaning it and began to understand the individual performance attributes that we would use to evaluate prospective managers. Then we used data mining techniques to make eduacated decisions such as clustering analysis,  logistic regression, and decision trees. Finally we were able to compare the different models and determine which one is best for the business problem. Based off of our model accuracy, f-1 score, etc., we can compare our model to the baseline accuracy and feel confident that our best perfoming model will be able to generalize to new data on managers performance. We would recommend to the HR director to consider the higher risk of  hiring someone who is a low performer that we thought would be a high performer, then hiring someone who is a high performer that we thought would be a low performer, this can be costly to the company. We felt that motivation, teamwork, and leadership were the most impactful characteristics to consider when hiring new managers.Other characteristics such as time employed and number previous positions held are still used in the model but have less of an impact."
      ],
      "metadata": {
        "id": "4JJbl8j_ok7p"
      }
    }
  ]
}